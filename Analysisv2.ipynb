{
 "cells": [
  {
   "cell_type": "code",
   "execution_count": 1,
   "id": "0ec77281",
   "metadata": {},
   "outputs": [],
   "source": [
    "from sklearn.feature_extraction import DictVectorizer\n",
    "import xgboost as xgb\n",
    "import pandas as pd\n",
    "import numpy as np\n",
    "import pickle\n",
    "import os\n",
    "import re\n",
    "import matplotlib.pyplot as plt\n",
    "from xgboost import XGBClassifier\n",
    "from sklearn.metrics import roc_curve\n",
    "from sklearn.metrics import roc_auc_score\n",
    "from matplotlib import pyplot\n",
    "from hdfs import InsecureClient\n",
    "import string\n",
    "from nltk import word_tokenize\n",
    "from nltk.corpus import stopwords\n",
    "from sklearn.linear_model import LogisticRegression\n",
    "from collections import OrderedDict\n",
    "client_hdfs = InsecureClient(\"http://10.65.31.100:50070\")"
   ]
  },
  {
   "cell_type": "code",
   "execution_count": 2,
   "id": "9446f302",
   "metadata": {},
   "outputs": [],
   "source": [
    "def data_read(url):\n",
    "    with client_hdfs.read(url , encoding = 'utf-8') as reader:\n",
    "        if client_hdfs.content(url)[\"spaceConsumed\"]>1000:\n",
    "            df_input = pd.read_csv(reader,names=[\"name\"])\n",
    "            return df_input"
   ]
  },
  {
   "cell_type": "code",
   "execution_count": 3,
   "id": "9b7ec96b",
   "metadata": {},
   "outputs": [],
   "source": [
    "with client_hdfs.read( \"/user/dataplatform/indicium/temp/NM/newregistration12345/part-00000\" , encoding = 'utf-8') as reader:\n",
    "    df = pd.read_csv(reader)   "
   ]
  },
  {
   "cell_type": "code",
   "execution_count": 4,
   "id": "0df7e091",
   "metadata": {},
   "outputs": [
    {
     "data": {
      "text/html": [
       "<div>\n",
       "<style scoped>\n",
       "    .dataframe tbody tr th:only-of-type {\n",
       "        vertical-align: middle;\n",
       "    }\n",
       "\n",
       "    .dataframe tbody tr th {\n",
       "        vertical-align: top;\n",
       "    }\n",
       "\n",
       "    .dataframe thead th {\n",
       "        text-align: right;\n",
       "    }\n",
       "</style>\n",
       "<table border=\"1\" class=\"dataframe\">\n",
       "  <thead>\n",
       "    <tr style=\"text-align: right;\">\n",
       "      <th></th>\n",
       "      <th>imsId</th>\n",
       "      <th>guid</th>\n",
       "      <th>displayName</th>\n",
       "      <th>firstName</th>\n",
       "      <th>middleName</th>\n",
       "      <th>lastName</th>\n",
       "      <th>gender</th>\n",
       "    </tr>\n",
       "  </thead>\n",
       "  <tbody>\n",
       "    <tr>\n",
       "      <th>0</th>\n",
       "      <td>VjAxI2E0M2FjNmJmLTQ2MTAtNDY3Ny1iMDkzLTRlZTQzOD...</td>\n",
       "      <td>d0a75161-edfd-4348-a1d2-b41a66ae287f</td>\n",
       "      <td>kumar bhoir</td>\n",
       "      <td>kumar</td>\n",
       "      <td>NaN</td>\n",
       "      <td>bhoir</td>\n",
       "      <td>m</td>\n",
       "    </tr>\n",
       "    <tr>\n",
       "      <th>1</th>\n",
       "      <td>VjAxI2E0M2JkODQ3LTYzN2YtNDc5My1hOGMwLWZiNDgwMT...</td>\n",
       "      <td>645ffcf7-abcc-4c6b-93d2-7af6fae5c1be</td>\n",
       "      <td>shreyash gangwar</td>\n",
       "      <td>shreyash</td>\n",
       "      <td>NaN</td>\n",
       "      <td>gangwar</td>\n",
       "      <td>m</td>\n",
       "    </tr>\n",
       "    <tr>\n",
       "      <th>2</th>\n",
       "      <td>VjAxI2E0M2NlMzcwLWQ3YWItNGU0Mi05YTE5LTZlOTkyNT...</td>\n",
       "      <td>1847122d-9dce-497c-a12b-eaf7c475c902</td>\n",
       "      <td>juned</td>\n",
       "      <td>juned</td>\n",
       "      <td>NaN</td>\n",
       "      <td>NaN</td>\n",
       "      <td>m</td>\n",
       "    </tr>\n",
       "    <tr>\n",
       "      <th>3</th>\n",
       "      <td>VjAxI2E0M2Q3NTU0LTVhZTQtNDJmYS04MmE1LWJhYTk0YW...</td>\n",
       "      <td>2142d281-77fa-4021-aeb5-b2b241c15951</td>\n",
       "      <td>kranthi kumar</td>\n",
       "      <td>kranthi</td>\n",
       "      <td>NaN</td>\n",
       "      <td>kumar</td>\n",
       "      <td>m</td>\n",
       "    </tr>\n",
       "    <tr>\n",
       "      <th>4</th>\n",
       "      <td>VjAxI2E0MDAyNDM1LTQ1NzktNGI5ZC05YzFlLWQ2NzFkMj...</td>\n",
       "      <td>6c4901e0-9b45-4d9e-ba5c-c482a426b3e9</td>\n",
       "      <td>ramesh chariya</td>\n",
       "      <td>ramesh</td>\n",
       "      <td>NaN</td>\n",
       "      <td>chariya</td>\n",
       "      <td>f</td>\n",
       "    </tr>\n",
       "  </tbody>\n",
       "</table>\n",
       "</div>"
      ],
      "text/plain": [
       "                                               imsId  \\\n",
       "0  VjAxI2E0M2FjNmJmLTQ2MTAtNDY3Ny1iMDkzLTRlZTQzOD...   \n",
       "1  VjAxI2E0M2JkODQ3LTYzN2YtNDc5My1hOGMwLWZiNDgwMT...   \n",
       "2  VjAxI2E0M2NlMzcwLWQ3YWItNGU0Mi05YTE5LTZlOTkyNT...   \n",
       "3  VjAxI2E0M2Q3NTU0LTVhZTQtNDJmYS04MmE1LWJhYTk0YW...   \n",
       "4  VjAxI2E0MDAyNDM1LTQ1NzktNGI5ZC05YzFlLWQ2NzFkMj...   \n",
       "\n",
       "                                   guid       displayName firstName  \\\n",
       "0  d0a75161-edfd-4348-a1d2-b41a66ae287f       kumar bhoir     kumar   \n",
       "1  645ffcf7-abcc-4c6b-93d2-7af6fae5c1be  shreyash gangwar  shreyash   \n",
       "2  1847122d-9dce-497c-a12b-eaf7c475c902             juned     juned   \n",
       "3  2142d281-77fa-4021-aeb5-b2b241c15951     kranthi kumar   kranthi   \n",
       "4  6c4901e0-9b45-4d9e-ba5c-c482a426b3e9    ramesh chariya    ramesh   \n",
       "\n",
       "  middleName lastName gender  \n",
       "0        NaN    bhoir      m  \n",
       "1        NaN  gangwar      m  \n",
       "2        NaN      NaN      m  \n",
       "3        NaN    kumar      m  \n",
       "4        NaN  chariya      f  "
      ]
     },
     "execution_count": 4,
     "metadata": {},
     "output_type": "execute_result"
    }
   ],
   "source": [
    "df.head()"
   ]
  },
  {
   "cell_type": "code",
   "execution_count": 5,
   "id": "e997fc8b",
   "metadata": {},
   "outputs": [
    {
     "name": "stdout",
     "output_type": "stream",
     "text": [
      "<class 'pandas.core.frame.DataFrame'>\n",
      "RangeIndex: 23486164 entries, 0 to 23486163\n",
      "Data columns (total 7 columns):\n",
      " #   Column       Dtype \n",
      "---  ------       ----- \n",
      " 0   imsId        object\n",
      " 1   guid         object\n",
      " 2   displayName  object\n",
      " 3   firstName    object\n",
      " 4   middleName   object\n",
      " 5   lastName     object\n",
      " 6   gender       object\n",
      "dtypes: object(7)\n",
      "memory usage: 1.2+ GB\n"
     ]
    }
   ],
   "source": [
    "df.info()"
   ]
  },
  {
   "cell_type": "code",
   "execution_count": 6,
   "id": "ce2e363a",
   "metadata": {},
   "outputs": [],
   "source": [
    "df=df[df[\"guid\"].notna()]"
   ]
  },
  {
   "cell_type": "code",
   "execution_count": 7,
   "id": "47b3ccb4",
   "metadata": {},
   "outputs": [],
   "source": [
    "df.fillna(' ', inplace=True)"
   ]
  },
  {
   "cell_type": "code",
   "execution_count": 8,
   "id": "79f0b767",
   "metadata": {},
   "outputs": [
    {
     "data": {
      "text/plain": [
       "(23486164, 2)"
      ]
     },
     "metadata": {},
     "output_type": "display_data"
    },
    {
     "data": {
      "text/plain": [
       "(23151963, 2)"
      ]
     },
     "metadata": {},
     "output_type": "display_data"
    }
   ],
   "source": [
    "imsMaping = df[[\"guid\",\"imsId\"]].reset_index(drop=True)\n",
    "display(imsMaping.shape)\n",
    "imsMaping = imsMaping.drop_duplicates(subset={'guid'})\n",
    "display(imsMaping.shape)"
   ]
  },
  {
   "cell_type": "code",
   "execution_count": 9,
   "id": "56c128a2",
   "metadata": {},
   "outputs": [],
   "source": [
    "df.drop_duplicates(subset={'guid','displayName','firstName','middleName','lastName','gender'},inplace=True)\n",
    "df = df.replace({'default':' '})\n",
    "df['FullName'] = df['displayName']+ \" \" + df['firstName'] + \" \" + df['middleName'] + \" \" +df['lastName']"
   ]
  },
  {
   "cell_type": "code",
   "execution_count": 10,
   "id": "9e6914a5",
   "metadata": {},
   "outputs": [],
   "source": [
    "def remove_punctuations(text):\n",
    "    rmvSpcchar = re.compile(\"[/(){}\\[\\]\\|&@,;_'.-]\")\n",
    "    rmvBadSym = re.compile('[^\\d+\\0-9a-z#+_]')\n",
    "    rmvNumbers = re.compile('\\d+')\n",
    "    text = re.sub(rmvSpcchar, ' ', text)\n",
    "    text = re.sub(rmvBadSym, ' ', text)\n",
    "    text = re.sub(rmvNumbers, ' ', text)\n",
    "    return text"
   ]
  },
  {
   "cell_type": "code",
   "execution_count": 11,
   "id": "8309c7cc",
   "metadata": {},
   "outputs": [],
   "source": [
    "df[\"FullNameCleaned\"] = df[\"FullName\"].apply(lambda x: remove_punctuations(x))"
   ]
  },
  {
   "cell_type": "code",
   "execution_count": 12,
   "id": "6938e096",
   "metadata": {},
   "outputs": [],
   "source": [
    "df['Cleaned Name']=df['FullNameCleaned'].apply(lambda x: list(filter(None,OrderedDict.fromkeys(x.split(\" \")))))"
   ]
  },
  {
   "cell_type": "code",
   "execution_count": 13,
   "id": "39e1cfc7",
   "metadata": {},
   "outputs": [
    {
     "data": {
      "text/plain": [
       "0                [kumar, bhoir]\n",
       "1           [shreyash, gangwar]\n",
       "2                       [juned]\n",
       "3              [kranthi, kumar]\n",
       "4             [ramesh, chariya]\n",
       "                   ...         \n",
       "23486159       [karthik, gumma]\n",
       "23486160         [guri, kainth]\n",
       "23486161      [sadiq, siddiuqe]\n",
       "23486162        [akash, dhurwe]\n",
       "23486163    [day, aram, bairwa]\n",
       "Name: Cleaned Name, Length: 23277334, dtype: object"
      ]
     },
     "execution_count": 13,
     "metadata": {},
     "output_type": "execute_result"
    }
   ],
   "source": [
    "df['Cleaned Name']"
   ]
  },
  {
   "cell_type": "code",
   "execution_count": 14,
   "id": "9c4805a8",
   "metadata": {},
   "outputs": [],
   "source": [
    "df.drop(['firstName','middleName','lastName'],axis=1,inplace=True)"
   ]
  },
  {
   "cell_type": "code",
   "execution_count": 15,
   "id": "1a20ba81",
   "metadata": {},
   "outputs": [],
   "source": [
    "df['Counts'] = df['Cleaned Name'].apply(lambda x: len(x))\n",
    "index_names = df[ df[\"Counts\"]==0 ].index\n",
    "df.drop(index_names, inplace = True)"
   ]
  },
  {
   "cell_type": "code",
   "execution_count": 16,
   "id": "8659b36a",
   "metadata": {},
   "outputs": [],
   "source": [
    "df['FirstName'] = df['Cleaned Name'].apply(lambda x: x[0])"
   ]
  },
  {
   "cell_type": "code",
   "execution_count": 17,
   "id": "d2ab6c92",
   "metadata": {},
   "outputs": [],
   "source": [
    "df[\"FirstNameLength\"] = df[\"FirstName\"].apply(lambda x: len(x))\n",
    "df = df[df[\"FirstNameLength\"]>=3]"
   ]
  },
  {
   "cell_type": "code",
   "execution_count": 18,
   "id": "c24d93e4",
   "metadata": {},
   "outputs": [],
   "source": [
    "df['LastName'] = df['Cleaned Name'].apply(lambda x: x[1] if len(x)>1 else \"\")"
   ]
  },
  {
   "cell_type": "code",
   "execution_count": 19,
   "id": "29fda141",
   "metadata": {},
   "outputs": [],
   "source": [
    "df['ExtendedName'] = df['Cleaned Name'].apply(lambda x: \" \".join(x[2:]) if len(x)>2 else \"\")"
   ]
  },
  {
   "cell_type": "code",
   "execution_count": 20,
   "id": "6ae32575",
   "metadata": {},
   "outputs": [
    {
     "data": {
      "text/html": [
       "<div>\n",
       "<style scoped>\n",
       "    .dataframe tbody tr th:only-of-type {\n",
       "        vertical-align: middle;\n",
       "    }\n",
       "\n",
       "    .dataframe tbody tr th {\n",
       "        vertical-align: top;\n",
       "    }\n",
       "\n",
       "    .dataframe thead th {\n",
       "        text-align: right;\n",
       "    }\n",
       "</style>\n",
       "<table border=\"1\" class=\"dataframe\">\n",
       "  <thead>\n",
       "    <tr style=\"text-align: right;\">\n",
       "      <th></th>\n",
       "      <th>imsId</th>\n",
       "      <th>guid</th>\n",
       "      <th>displayName</th>\n",
       "      <th>gender</th>\n",
       "      <th>FullName</th>\n",
       "      <th>FullNameCleaned</th>\n",
       "      <th>Cleaned Name</th>\n",
       "      <th>Counts</th>\n",
       "      <th>FirstName</th>\n",
       "      <th>FirstNameLength</th>\n",
       "      <th>LastName</th>\n",
       "      <th>ExtendedName</th>\n",
       "    </tr>\n",
       "  </thead>\n",
       "  <tbody>\n",
       "    <tr>\n",
       "      <th>11826</th>\n",
       "      <td>VjAxI2VlMWJhMzI5LTEzNzEtNDcxNi04OTNhLTg4MmQzNz...</td>\n",
       "      <td>502087a9-a9fb-476f-936e-d2de4c5d8496</td>\n",
       "      <td>unknown user</td>\n",
       "      <td>f</td>\n",
       "      <td>unknown user unknown   user</td>\n",
       "      <td>unknown user unknown   user</td>\n",
       "      <td>[unknown, user]</td>\n",
       "      <td>2</td>\n",
       "      <td>unknown</td>\n",
       "      <td>7</td>\n",
       "      <td>user</td>\n",
       "      <td></td>\n",
       "    </tr>\n",
       "    <tr>\n",
       "      <th>72190</th>\n",
       "      <td>VjUwIzcyZGM3ODgzLTg4ZTItNDkxZS04YWI4LThjYjQzNj...</td>\n",
       "      <td>c65c45b2-1bee-47e4-abda-547c2ed8c98b</td>\n",
       "      <td>unknown vaibhav</td>\n",
       "      <td>m</td>\n",
       "      <td>unknown vaibhav unknown vaibhav</td>\n",
       "      <td>unknown vaibhav unknown vaibhav</td>\n",
       "      <td>[unknown, vaibhav]</td>\n",
       "      <td>2</td>\n",
       "      <td>unknown</td>\n",
       "      <td>7</td>\n",
       "      <td>vaibhav</td>\n",
       "      <td></td>\n",
       "    </tr>\n",
       "    <tr>\n",
       "      <th>121338</th>\n",
       "      <td>VjUwI2JiZjZhNDZjLTE0MDgtNDdkOS1hM2I3LWZkYmVlNm...</td>\n",
       "      <td>978bf437-ebfc-495b-a1b4-f23bbf923e2d</td>\n",
       "      <td>unknown gaming official</td>\n",
       "      <td>m</td>\n",
       "      <td>unknown gaming official unknown gaming officia...</td>\n",
       "      <td>unknown gaming official unknown gaming officia...</td>\n",
       "      <td>[unknown, gaming, official]</td>\n",
       "      <td>3</td>\n",
       "      <td>unknown</td>\n",
       "      <td>7</td>\n",
       "      <td>gaming</td>\n",
       "      <td>official</td>\n",
       "    </tr>\n",
       "    <tr>\n",
       "      <th>122635</th>\n",
       "      <td>VjUwI2M4NTQzMTBjLTgwODAtNDY4MC05NmFmLWM5ZjU4Y2...</td>\n",
       "      <td>3061efc8-2760-4870-aa12-d67881c0eeb9</td>\n",
       "      <td>unknown gaming galaxie</td>\n",
       "      <td>m</td>\n",
       "      <td>unknown gaming galaxie unknown gaming galaxie ...</td>\n",
       "      <td>unknown gaming galaxie unknown gaming galaxie ...</td>\n",
       "      <td>[unknown, gaming, galaxie]</td>\n",
       "      <td>3</td>\n",
       "      <td>unknown</td>\n",
       "      <td>7</td>\n",
       "      <td>gaming</td>\n",
       "      <td>galaxie</td>\n",
       "    </tr>\n",
       "    <tr>\n",
       "      <th>146803</th>\n",
       "      <td>VjUwIzY1NDI5YjVmLWI3MGQtNGNiMC1hNDFjLTkwNjcxOW...</td>\n",
       "      <td>44fc10f6-3a38-4fe6-89b3-1cfa63ae3ac9</td>\n",
       "      <td>unknown name</td>\n",
       "      <td>m</td>\n",
       "      <td>unknown name unknown name   name</td>\n",
       "      <td>unknown name unknown name   name</td>\n",
       "      <td>[unknown, name]</td>\n",
       "      <td>2</td>\n",
       "      <td>unknown</td>\n",
       "      <td>7</td>\n",
       "      <td>name</td>\n",
       "      <td></td>\n",
       "    </tr>\n",
       "    <tr>\n",
       "      <th>...</th>\n",
       "      <td>...</td>\n",
       "      <td>...</td>\n",
       "      <td>...</td>\n",
       "      <td>...</td>\n",
       "      <td>...</td>\n",
       "      <td>...</td>\n",
       "      <td>...</td>\n",
       "      <td>...</td>\n",
       "      <td>...</td>\n",
       "      <td>...</td>\n",
       "      <td>...</td>\n",
       "      <td>...</td>\n",
       "    </tr>\n",
       "    <tr>\n",
       "      <th>23235768</th>\n",
       "      <td>VjUwIzJjZWVjMjdkLTRiMDQtNDA5OC05ZDI0LTg3MmIwYW...</td>\n",
       "      <td>2433cd18-e66b-4e54-89e6-73ace3d46b80</td>\n",
       "      <td>unknown boy juyel</td>\n",
       "      <td>m</td>\n",
       "      <td>unknown boy juyel unknown boy juyel   juyel</td>\n",
       "      <td>unknown boy juyel unknown boy juyel   juyel</td>\n",
       "      <td>[unknown, boy, juyel]</td>\n",
       "      <td>3</td>\n",
       "      <td>unknown</td>\n",
       "      <td>7</td>\n",
       "      <td>boy</td>\n",
       "      <td>juyel</td>\n",
       "    </tr>\n",
       "    <tr>\n",
       "      <th>23239477</th>\n",
       "      <td>VjUwIzQ5MmQ0NzQzLTBkMjQtNDY2NC1hNGZkLTkyNGNhND...</td>\n",
       "      <td>1d6e6066-7aed-4ec8-9dd3-361695dcfbd6</td>\n",
       "      <td>unknown brand</td>\n",
       "      <td>m</td>\n",
       "      <td>unknown brand unknown brand</td>\n",
       "      <td>unknown brand unknown brand</td>\n",
       "      <td>[unknown, brand]</td>\n",
       "      <td>2</td>\n",
       "      <td>unknown</td>\n",
       "      <td>7</td>\n",
       "      <td>brand</td>\n",
       "      <td></td>\n",
       "    </tr>\n",
       "    <tr>\n",
       "      <th>23296677</th>\n",
       "      <td>VjUwI2M0MzM1MWVjLWU3YjctNGQ1OS05OWFjLTVjYjYzMm...</td>\n",
       "      <td>73784003-ccfb-4795-9d72-f346f1bbc5ae</td>\n",
       "      <td>unknown</td>\n",
       "      <td>m</td>\n",
       "      <td>unknown unknown</td>\n",
       "      <td>unknown unknown</td>\n",
       "      <td>[unknown]</td>\n",
       "      <td>1</td>\n",
       "      <td>unknown</td>\n",
       "      <td>7</td>\n",
       "      <td></td>\n",
       "      <td></td>\n",
       "    </tr>\n",
       "    <tr>\n",
       "      <th>23346999</th>\n",
       "      <td>VjAxIzBhMjU1OGJlLTFkZTUtNDhhOC1iMDNkLTc2ZGJjMm...</td>\n",
       "      <td>d259d738-413e-4621-a663-90f595464985</td>\n",
       "      <td>unknown</td>\n",
       "      <td>m</td>\n",
       "      <td>unknown unknown   gonugunta</td>\n",
       "      <td>unknown unknown   gonugunta</td>\n",
       "      <td>[unknown, gonugunta]</td>\n",
       "      <td>2</td>\n",
       "      <td>unknown</td>\n",
       "      <td>7</td>\n",
       "      <td>gonugunta</td>\n",
       "      <td></td>\n",
       "    </tr>\n",
       "    <tr>\n",
       "      <th>23474341</th>\n",
       "      <td>VjUwIzU2OTg4M2FiLWVkMTctNDRlMi1iNGYyLTM1N2QwZG...</td>\n",
       "      <td>5e3abdad-5636-460f-be8b-c2f3a99572fc</td>\n",
       "      <td>unknown tamilan</td>\n",
       "      <td>m</td>\n",
       "      <td>unknown tamilan unknown tamilan</td>\n",
       "      <td>unknown tamilan unknown tamilan</td>\n",
       "      <td>[unknown, tamilan]</td>\n",
       "      <td>2</td>\n",
       "      <td>unknown</td>\n",
       "      <td>7</td>\n",
       "      <td>tamilan</td>\n",
       "      <td></td>\n",
       "    </tr>\n",
       "  </tbody>\n",
       "</table>\n",
       "<p>530 rows × 12 columns</p>\n",
       "</div>"
      ],
      "text/plain": [
       "                                                      imsId  \\\n",
       "11826     VjAxI2VlMWJhMzI5LTEzNzEtNDcxNi04OTNhLTg4MmQzNz...   \n",
       "72190     VjUwIzcyZGM3ODgzLTg4ZTItNDkxZS04YWI4LThjYjQzNj...   \n",
       "121338    VjUwI2JiZjZhNDZjLTE0MDgtNDdkOS1hM2I3LWZkYmVlNm...   \n",
       "122635    VjUwI2M4NTQzMTBjLTgwODAtNDY4MC05NmFmLWM5ZjU4Y2...   \n",
       "146803    VjUwIzY1NDI5YjVmLWI3MGQtNGNiMC1hNDFjLTkwNjcxOW...   \n",
       "...                                                     ...   \n",
       "23235768  VjUwIzJjZWVjMjdkLTRiMDQtNDA5OC05ZDI0LTg3MmIwYW...   \n",
       "23239477  VjUwIzQ5MmQ0NzQzLTBkMjQtNDY2NC1hNGZkLTkyNGNhND...   \n",
       "23296677  VjUwI2M0MzM1MWVjLWU3YjctNGQ1OS05OWFjLTVjYjYzMm...   \n",
       "23346999  VjAxIzBhMjU1OGJlLTFkZTUtNDhhOC1iMDNkLTc2ZGJjMm...   \n",
       "23474341  VjUwIzU2OTg4M2FiLWVkMTctNDRlMi1iNGYyLTM1N2QwZG...   \n",
       "\n",
       "                                          guid              displayName  \\\n",
       "11826     502087a9-a9fb-476f-936e-d2de4c5d8496             unknown user   \n",
       "72190     c65c45b2-1bee-47e4-abda-547c2ed8c98b          unknown vaibhav   \n",
       "121338    978bf437-ebfc-495b-a1b4-f23bbf923e2d  unknown gaming official   \n",
       "122635    3061efc8-2760-4870-aa12-d67881c0eeb9   unknown gaming galaxie   \n",
       "146803    44fc10f6-3a38-4fe6-89b3-1cfa63ae3ac9             unknown name   \n",
       "...                                        ...                      ...   \n",
       "23235768  2433cd18-e66b-4e54-89e6-73ace3d46b80        unknown boy juyel   \n",
       "23239477  1d6e6066-7aed-4ec8-9dd3-361695dcfbd6            unknown brand   \n",
       "23296677  73784003-ccfb-4795-9d72-f346f1bbc5ae                  unknown   \n",
       "23346999  d259d738-413e-4621-a663-90f595464985                  unknown   \n",
       "23474341  5e3abdad-5636-460f-be8b-c2f3a99572fc          unknown tamilan   \n",
       "\n",
       "         gender                                           FullName  \\\n",
       "11826         f                        unknown user unknown   user   \n",
       "72190         m                unknown vaibhav unknown vaibhav       \n",
       "121338        m  unknown gaming official unknown gaming officia...   \n",
       "122635        m  unknown gaming galaxie unknown gaming galaxie ...   \n",
       "146803        m                   unknown name unknown name   name   \n",
       "...         ...                                                ...   \n",
       "23235768      m        unknown boy juyel unknown boy juyel   juyel   \n",
       "23239477      m                    unknown brand unknown brand       \n",
       "23296677      m                                unknown unknown       \n",
       "23346999      m                        unknown unknown   gonugunta   \n",
       "23474341      m                unknown tamilan unknown tamilan       \n",
       "\n",
       "                                            FullNameCleaned  \\\n",
       "11826                           unknown user unknown   user   \n",
       "72190                   unknown vaibhav unknown vaibhav       \n",
       "121338    unknown gaming official unknown gaming officia...   \n",
       "122635    unknown gaming galaxie unknown gaming galaxie ...   \n",
       "146803                     unknown name unknown name   name   \n",
       "...                                                     ...   \n",
       "23235768        unknown boy juyel unknown boy juyel   juyel   \n",
       "23239477                    unknown brand unknown brand       \n",
       "23296677                                unknown unknown       \n",
       "23346999                        unknown unknown   gonugunta   \n",
       "23474341                unknown tamilan unknown tamilan       \n",
       "\n",
       "                         Cleaned Name  Counts FirstName  FirstNameLength  \\\n",
       "11826                 [unknown, user]       2   unknown                7   \n",
       "72190              [unknown, vaibhav]       2   unknown                7   \n",
       "121338    [unknown, gaming, official]       3   unknown                7   \n",
       "122635     [unknown, gaming, galaxie]       3   unknown                7   \n",
       "146803                [unknown, name]       2   unknown                7   \n",
       "...                               ...     ...       ...              ...   \n",
       "23235768        [unknown, boy, juyel]       3   unknown                7   \n",
       "23239477             [unknown, brand]       2   unknown                7   \n",
       "23296677                    [unknown]       1   unknown                7   \n",
       "23346999         [unknown, gonugunta]       2   unknown                7   \n",
       "23474341           [unknown, tamilan]       2   unknown                7   \n",
       "\n",
       "           LastName ExtendedName  \n",
       "11826          user               \n",
       "72190       vaibhav               \n",
       "121338       gaming     official  \n",
       "122635       gaming      galaxie  \n",
       "146803         name               \n",
       "...             ...          ...  \n",
       "23235768        boy        juyel  \n",
       "23239477      brand               \n",
       "23296677                          \n",
       "23346999  gonugunta               \n",
       "23474341    tamilan               \n",
       "\n",
       "[530 rows x 12 columns]"
      ]
     },
     "execution_count": 20,
     "metadata": {},
     "output_type": "execute_result"
    }
   ],
   "source": [
    "df[df['FirstName']=='unknown']"
   ]
  },
  {
   "cell_type": "code",
   "execution_count": 21,
   "id": "c020919c",
   "metadata": {},
   "outputs": [],
   "source": [
    "directRecommendation = df[df[\"FirstName\"].isin(['mr','mrs','smt','kumar','kumari','miss','shri','mohd'])]\n",
    "df.drop(directRecommendation.index,inplace=True)"
   ]
  },
  {
   "cell_type": "code",
   "execution_count": 22,
   "id": "de70c27a",
   "metadata": {},
   "outputs": [],
   "source": [
    "toRemove = df[df[\"FirstName\"].isin(['dr','md','all','gaming','technical','royal','the','day','unknown'])]\n",
    "df.drop(toRemove.index,inplace=True)\n",
    "df = df.reset_index(drop=True)"
   ]
  },
  {
   "cell_type": "code",
   "execution_count": 23,
   "id": "383c6a36",
   "metadata": {},
   "outputs": [
    {
     "data": {
      "text/html": [
       "<div>\n",
       "<style scoped>\n",
       "    .dataframe tbody tr th:only-of-type {\n",
       "        vertical-align: middle;\n",
       "    }\n",
       "\n",
       "    .dataframe tbody tr th {\n",
       "        vertical-align: top;\n",
       "    }\n",
       "\n",
       "    .dataframe thead th {\n",
       "        text-align: right;\n",
       "    }\n",
       "</style>\n",
       "<table border=\"1\" class=\"dataframe\">\n",
       "  <thead>\n",
       "    <tr style=\"text-align: right;\">\n",
       "      <th></th>\n",
       "      <th>imsId</th>\n",
       "      <th>guid</th>\n",
       "      <th>displayName</th>\n",
       "      <th>gender</th>\n",
       "      <th>FullName</th>\n",
       "      <th>FullNameCleaned</th>\n",
       "      <th>Cleaned Name</th>\n",
       "      <th>Counts</th>\n",
       "      <th>FirstName</th>\n",
       "      <th>FirstNameLength</th>\n",
       "      <th>LastName</th>\n",
       "      <th>ExtendedName</th>\n",
       "    </tr>\n",
       "  </thead>\n",
       "  <tbody>\n",
       "  </tbody>\n",
       "</table>\n",
       "</div>"
      ],
      "text/plain": [
       "Empty DataFrame\n",
       "Columns: [imsId, guid, displayName, gender, FullName, FullNameCleaned, Cleaned Name, Counts, FirstName, FirstNameLength, LastName, ExtendedName]\n",
       "Index: []"
      ]
     },
     "execution_count": 23,
     "metadata": {},
     "output_type": "execute_result"
    }
   ],
   "source": [
    "df[df['FirstName']=='unknown']"
   ]
  },
  {
   "cell_type": "code",
   "execution_count": 24,
   "id": "25b407cd",
   "metadata": {},
   "outputs": [
    {
     "data": {
      "text/plain": [
       "rahul               194658\n",
       "amit                132530\n",
       "deepak              124740\n",
       "ravi                115660\n",
       "ajay                106969\n",
       "                     ...  \n",
       "samiton                  1\n",
       "thyageshwar              1\n",
       "maghbara                 1\n",
       "prasenjitdebnath         1\n",
       "adithay                  1\n",
       "Name: FirstName, Length: 1001241, dtype: int64"
      ]
     },
     "execution_count": 24,
     "metadata": {},
     "output_type": "execute_result"
    }
   ],
   "source": [
    "df[\"FirstName\"].value_counts()"
   ]
  },
  {
   "cell_type": "code",
   "execution_count": 25,
   "id": "f29c5fbd",
   "metadata": {},
   "outputs": [],
   "source": [
    "FnFreq = df[\"FirstName\"].value_counts().reset_index()\n",
    "fnList = FnFreq[\"index\"].tolist()"
   ]
  },
  {
   "cell_type": "code",
   "execution_count": 26,
   "id": "83b98c26",
   "metadata": {},
   "outputs": [],
   "source": [
    "LnFreq = df[\"LastName\"].value_counts().reset_index()\n",
    "lnList = LnFreq[\"index\"].tolist()"
   ]
  },
  {
   "cell_type": "code",
   "execution_count": 27,
   "id": "dbbb357e",
   "metadata": {},
   "outputs": [],
   "source": [
    "nameMerge = FnFreq.merge(LnFreq, on =\"index\", how=\"inner\")"
   ]
  },
  {
   "cell_type": "code",
   "execution_count": 28,
   "id": "12657a0a",
   "metadata": {},
   "outputs": [],
   "source": [
    "finalDf = df[[\"imsId\",\"guid\",\"gender\",\"FirstName\"]].reset_index(drop=True)"
   ]
  },
  {
   "cell_type": "code",
   "execution_count": 29,
   "id": "2563a2cd",
   "metadata": {},
   "outputs": [],
   "source": [
    "def is_vowel(char):\n",
    "\n",
    "    if char in ('a', 'e', 'i', 'o', 'u'):\n",
    "        return'1'\n",
    "    else:\n",
    "        return'0' "
   ]
  },
  {
   "cell_type": "code",
   "execution_count": 30,
   "id": "ca05536a",
   "metadata": {},
   "outputs": [],
   "source": [
    "finalDf[\"Vowel_Present\"] = finalDf[\"FirstName\"].apply(lambda x: is_vowel(x[-1]))"
   ]
  },
  {
   "cell_type": "code",
   "execution_count": 31,
   "id": "13bf4222",
   "metadata": {},
   "outputs": [],
   "source": [
    "gender_count=finalDf[['gender','Vowel_Present']].value_counts()"
   ]
  },
  {
   "cell_type": "code",
   "execution_count": 32,
   "id": "9a2d4f94",
   "metadata": {},
   "outputs": [
    {
     "data": {
      "text/plain": [
       "gender  Vowel_Present\n",
       "m       0                13980989\n",
       "        1                 5388856\n",
       "f       1                 1863700\n",
       "        0                 1262595\n",
       "o       0                    7163\n",
       "        1                    3999\n",
       "dtype: int64"
      ]
     },
     "execution_count": 32,
     "metadata": {},
     "output_type": "execute_result"
    }
   ],
   "source": [
    "gender_count"
   ]
  },
  {
   "cell_type": "code",
   "execution_count": 33,
   "id": "6ecbabe5",
   "metadata": {},
   "outputs": [],
   "source": [
    "Females = finalDf[finalDf[\"gender\"]==\"f\"]\n",
    "Males = finalDf[finalDf[\"gender\"]==\"m\"]"
   ]
  },
  {
   "cell_type": "code",
   "execution_count": 34,
   "id": "91e0a5c6",
   "metadata": {},
   "outputs": [
    {
     "data": {
      "text/html": [
       "<div>\n",
       "<style scoped>\n",
       "    .dataframe tbody tr th:only-of-type {\n",
       "        vertical-align: middle;\n",
       "    }\n",
       "\n",
       "    .dataframe tbody tr th {\n",
       "        vertical-align: top;\n",
       "    }\n",
       "\n",
       "    .dataframe thead th {\n",
       "        text-align: right;\n",
       "    }\n",
       "</style>\n",
       "<table border=\"1\" class=\"dataframe\">\n",
       "  <thead>\n",
       "    <tr style=\"text-align: right;\">\n",
       "      <th></th>\n",
       "      <th>imsId</th>\n",
       "      <th>guid</th>\n",
       "      <th>gender</th>\n",
       "      <th>FirstName</th>\n",
       "      <th>Vowel_Present</th>\n",
       "    </tr>\n",
       "  </thead>\n",
       "  <tbody>\n",
       "    <tr>\n",
       "      <th>3</th>\n",
       "      <td>VjAxI2E0MDAyNDM1LTQ1NzktNGI5ZC05YzFlLWQ2NzFkMj...</td>\n",
       "      <td>6c4901e0-9b45-4d9e-ba5c-c482a426b3e9</td>\n",
       "      <td>f</td>\n",
       "      <td>ramesh</td>\n",
       "      <td>0</td>\n",
       "    </tr>\n",
       "    <tr>\n",
       "      <th>32</th>\n",
       "      <td>VjAxI2E0MzY4YWQyLWJhNTItNDVkYy1hOGNjLWJhNzFiNz...</td>\n",
       "      <td>df0b6848-2880-4957-88e5-183051d76e8d</td>\n",
       "      <td>f</td>\n",
       "      <td>thanush</td>\n",
       "      <td>0</td>\n",
       "    </tr>\n",
       "    <tr>\n",
       "      <th>38</th>\n",
       "      <td>VjAxI2E0NDQ4MDgyLWYyMDAtNGJhZC05MWFlLWQyY2FjOD...</td>\n",
       "      <td>6b0d20ef-f95f-4ded-82c7-2df91af0318c</td>\n",
       "      <td>f</td>\n",
       "      <td>sagar</td>\n",
       "      <td>0</td>\n",
       "    </tr>\n",
       "    <tr>\n",
       "      <th>54</th>\n",
       "      <td>VjAxI2E0NjM2NGY2LWZmNWEtNDgxOC1hOTIzLTAyNzQxMT...</td>\n",
       "      <td>ad2e253f-3e1b-450a-950f-b2a5588c8f5a</td>\n",
       "      <td>f</td>\n",
       "      <td>shekh</td>\n",
       "      <td>0</td>\n",
       "    </tr>\n",
       "    <tr>\n",
       "      <th>56</th>\n",
       "      <td>VjAxI2E0NjRlNThiLWY2MDAtNDAwOS1iY2ZlLWJjNTcwYT...</td>\n",
       "      <td>db9ac3ac-f15e-44ec-8394-c06dd24f1476</td>\n",
       "      <td>f</td>\n",
       "      <td>rangrej</td>\n",
       "      <td>0</td>\n",
       "    </tr>\n",
       "    <tr>\n",
       "      <th>...</th>\n",
       "      <td>...</td>\n",
       "      <td>...</td>\n",
       "      <td>...</td>\n",
       "      <td>...</td>\n",
       "      <td>...</td>\n",
       "    </tr>\n",
       "    <tr>\n",
       "      <th>22506545</th>\n",
       "      <td>VjUwIzliNDc4MGM0LWRhZDEtNDkzOS04M2IzLTUxZmUwOD...</td>\n",
       "      <td>28b2e97e-3e90-4af4-ae7b-c449a6c8d1da</td>\n",
       "      <td>f</td>\n",
       "      <td>anees</td>\n",
       "      <td>0</td>\n",
       "    </tr>\n",
       "    <tr>\n",
       "      <th>22506903</th>\n",
       "      <td>VjUwIzlkYTk3MzBhLTY1MGEtNGJjZC1hMmM3LTAxNzFjZD...</td>\n",
       "      <td>82fb67a6-8fed-4465-9a4e-a9b086d6bf05</td>\n",
       "      <td>f</td>\n",
       "      <td>meher</td>\n",
       "      <td>0</td>\n",
       "    </tr>\n",
       "    <tr>\n",
       "      <th>22506981</th>\n",
       "      <td>VjUwIzllMWUzNzU1LWViYjEtNDIyMi1hYmEzLTQ1NWJhM2...</td>\n",
       "      <td>36124e94-6858-4c65-be65-89907012bc7b</td>\n",
       "      <td>f</td>\n",
       "      <td>suman</td>\n",
       "      <td>0</td>\n",
       "    </tr>\n",
       "    <tr>\n",
       "      <th>22507209</th>\n",
       "      <td>VjUwIzlmODFhOWYxLWRlOGItNDAzZi05MDM2LTlmM2FkYm...</td>\n",
       "      <td>967c1919-f7cc-48f1-89fb-36067b42fbcf</td>\n",
       "      <td>f</td>\n",
       "      <td>jasmeet</td>\n",
       "      <td>0</td>\n",
       "    </tr>\n",
       "    <tr>\n",
       "      <th>22507295</th>\n",
       "      <td>VjUwIzlmZjgxNTE1LTVkMmItNDYzNi05NjU5LTc1MWZiYz...</td>\n",
       "      <td>17b38286-8ce8-46a2-91e6-9cd79a367164</td>\n",
       "      <td>f</td>\n",
       "      <td>simran</td>\n",
       "      <td>0</td>\n",
       "    </tr>\n",
       "  </tbody>\n",
       "</table>\n",
       "<p>1262595 rows × 5 columns</p>\n",
       "</div>"
      ],
      "text/plain": [
       "                                                      imsId  \\\n",
       "3         VjAxI2E0MDAyNDM1LTQ1NzktNGI5ZC05YzFlLWQ2NzFkMj...   \n",
       "32        VjAxI2E0MzY4YWQyLWJhNTItNDVkYy1hOGNjLWJhNzFiNz...   \n",
       "38        VjAxI2E0NDQ4MDgyLWYyMDAtNGJhZC05MWFlLWQyY2FjOD...   \n",
       "54        VjAxI2E0NjM2NGY2LWZmNWEtNDgxOC1hOTIzLTAyNzQxMT...   \n",
       "56        VjAxI2E0NjRlNThiLWY2MDAtNDAwOS1iY2ZlLWJjNTcwYT...   \n",
       "...                                                     ...   \n",
       "22506545  VjUwIzliNDc4MGM0LWRhZDEtNDkzOS04M2IzLTUxZmUwOD...   \n",
       "22506903  VjUwIzlkYTk3MzBhLTY1MGEtNGJjZC1hMmM3LTAxNzFjZD...   \n",
       "22506981  VjUwIzllMWUzNzU1LWViYjEtNDIyMi1hYmEzLTQ1NWJhM2...   \n",
       "22507209  VjUwIzlmODFhOWYxLWRlOGItNDAzZi05MDM2LTlmM2FkYm...   \n",
       "22507295  VjUwIzlmZjgxNTE1LTVkMmItNDYzNi05NjU5LTc1MWZiYz...   \n",
       "\n",
       "                                          guid gender FirstName Vowel_Present  \n",
       "3         6c4901e0-9b45-4d9e-ba5c-c482a426b3e9      f    ramesh             0  \n",
       "32        df0b6848-2880-4957-88e5-183051d76e8d      f   thanush             0  \n",
       "38        6b0d20ef-f95f-4ded-82c7-2df91af0318c      f     sagar             0  \n",
       "54        ad2e253f-3e1b-450a-950f-b2a5588c8f5a      f     shekh             0  \n",
       "56        db9ac3ac-f15e-44ec-8394-c06dd24f1476      f   rangrej             0  \n",
       "...                                        ...    ...       ...           ...  \n",
       "22506545  28b2e97e-3e90-4af4-ae7b-c449a6c8d1da      f     anees             0  \n",
       "22506903  82fb67a6-8fed-4465-9a4e-a9b086d6bf05      f     meher             0  \n",
       "22506981  36124e94-6858-4c65-be65-89907012bc7b      f     suman             0  \n",
       "22507209  967c1919-f7cc-48f1-89fb-36067b42fbcf      f   jasmeet             0  \n",
       "22507295  17b38286-8ce8-46a2-91e6-9cd79a367164      f    simran             0  \n",
       "\n",
       "[1262595 rows x 5 columns]"
      ]
     },
     "execution_count": 34,
     "metadata": {},
     "output_type": "execute_result"
    }
   ],
   "source": [
    "Females_0=Females[Females['Vowel_Present']=='0'] #no vowel female gender\n",
    "Females_0"
   ]
  },
  {
   "cell_type": "code",
   "execution_count": 35,
   "id": "85823d3a",
   "metadata": {},
   "outputs": [
    {
     "data": {
      "text/html": [
       "<div>\n",
       "<style scoped>\n",
       "    .dataframe tbody tr th:only-of-type {\n",
       "        vertical-align: middle;\n",
       "    }\n",
       "\n",
       "    .dataframe tbody tr th {\n",
       "        vertical-align: top;\n",
       "    }\n",
       "\n",
       "    .dataframe thead th {\n",
       "        text-align: right;\n",
       "    }\n",
       "</style>\n",
       "<table border=\"1\" class=\"dataframe\">\n",
       "  <thead>\n",
       "    <tr style=\"text-align: right;\">\n",
       "      <th></th>\n",
       "      <th>imsId</th>\n",
       "      <th>guid</th>\n",
       "      <th>gender</th>\n",
       "      <th>FirstName</th>\n",
       "      <th>Vowel_Present</th>\n",
       "    </tr>\n",
       "  </thead>\n",
       "  <tbody>\n",
       "    <tr>\n",
       "      <th>2</th>\n",
       "      <td>VjAxI2E0M2Q3NTU0LTVhZTQtNDJmYS04MmE1LWJhYTk0YW...</td>\n",
       "      <td>2142d281-77fa-4021-aeb5-b2b241c15951</td>\n",
       "      <td>m</td>\n",
       "      <td>kranthi</td>\n",
       "      <td>1</td>\n",
       "    </tr>\n",
       "    <tr>\n",
       "      <th>4</th>\n",
       "      <td>VjAxI2E0MDE1Y2U3LTJjYmQtNGJmNy1iNDRjLWRiODY0N2...</td>\n",
       "      <td>a1fc1522-4921-4571-9638-ab6d083382a1</td>\n",
       "      <td>m</td>\n",
       "      <td>satti</td>\n",
       "      <td>1</td>\n",
       "    </tr>\n",
       "    <tr>\n",
       "      <th>7</th>\n",
       "      <td>VjAxI2E0MDQ5YmIxLTg4ZWItNDBmMS04ZjA1LWViMDg0NW...</td>\n",
       "      <td>fdc23caf-94ce-4fca-94ab-4cf9a8254c49</td>\n",
       "      <td>m</td>\n",
       "      <td>kandiri</td>\n",
       "      <td>1</td>\n",
       "    </tr>\n",
       "    <tr>\n",
       "      <th>20</th>\n",
       "      <td>VjAxI2E0MjA5Yjg0LTVmNWItNDhjZC1hZWJjLTA4N2EzMz...</td>\n",
       "      <td>8d85a7cb-feaf-4a6b-9d7d-d9bb3b7cb44d</td>\n",
       "      <td>m</td>\n",
       "      <td>devendra</td>\n",
       "      <td>1</td>\n",
       "    </tr>\n",
       "    <tr>\n",
       "      <th>27</th>\n",
       "      <td>VjAxI2E0MzFhNmMyLTgyNjYtNDEzYS04YzRmLTM1ZjY2Mz...</td>\n",
       "      <td>da6b7cda-07e5-453a-9ba1-4c7e6627cccc</td>\n",
       "      <td>m</td>\n",
       "      <td>ravindra</td>\n",
       "      <td>1</td>\n",
       "    </tr>\n",
       "    <tr>\n",
       "      <th>...</th>\n",
       "      <td>...</td>\n",
       "      <td>...</td>\n",
       "      <td>...</td>\n",
       "      <td>...</td>\n",
       "      <td>...</td>\n",
       "    </tr>\n",
       "    <tr>\n",
       "      <th>22507285</th>\n",
       "      <td>VjUwIzlmZWU3NWVkLTI2OWYtNDg4OC1iYWE1LWU4YWJhMz...</td>\n",
       "      <td>46ff84cf-fb8f-4ebf-a201-fb9db4d417fc</td>\n",
       "      <td>m</td>\n",
       "      <td>santu</td>\n",
       "      <td>1</td>\n",
       "    </tr>\n",
       "    <tr>\n",
       "      <th>22507286</th>\n",
       "      <td>VjUwIzlmZWY0NGVjLWQ5NzctNDhhYi05M2RiLTRjZjc4YT...</td>\n",
       "      <td>95b56977-89f6-48c7-afb8-ee697a883882</td>\n",
       "      <td>m</td>\n",
       "      <td>rama</td>\n",
       "      <td>1</td>\n",
       "    </tr>\n",
       "    <tr>\n",
       "      <th>22507288</th>\n",
       "      <td>VjUwIzlmZWZkNjllLTU0OTItNGRkOS05Zjk4LWJlMzNjOW...</td>\n",
       "      <td>460a4d8d-95fe-4ce3-99c1-7dd39444564b</td>\n",
       "      <td>m</td>\n",
       "      <td>saloni</td>\n",
       "      <td>1</td>\n",
       "    </tr>\n",
       "    <tr>\n",
       "      <th>22507294</th>\n",
       "      <td>VjUwIzlmZjY2NThlLThiZTQtNDgzNS1iZThmLTZiYWE2NT...</td>\n",
       "      <td>419c81dd-ca8b-404a-b2a4-5888edef7c91</td>\n",
       "      <td>m</td>\n",
       "      <td>pasunuri</td>\n",
       "      <td>1</td>\n",
       "    </tr>\n",
       "    <tr>\n",
       "      <th>22507299</th>\n",
       "      <td>VjUwIzlmZmFjZGRiLTc5YzMtNDQ5Yi1iZDUyLTA1ZmNlND...</td>\n",
       "      <td>2de3b02c-ec34-48c3-ad54-882ac0767522</td>\n",
       "      <td>m</td>\n",
       "      <td>guri</td>\n",
       "      <td>1</td>\n",
       "    </tr>\n",
       "  </tbody>\n",
       "</table>\n",
       "<p>5388856 rows × 5 columns</p>\n",
       "</div>"
      ],
      "text/plain": [
       "                                                      imsId  \\\n",
       "2         VjAxI2E0M2Q3NTU0LTVhZTQtNDJmYS04MmE1LWJhYTk0YW...   \n",
       "4         VjAxI2E0MDE1Y2U3LTJjYmQtNGJmNy1iNDRjLWRiODY0N2...   \n",
       "7         VjAxI2E0MDQ5YmIxLTg4ZWItNDBmMS04ZjA1LWViMDg0NW...   \n",
       "20        VjAxI2E0MjA5Yjg0LTVmNWItNDhjZC1hZWJjLTA4N2EzMz...   \n",
       "27        VjAxI2E0MzFhNmMyLTgyNjYtNDEzYS04YzRmLTM1ZjY2Mz...   \n",
       "...                                                     ...   \n",
       "22507285  VjUwIzlmZWU3NWVkLTI2OWYtNDg4OC1iYWE1LWU4YWJhMz...   \n",
       "22507286  VjUwIzlmZWY0NGVjLWQ5NzctNDhhYi05M2RiLTRjZjc4YT...   \n",
       "22507288  VjUwIzlmZWZkNjllLTU0OTItNGRkOS05Zjk4LWJlMzNjOW...   \n",
       "22507294  VjUwIzlmZjY2NThlLThiZTQtNDgzNS1iZThmLTZiYWE2NT...   \n",
       "22507299  VjUwIzlmZmFjZGRiLTc5YzMtNDQ5Yi1iZDUyLTA1ZmNlND...   \n",
       "\n",
       "                                          guid gender FirstName Vowel_Present  \n",
       "2         2142d281-77fa-4021-aeb5-b2b241c15951      m   kranthi             1  \n",
       "4         a1fc1522-4921-4571-9638-ab6d083382a1      m     satti             1  \n",
       "7         fdc23caf-94ce-4fca-94ab-4cf9a8254c49      m   kandiri             1  \n",
       "20        8d85a7cb-feaf-4a6b-9d7d-d9bb3b7cb44d      m  devendra             1  \n",
       "27        da6b7cda-07e5-453a-9ba1-4c7e6627cccc      m  ravindra             1  \n",
       "...                                        ...    ...       ...           ...  \n",
       "22507285  46ff84cf-fb8f-4ebf-a201-fb9db4d417fc      m     santu             1  \n",
       "22507286  95b56977-89f6-48c7-afb8-ee697a883882      m      rama             1  \n",
       "22507288  460a4d8d-95fe-4ce3-99c1-7dd39444564b      m    saloni             1  \n",
       "22507294  419c81dd-ca8b-404a-b2a4-5888edef7c91      m  pasunuri             1  \n",
       "22507299  2de3b02c-ec34-48c3-ad54-882ac0767522      m      guri             1  \n",
       "\n",
       "[5388856 rows x 5 columns]"
      ]
     },
     "execution_count": 35,
     "metadata": {},
     "output_type": "execute_result"
    }
   ],
   "source": [
    "Males_1=Males[Males['Vowel_Present']=='1']  #with vowel male gender\n",
    "Males_1"
   ]
  },
  {
   "cell_type": "code",
   "execution_count": 36,
   "id": "9a31669d",
   "metadata": {},
   "outputs": [
    {
     "data": {
      "text/plain": [
       "m    19369845\n",
       "f     3126295\n",
       "o       11162\n",
       "Name: gender, dtype: int64"
      ]
     },
     "execution_count": 36,
     "metadata": {},
     "output_type": "execute_result"
    }
   ],
   "source": [
    "df['gender'].value_counts()"
   ]
  },
  {
   "cell_type": "code",
   "execution_count": 37,
   "id": "450c3fff",
   "metadata": {},
   "outputs": [],
   "source": [
    "def features(name):\n",
    "    name=str(name)\n",
    "    name = (name.lower()).split()[0]\n",
    "    return {\n",
    "        'first-letter': name[0], # First letter\n",
    "        'first2-letters': name[0:2], # First 2 letters\n",
    "        'first3-letters': name[0:3], # First 3 letters\n",
    "        'first4-letters': name[0:4],\n",
    "        'last-letter': name[-1],\n",
    "        'vowel': is_vowel(name[-1]),\n",
    "        'last2-letters': name[-2:],\n",
    "        'last3-letters': name[-3:],\n",
    "    }"
   ]
  },
  {
   "cell_type": "code",
   "execution_count": 38,
   "id": "f8030c54",
   "metadata": {},
   "outputs": [],
   "source": [
    "finalDf['binaryGender'] = finalDf['gender'].replace({'m':0,'f':1})"
   ]
  },
  {
   "cell_type": "code",
   "execution_count": 39,
   "id": "91ba1bfe",
   "metadata": {},
   "outputs": [],
   "source": [
    "X=finalDf.drop(['gender','binaryGender','Vowel_Present'],axis=1)"
   ]
  },
  {
   "cell_type": "code",
   "execution_count": 40,
   "id": "c90548cb",
   "metadata": {},
   "outputs": [],
   "source": [
    "y=finalDf['binaryGender']"
   ]
  },
  {
   "cell_type": "code",
   "execution_count": 41,
   "id": "9f008d7b",
   "metadata": {},
   "outputs": [],
   "source": [
    "#y=y.astype(str)"
   ]
  },
  {
   "cell_type": "code",
   "execution_count": 42,
   "id": "8dc71956",
   "metadata": {},
   "outputs": [],
   "source": [
    "from sklearn.feature_extraction import DictVectorizer\n",
    "from sklearn.model_selection import train_test_split\n",
    "\n",
    "X_train, X_test, y_train, y_test = train_test_split(\n",
    "   X, y, test_size=0.25, random_state=42)"
   ]
  },
  {
   "cell_type": "code",
   "execution_count": 43,
   "id": "e4f34655",
   "metadata": {},
   "outputs": [],
   "source": [
    "features = np.vectorize(features)"
   ]
  },
  {
   "cell_type": "code",
   "execution_count": 44,
   "id": "f957f5ab",
   "metadata": {},
   "outputs": [],
   "source": [
    "#X_train=X_train.astype('str')"
   ]
  },
  {
   "cell_type": "code",
   "execution_count": 45,
   "id": "ad762d17",
   "metadata": {},
   "outputs": [
    {
     "name": "stderr",
     "output_type": "stream",
     "text": [
      "/home/datascience/yes/envs/python3.6/lib/python3.6/site-packages/ipykernel_launcher.py:1: SettingWithCopyWarning: \n",
      "A value is trying to be set on a copy of a slice from a DataFrame.\n",
      "Try using .loc[row_indexer,col_indexer] = value instead\n",
      "\n",
      "See the caveats in the documentation: https://pandas.pydata.org/pandas-docs/stable/user_guide/indexing.html#returning-a-view-versus-a-copy\n",
      "  \"\"\"Entry point for launching an IPython kernel.\n"
     ]
    }
   ],
   "source": [
    "X_train[\"flag\"] = X_train[\"FirstName\"].apply(lambda x: x.isalpha())"
   ]
  },
  {
   "cell_type": "code",
   "execution_count": 46,
   "id": "b5177bc5",
   "metadata": {},
   "outputs": [],
   "source": [
    "test = X_train[X_train[\"flag\"]==False]"
   ]
  },
  {
   "cell_type": "code",
   "execution_count": null,
   "id": "774cf89c",
   "metadata": {},
   "outputs": [],
   "source": [
    "test"
   ]
  },
  {
   "cell_type": "code",
   "execution_count": null,
   "id": "7c8a2dbd",
   "metadata": {},
   "outputs": [],
   "source": []
  },
  {
   "cell_type": "code",
   "execution_count": null,
   "id": "8b3102a2",
   "metadata": {},
   "outputs": [],
   "source": []
  },
  {
   "cell_type": "code",
   "execution_count": 47,
   "id": "cef66d5e",
   "metadata": {},
   "outputs": [],
   "source": [
    "namesData=features(X_train['FirstName'])"
   ]
  },
  {
   "cell_type": "code",
   "execution_count": 48,
   "id": "4ba86722",
   "metadata": {},
   "outputs": [],
   "source": [
    "vectorizer = DictVectorizer()"
   ]
  },
  {
   "cell_type": "code",
   "execution_count": null,
   "id": "79655347",
   "metadata": {},
   "outputs": [],
   "source": [
    "vect = vectorizer.fit_transform(namesData)"
   ]
  },
  {
   "cell_type": "code",
   "execution_count": null,
   "id": "8a0f0abd",
   "metadata": {},
   "outputs": [],
   "source": [
    "from sklearn.linear_model import LogisticRegression\n",
    "clf = LogisticRegression(solver='lbfgs',max_iter=1000)"
   ]
  },
  {
   "cell_type": "code",
   "execution_count": null,
   "id": "bc3c4726",
   "metadata": {},
   "outputs": [],
   "source": [
    "#X_train.shape"
   ]
  },
  {
   "cell_type": "code",
   "execution_count": null,
   "id": "d5ab0fee",
   "metadata": {},
   "outputs": [],
   "source": [
    "#clf.fit(vect, y_train) "
   ]
  },
  {
   "cell_type": "code",
   "execution_count": null,
   "id": "d9cd6167",
   "metadata": {},
   "outputs": [],
   "source": [
    "result=clf.predict(vectorizer.transform((X_test)))"
   ]
  },
  {
   "cell_type": "code",
   "execution_count": null,
   "id": "7d97ca32",
   "metadata": {},
   "outputs": [],
   "source": [
    "result"
   ]
  },
  {
   "cell_type": "code",
   "execution_count": null,
   "id": "b9d4d771",
   "metadata": {},
   "outputs": [],
   "source": [
    "y_test['prediction'] = result"
   ]
  },
  {
   "cell_type": "code",
   "execution_count": null,
   "id": "3fb33254",
   "metadata": {},
   "outputs": [],
   "source": [
    "from sklearn.metrics import classification_report\n",
    "print(classification_report(y_test, y_pred))"
   ]
  },
  {
   "cell_type": "code",
   "execution_count": null,
   "id": "a726a705",
   "metadata": {},
   "outputs": [],
   "source": [
    "#df_pred=pd.merge(finalDff,y_test[['prediction']],how = 'left',left_index = True, right_index = True)"
   ]
  },
  {
   "cell_type": "code",
   "execution_count": null,
   "id": "6691e545",
   "metadata": {},
   "outputs": [],
   "source": [
    "#print('Accuracy of logistic regression'.format(clf.score(X_test, y_test)))"
   ]
  }
 ],
 "metadata": {
  "kernelspec": {
   "display_name": "python3.6",
   "language": "python",
   "name": "python3.6"
  },
  "language_info": {
   "codemirror_mode": {
    "name": "ipython",
    "version": 3
   },
   "file_extension": ".py",
   "mimetype": "text/x-python",
   "name": "python",
   "nbconvert_exporter": "python",
   "pygments_lexer": "ipython3",
   "version": "3.6.10"
  }
 },
 "nbformat": 4,
 "nbformat_minor": 5
}
