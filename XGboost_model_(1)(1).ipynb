{
  "nbformat": 4,
  "nbformat_minor": 0,
  "metadata": {
    "colab": {
      "name": "XGboost_model (1).ipynb",
      "provenance": [],
      "collapsed_sections": [],
      "machine_shape": "hm"
    },
    "kernelspec": {
      "name": "python3",
      "display_name": "Python 3"
    },
    "accelerator": "GPU"
  },
  "cells": [
    {
      "cell_type": "code",
      "metadata": {
        "id": "uBF1aotePw51"
      },
      "source": [
        "import pandas as pd\n",
        "import numpy as np\n",
        "import re\n",
        "\n",
        "# plotting\n",
        "import seaborn as sns\n",
        "import matplotlib.pyplot as plt\n",
        "%matplotlib inline\n",
        "\n",
        "from sklearn.model_selection import GridSearchCV\n",
        "from sklearn.model_selection import StratifiedKFold\n",
        "from imblearn.pipeline import Pipeline\n",
        "\n",
        "from joblib import dump\n",
        "from joblib import load\n",
        "\n",
        "from sklearn.svm import SVC\n",
        "from sklearn.model_selection import train_test_split\n",
        "from sklearn.metrics import accuracy_score\n",
        "from sklearn.metrics import roc_auc_score\n",
        "from sklearn.metrics import precision_score\n",
        "from sklearn.metrics import  recall_score\n",
        "\n",
        "from sklearn.metrics import classification_report\n",
        "import sklearn.metrics as metrics\n",
        "\n",
        "from imblearn.combine import SMOTETomek,SMOTEENN\n",
        "from imblearn.under_sampling import TomekLinks\n",
        "from imblearn.under_sampling import EditedNearestNeighbours"
      ],
      "execution_count": 142,
      "outputs": []
    },
    {
      "cell_type": "code",
      "metadata": {
        "id": "2l028tNn-xlF",
        "outputId": "ff411d1a-499f-4dcc-d133-8c6fcbae2e58",
        "colab": {
          "base_uri": "https://localhost:8080/",
          "height": 35
        }
      },
      "source": [
        "from google.colab import drive\n",
        "drive.mount('/content/drive')"
      ],
      "execution_count": 123,
      "outputs": [
        {
          "output_type": "stream",
          "text": [
            "Drive already mounted at /content/drive; to attempt to forcibly remount, call drive.mount(\"/content/drive\", force_remount=True).\n"
          ],
          "name": "stdout"
        }
      ]
    },
    {
      "cell_type": "code",
      "metadata": {
        "id": "fUt3rx7a-jkk"
      },
      "source": [
        "data = pd.read_csv(\"/content/drive/My Drive/Outbound/mbti_1.csv\",encoding='utf-8')"
      ],
      "execution_count": 124,
      "outputs": []
    },
    {
      "cell_type": "code",
      "metadata": {
        "id": "S6fUpS9be-YQ",
        "outputId": "ee7bd050-d7b1-44e3-94ad-8fc466e266f5",
        "colab": {
          "base_uri": "https://localhost:8080/",
          "height": 126
        }
      },
      "source": [
        "data.type.head()"
      ],
      "execution_count": 125,
      "outputs": [
        {
          "output_type": "execute_result",
          "data": {
            "text/plain": [
              "0    INFJ\n",
              "1    ENTP\n",
              "2    INTP\n",
              "3    INTJ\n",
              "4    ENTJ\n",
              "Name: type, dtype: object"
            ]
          },
          "metadata": {
            "tags": []
          },
          "execution_count": 125
        }
      ]
    },
    {
      "cell_type": "code",
      "metadata": {
        "id": "5A1DAmcV-uOg",
        "outputId": "78ae17a0-f177-42cf-c0ac-4c8f778298c1",
        "colab": {
          "base_uri": "https://localhost:8080/",
          "height": 341
        }
      },
      "source": [
        "cnt_types = data['type'].value_counts()\n",
        "\n",
        "plt.figure(figsize=(12,4))\n",
        "sns.barplot(cnt_types.index, cnt_types.values, alpha=0.8)\n",
        "plt.ylabel('Number of Occurrences', fontsize=12)\n",
        "plt.xlabel('Types', fontsize=12)\n",
        "plt.show()"
      ],
      "execution_count": 126,
      "outputs": [
        {
          "output_type": "stream",
          "text": [
            "/usr/local/lib/python3.6/dist-packages/seaborn/_decorators.py:43: FutureWarning: Pass the following variables as keyword args: x, y. From version 0.12, the only valid positional argument will be `data`, and passing other arguments without an explicit keyword will result in an error or misinterpretation.\n",
            "  FutureWarning\n"
          ],
          "name": "stderr"
        },
        {
          "output_type": "display_data",
          "data": {
            "image/png": "[encoded data removed]",
            "text/plain": [
              "<Figure size 864x288 with 1 Axes>"
            ]
          },
          "metadata": {
            "tags": [],
            "needs_background": "light"
          }
        }
      ]
    },
    {
      "cell_type": "code",
      "metadata": {
        "id": "1MnIZB-U_CXO",
        "outputId": "a46fb510-9cba-46c9-9ac1-618664838a3b",
        "colab": {
          "base_uri": "https://localhost:8080/",
          "height": 206
        }
      },
      "source": [
        "def get_types(row):\n",
        "    t=row['type']\n",
        "\n",
        "    I = 0; N = 0\n",
        "    F = 0; P = 0\n",
        "    \n",
        "    if t[0] == 'I': I = 1\n",
        "    elif t[0] == 'E': I = 0\n",
        "    else: print('I-E incorrect')\n",
        "        \n",
        "    if t[1] == 'N': N = 1\n",
        "    elif t[1] == 'S': N = 0\n",
        "    else: print('N-S incorrect')\n",
        "        \n",
        "    if t[2] == 'F': F = 1\n",
        "    elif t[2] == 'T': F = 0\n",
        "    else: print('T-F incorrect')\n",
        "        \n",
        "    if t[3] == 'P': P = 1\n",
        "    elif t[3] == 'J': P = 0\n",
        "    else: print('J-P incorrect')\n",
        "    return pd.Series( {'IE':I, 'NS':N , 'FT': F, 'PJ': P }) \n",
        "\n",
        "data = data.join(data.apply (lambda row: get_types (row),axis=1))\n",
        "data.head(5)"
      ],
      "execution_count": 127,
      "outputs": [
        {
          "output_type": "execute_result",
          "data": {
            "text/html": [
              "<div>\n",
              "<style scoped>\n",
              "    .dataframe tbody tr th:only-of-type {\n",
              "        vertical-align: middle;\n",
              "    }\n",
              "\n",
              "    .dataframe tbody tr th {\n",
              "        vertical-align: top;\n",
              "    }\n",
              "\n",
              "    .dataframe thead th {\n",
              "        text-align: right;\n",
              "    }\n",
              "</style>\n",
              "<table border=\"1\" class=\"dataframe\">\n",
              "  <thead>\n",
              "    <tr style=\"text-align: right;\">\n",
              "      <th></th>\n",
              "      <th>type</th>\n",
              "      <th>posts</th>\n",
              "      <th>IE</th>\n",
              "      <th>NS</th>\n",
              "      <th>FT</th>\n",
              "      <th>PJ</th>\n",
              "    </tr>\n",
              "  </thead>\n",
              "  <tbody>\n",
              "    <tr>\n",
              "      <th>0</th>\n",
              "      <td>INFJ</td>\n",
              "      <td>'http://www.youtube.com/watch?v=qsXHcwe3krw|||...</td>\n",
              "      <td>1</td>\n",
              "      <td>1</td>\n",
              "      <td>1</td>\n",
              "      <td>0</td>\n",
              "    </tr>\n",
              "    <tr>\n",
              "      <th>1</th>\n",
              "      <td>ENTP</td>\n",
              "      <td>'I'm finding the lack of me in these posts ver...</td>\n",
              "      <td>0</td>\n",
              "      <td>1</td>\n",
              "      <td>0</td>\n",
              "      <td>1</td>\n",
              "    </tr>\n",
              "    <tr>\n",
              "      <th>2</th>\n",
              "      <td>INTP</td>\n",
              "      <td>'Good one  _____   https://www.youtube.com/wat...</td>\n",
              "      <td>1</td>\n",
              "      <td>1</td>\n",
              "      <td>0</td>\n",
              "      <td>1</td>\n",
              "    </tr>\n",
              "    <tr>\n",
              "      <th>3</th>\n",
              "      <td>INTJ</td>\n",
              "      <td>'Dear INTP,   I enjoyed our conversation the o...</td>\n",
              "      <td>1</td>\n",
              "      <td>1</td>\n",
              "      <td>0</td>\n",
              "      <td>0</td>\n",
              "    </tr>\n",
              "    <tr>\n",
              "      <th>4</th>\n",
              "      <td>ENTJ</td>\n",
              "      <td>'You're fired.|||That's another silly misconce...</td>\n",
              "      <td>0</td>\n",
              "      <td>1</td>\n",
              "      <td>0</td>\n",
              "      <td>0</td>\n",
              "    </tr>\n",
              "  </tbody>\n",
              "</table>\n",
              "</div>"
            ],
            "text/plain": [
              "   type                                              posts  IE  NS  FT  PJ\n",
              "0  INFJ  'http://www.youtube.com/watch?v=qsXHcwe3krw|||...   1   1   1   0\n",
              "1  ENTP  'I'm finding the lack of me in these posts ver...   0   1   0   1\n",
              "2  INTP  'Good one  _____   https://www.youtube.com/wat...   1   1   0   1\n",
              "3  INTJ  'Dear INTP,   I enjoyed our conversation the o...   1   1   0   0\n",
              "4  ENTJ  'You're fired.|||That's another silly misconce...   0   1   0   0"
            ]
          },
          "metadata": {
            "tags": []
          },
          "execution_count": 127
        }
      ]
    },
    {
      "cell_type": "code",
      "metadata": {
        "id": "Lkak8p4Q_Qy4",
        "outputId": "109f9d9e-7173-46e7-ea12-12e7e87c2534",
        "colab": {
          "base_uri": "https://localhost:8080/",
          "height": 90
        }
      },
      "source": [
        "print (\"Introversion (I) /  Extroversion (E):\\t\", data['IE'].value_counts()[0], \" / \", data['IE'].value_counts()[1])\n",
        "print (\"Intuition (N) – Sensing (S):\\t\\t\", data['NS'].value_counts()[0], \" / \", data['NS'].value_counts()[1])\n",
        "print (\"Feeling (F) - Thinking (T):\\t\\t\", data['FT'].value_counts()[0], \" / \", data['FT'].value_counts()[1])\n",
        "print (\"Perceiving (P) - Judging (J):\\t\\t\", data['PJ'].value_counts()[0], \" / \", data['PJ'].value_counts()[1])"
      ],
      "execution_count": 128,
      "outputs": [
        {
          "output_type": "stream",
          "text": [
            "Introversion (I) /  Extroversion (E):\t 1999  /  6676\n",
            "Intuition (N) – Sensing (S):\t\t 1197  /  7478\n",
            "Feeling (F) - Thinking (T):\t\t 3981  /  4694\n",
            "Perceiving (P) - Judging (J):\t\t 3434  /  5241\n"
          ],
          "name": "stdout"
        }
      ]
    },
    {
      "cell_type": "code",
      "metadata": {
        "id": "emQvlI6z_Uat",
        "outputId": "ef759ec4-fbdc-4680-a3b1-02378c74452d",
        "colab": {
          "base_uri": "https://localhost:8080/",
          "height": 284
        }
      },
      "source": [
        "N = 4\n",
        "but = (data['IE'].value_counts()[0], data['NS'].value_counts()[0], data['FT'].value_counts()[0], data['PJ'].value_counts()[0])\n",
        "top = (data['IE'].value_counts()[1], data['NS'].value_counts()[1], data['FT'].value_counts()[1], data['PJ'].value_counts()[1])\n",
        "\n",
        "ind = np.arange(N)    # the x locations for the groups\n",
        "width = 0.7      # the width of the bars: can also be len(x) sequence\n",
        "\n",
        "p1 = plt.bar(ind, but, width)\n",
        "p2 = plt.bar(ind, top, width, bottom=but)\n",
        "\n",
        "plt.ylabel('Count')\n",
        "plt.title('Distribution accoss types indicators')\n",
        "plt.xticks(ind, ('I/E',  'N/S', 'F/T', 'P/J',))\n",
        "\n",
        "plt.show()"
      ],
      "execution_count": 129,
      "outputs": [
        {
          "output_type": "display_data",
          "data": {
            "image/png": "[encoded data removed]",
            "text/plain": [
              "<Figure size 432x288 with 1 Axes>"
            ]
          },
          "metadata": {
            "tags": [],
            "needs_background": "light"
          }
        }
      ]
    },
    {
      "cell_type": "code",
      "metadata": {
        "id": "QxI_UJnr_XK8",
        "outputId": "7afb6002-8dbe-4181-ca6f-c4d327e246f5",
        "colab": {
          "base_uri": "https://localhost:8080/",
          "height": 175
        }
      },
      "source": [
        "data[['IE','NS','FT','PJ']].corr()"
      ],
      "execution_count": 130,
      "outputs": [
        {
          "output_type": "execute_result",
          "data": {
            "text/html": [
              "<div>\n",
              "<style scoped>\n",
              "    .dataframe tbody tr th:only-of-type {\n",
              "        vertical-align: middle;\n",
              "    }\n",
              "\n",
              "    .dataframe tbody tr th {\n",
              "        vertical-align: top;\n",
              "    }\n",
              "\n",
              "    .dataframe thead th {\n",
              "        text-align: right;\n",
              "    }\n",
              "</style>\n",
              "<table border=\"1\" class=\"dataframe\">\n",
              "  <thead>\n",
              "    <tr style=\"text-align: right;\">\n",
              "      <th></th>\n",
              "      <th>IE</th>\n",
              "      <th>NS</th>\n",
              "      <th>FT</th>\n",
              "      <th>PJ</th>\n",
              "    </tr>\n",
              "  </thead>\n",
              "  <tbody>\n",
              "    <tr>\n",
              "      <th>IE</th>\n",
              "      <td>1.000000</td>\n",
              "      <td>-0.045899</td>\n",
              "      <td>0.069573</td>\n",
              "      <td>-0.161939</td>\n",
              "    </tr>\n",
              "    <tr>\n",
              "      <th>NS</th>\n",
              "      <td>-0.045899</td>\n",
              "      <td>1.000000</td>\n",
              "      <td>0.080954</td>\n",
              "      <td>-0.014922</td>\n",
              "    </tr>\n",
              "    <tr>\n",
              "      <th>FT</th>\n",
              "      <td>0.069573</td>\n",
              "      <td>0.080954</td>\n",
              "      <td>1.000000</td>\n",
              "      <td>-0.004673</td>\n",
              "    </tr>\n",
              "    <tr>\n",
              "      <th>PJ</th>\n",
              "      <td>-0.161939</td>\n",
              "      <td>-0.014922</td>\n",
              "      <td>-0.004673</td>\n",
              "      <td>1.000000</td>\n",
              "    </tr>\n",
              "  </tbody>\n",
              "</table>\n",
              "</div>"
            ],
            "text/plain": [
              "          IE        NS        FT        PJ\n",
              "IE  1.000000 -0.045899  0.069573 -0.161939\n",
              "NS -0.045899  1.000000  0.080954 -0.014922\n",
              "FT  0.069573  0.080954  1.000000 -0.004673\n",
              "PJ -0.161939 -0.014922 -0.004673  1.000000"
            ]
          },
          "metadata": {
            "tags": []
          },
          "execution_count": 130
        }
      ]
    },
    {
      "cell_type": "code",
      "metadata": {
        "id": "Sn8gJppX_ZXT",
        "outputId": "15cfa43f-0793-4216-b620-f9fe7eb57cdc",
        "colab": {
          "base_uri": "https://localhost:8080/",
          "height": 630
        }
      },
      "source": [
        "cmap = plt.cm.RdBu\n",
        "corr = data[['IE','NS','FT','PJ']].corr()\n",
        "plt.figure(figsize=(12,10))\n",
        "plt.title('Pearson Features Correlation', size=15)\n",
        "sns.heatmap(corr, cmap=cmap,  annot=True, linewidths=1)"
      ],
      "execution_count": 131,
      "outputs": [
        {
          "output_type": "execute_result",
          "data": {
            "text/plain": [
              "<matplotlib.axes._subplots.AxesSubplot at 0x7f632f7ac710>"
            ]
          },
          "metadata": {
            "tags": []
          },
          "execution_count": 131
        },
        {
          "output_type": "display_data",
          "data": {
            "image/png": "[encoded data removed]",
            "text/plain": [
              "<Figure size 864x720 with 2 Axes>"
            ]
          },
          "metadata": {
            "tags": [],
            "needs_background": "light"
          }
        }
      ]
    },
    {
      "cell_type": "code",
      "metadata": {
        "id": "-ontl330_bPr",
        "outputId": "46b65846-cd1e-4ce3-8074-b004f00d5fec",
        "colab": {
          "base_uri": "https://localhost:8080/",
          "height": 108
        }
      },
      "source": [
        "b_Pers = {'I':1, 'E':0, 'N':1, 'S':0, 'F':1,'T':0,   'P':1,'J':0,}\n",
        "b_Pers_list = [{1:'I', 0:'E'}, {1:'N', 0:'S'}, {1:'F', 0:'T'}, {1:'P', 0:'J' }]\n",
        "\n",
        "def translate_personality(personality):\n",
        "    # transform mbti to binary vector\n",
        "    \n",
        "    return [b_Pers[l] for l in personality]\n",
        "\n",
        "def translate_back(personality):\n",
        "    # transform binary vector to mbti personality\n",
        "    \n",
        "    s = \"\"\n",
        "    t = \"\"\n",
        "    for i, l in enumerate(personality):\n",
        "        s += b_Pers_list[i][l]\n",
        "        if b_Pers_list[i][l] == 'I':\n",
        "          t += 'Introversion,'\n",
        "        elif b_Pers_list[i][l] == 'N':\n",
        "          t += ' Intuition,'\n",
        "        elif b_Pers_list[i][l] == 'F':\n",
        "          t += ' Feeling,'\n",
        "        elif b_Pers_list[i][l] == 'P':\n",
        "          t += ' Perceiving'\n",
        "        elif b_Pers_list[i][l] == 'E':\n",
        "          t += ' Extroversion,'\n",
        "        elif b_Pers_list[i][l] == 'S':\n",
        "          t += ' Sensing,'\n",
        "        elif b_Pers_list[i][l] == 'T':\n",
        "          t += ' Thinking,'\n",
        "        else:\n",
        "          t += ' Judging'\n",
        "    \n",
        "    t = 'Person possesses following personality :- ' + t\n",
        "            \n",
        "    return s,t\n",
        "\n",
        "# Check ...\n",
        "d = data.head(4)\n",
        "list_personality_bin = np.array([translate_personality(p) for p in d.type])\n",
        "print(\"Binarize MBTI list: \\n%s\" % list_personality_bin)\n"
      ],
      "execution_count": 132,
      "outputs": [
        {
          "output_type": "stream",
          "text": [
            "Binarize MBTI list: \n",
            "[[1 1 1 0]\n",
            " [0 1 0 1]\n",
            " [1 1 0 1]\n",
            " [1 1 0 0]]\n"
          ],
          "name": "stdout"
        }
      ]
    },
    {
      "cell_type": "code",
      "metadata": {
        "id": "q3sZTz6W_d7E",
        "outputId": "f3893c27-ac04-41ad-c9ab-40e12bdf17c9",
        "colab": {
          "base_uri": "https://localhost:8080/",
          "height": 90
        }
      },
      "source": [
        "import nltk\n",
        "from nltk.corpus import stopwords\n",
        "\n",
        "from nltk.stem import PorterStemmer, WordNetLemmatizer\n",
        "from nltk.corpus import stopwords \n",
        "from nltk import word_tokenize\n",
        "\n",
        "\n",
        "nltk.download('stopwords')\n",
        "nltk.download('wordnet')\n",
        "\n",
        "# We want to remove these from the psosts\n",
        "unique_type_list = ['INFJ', 'ENTP', 'INTP', 'INTJ', 'ENTJ', 'ENFJ', 'INFP', 'ENFP',\n",
        "       'ISFP', 'ISTP', 'ISFJ', 'ISTJ', 'ESTP', 'ESFP', 'ESTJ', 'ESFJ']\n",
        "  \n",
        "unique_type_list = [x.lower() for x in unique_type_list]\n",
        "\n",
        "\n",
        "# Lemmatize\n",
        "stemmer = PorterStemmer()\n",
        "lemmatiser = WordNetLemmatizer()\n",
        "\n",
        "# Cache the stop words for speed \n",
        "cachedStopWords = stopwords.words(\"english\")\n",
        "\n",
        "def pre_process_data(data, remove_stop_words=True, remove_mbti_profiles=True,Type = True):\n",
        "\n",
        "    list_personality = []\n",
        "    list_posts = []\n",
        "    len_data = len(data)\n",
        "    i=0\n",
        "    \n",
        "    for row in data.iterrows():\n",
        "        i+=1\n",
        "        if (i % 500 == 0 or i == 1 or i == len_data):\n",
        "            print(\"%s of %s rows\" % (i, len_data))\n",
        "\n",
        "        ##### Remove and clean comments\n",
        "        posts = row[1].posts\n",
        "        temp = re.sub('http[s]?://(?:[a-zA-Z]|[0-9]|[$-_@.&+]|(?:%[0-9a-fA-F][0-9a-fA-F]))+', ' ', posts)\n",
        "        temp = re.sub(\"[^a-zA-Z]\", \" \", temp)\n",
        "        temp = re.sub(' +', ' ', temp).lower()\n",
        "        if remove_stop_words:\n",
        "            temp = \" \".join([lemmatiser.lemmatize(w) for w in temp.split(' ') if w not in cachedStopWords])\n",
        "        else:\n",
        "            temp = \" \".join([lemmatiser.lemmatize(w) for w in temp.split(' ')])\n",
        "            \n",
        "        if remove_mbti_profiles:\n",
        "            for t in unique_type_list:\n",
        "                temp = temp.replace(t,\"\")\n",
        "        \n",
        "        if Type:\n",
        "\n",
        "          type_labelized = translate_personality(row[1].type)\n",
        "          list_personality.append(type_labelized)\n",
        "        \n",
        "        list_posts.append(temp)\n",
        "\n",
        "    list_posts = np.array(list_posts)\n",
        "    list_personality = np.array(list_personality)\n",
        "    return list_posts, list_personality"
      ],
      "execution_count": 133,
      "outputs": [
        {
          "output_type": "stream",
          "text": [
            "[nltk_data] Downloading package stopwords to /root/nltk_data...\n",
            "[nltk_data]   Package stopwords is already up-to-date!\n",
            "[nltk_data] Downloading package wordnet to /root/nltk_data...\n",
            "[nltk_data]   Package wordnet is already up-to-date!\n"
          ],
          "name": "stdout"
        }
      ]
    },
    {
      "cell_type": "code",
      "metadata": {
        "id": "G7vgWYKUAFV3",
        "outputId": "bd62aa53-f06e-4c49-87c8-1022fa003362",
        "colab": {
          "base_uri": "https://localhost:8080/",
          "height": 362
        }
      },
      "source": [
        "list_posts, list_personality  = pre_process_data(data, remove_stop_words=True,Type = True)"
      ],
      "execution_count": 134,
      "outputs": [
        {
          "output_type": "stream",
          "text": [
            "1 of 8675 rows\n",
            "500 of 8675 rows\n",
            "1000 of 8675 rows\n",
            "1500 of 8675 rows\n",
            "2000 of 8675 rows\n",
            "2500 of 8675 rows\n",
            "3000 of 8675 rows\n",
            "3500 of 8675 rows\n",
            "4000 of 8675 rows\n",
            "4500 of 8675 rows\n",
            "5000 of 8675 rows\n",
            "5500 of 8675 rows\n",
            "6000 of 8675 rows\n",
            "6500 of 8675 rows\n",
            "7000 of 8675 rows\n",
            "7500 of 8675 rows\n",
            "8000 of 8675 rows\n",
            "8500 of 8675 rows\n",
            "8675 of 8675 rows\n"
          ],
          "name": "stdout"
        }
      ]
    },
    {
      "cell_type": "code",
      "metadata": {
        "id": "v3_8ZrKBAnlG",
        "outputId": "871dfcf1-ba91-48e1-ac2b-ef907017a160",
        "colab": {
          "base_uri": "https://localhost:8080/",
          "height": 35
        }
      },
      "source": [
        "print(\"Num posts and personalities: \",  list_posts.shape, list_personality.shape)"
      ],
      "execution_count": 135,
      "outputs": [
        {
          "output_type": "stream",
          "text": [
            "Num posts and personalities:  (8675,) (8675, 4)\n"
          ],
          "name": "stdout"
        }
      ]
    },
    {
      "cell_type": "code",
      "metadata": {
        "id": "ITiLU7xFA216",
        "outputId": "f6251e19-775f-4572-960b-c08fa396189e",
        "colab": {
          "base_uri": "https://localhost:8080/",
          "height": 53
        }
      },
      "source": [
        "from sklearn.feature_extraction.text import TfidfTransformer\n",
        "from sklearn.feature_extraction.text import CountVectorizer\n",
        "from sklearn.manifold import TSNE\n",
        "\n",
        "# Posts to a matrix of token counts\n",
        "cntizer = CountVectorizer(analyzer=\"word\", \n",
        "                             max_features=1500, \n",
        "                             tokenizer=None,    \n",
        "                             preprocessor=None, \n",
        "                             stop_words=None,  \n",
        "                             max_df=0.7,\n",
        "                             min_df=0.1) \n",
        "\n",
        "# Learn the vocabulary dictionary and return term-document matrix\n",
        "print(\"CountVectorizer...\")\n",
        "X_cnt = cntizer.fit_transform(list_posts)\n",
        "\n",
        "# Transform the count matrix to a normalized tf or tf-idf representation\n",
        "tfizer = TfidfTransformer()\n",
        "\n",
        "print(\"Tf-idf...\")\n",
        "# Learn the idf vector (fit) and transform a count matrix to a tf-idf representation\n",
        "X_tfidf =  tfizer.fit_transform(X_cnt).toarray()"
      ],
      "execution_count": 136,
      "outputs": [
        {
          "output_type": "stream",
          "text": [
            "CountVectorizer...\n",
            "Tf-idf...\n"
          ],
          "name": "stdout"
        }
      ]
    },
    {
      "cell_type": "code",
      "metadata": {
        "id": "qhr09yd9A-OE",
        "outputId": "42588538-8bb7-41c6-9c72-afea3e851ccd",
        "colab": {
          "base_uri": "https://localhost:8080/",
          "height": 1000
        }
      },
      "source": [
        "feature_names = list(enumerate(cntizer.get_feature_names()))\n",
        "feature_names"
      ],
      "execution_count": 137,
      "outputs": [
        {
          "output_type": "execute_result",
          "data": {
            "text/plain": [
              "[(0, 'ability'),\n",
              " (1, 'able'),\n",
              " (2, 'absolutely'),\n",
              " (3, 'accept'),\n",
              " (4, 'accurate'),\n",
              " (5, 'across'),\n",
              " (6, 'act'),\n",
              " (7, 'action'),\n",
              " (8, 'actual'),\n",
              " (9, 'actually'),\n",
              " (10, 'add'),\n",
              " (11, 'admit'),\n",
              " (12, 'advice'),\n",
              " (13, 'afraid'),\n",
              " (14, 'age'),\n",
              " (15, 'ago'),\n",
              " (16, 'agree'),\n",
              " (17, 'ah'),\n",
              " (18, 'almost'),\n",
              " (19, 'alone'),\n",
              " (20, 'along'),\n",
              " (21, 'already'),\n",
              " (22, 'although'),\n",
              " (23, 'amazing'),\n",
              " (24, 'amount'),\n",
              " (25, 'angry'),\n",
              " (26, 'animal'),\n",
              " (27, 'annoying'),\n",
              " (28, 'another'),\n",
              " (29, 'answer'),\n",
              " (30, 'anxiety'),\n",
              " (31, 'anymore'),\n",
              " (32, 'anyone'),\n",
              " (33, 'anything'),\n",
              " (34, 'anyway'),\n",
              " (35, 'apparently'),\n",
              " (36, 'appreciate'),\n",
              " (37, 'approach'),\n",
              " (38, 'area'),\n",
              " (39, 'argument'),\n",
              " (40, 'around'),\n",
              " (41, 'art'),\n",
              " (42, 'ask'),\n",
              " (43, 'asked'),\n",
              " (44, 'asking'),\n",
              " (45, 'aspect'),\n",
              " (46, 'assume'),\n",
              " (47, 'attention'),\n",
              " (48, 'attracted'),\n",
              " (49, 'avatar'),\n",
              " (50, 'avoid'),\n",
              " (51, 'aware'),\n",
              " (52, 'away'),\n",
              " (53, 'awesome'),\n",
              " (54, 'awkward'),\n",
              " (55, 'baby'),\n",
              " (56, 'back'),\n",
              " (57, 'bad'),\n",
              " (58, 'based'),\n",
              " (59, 'basically'),\n",
              " (60, 'beautiful'),\n",
              " (61, 'become'),\n",
              " (62, 'bed'),\n",
              " (63, 'behavior'),\n",
              " (64, 'behind'),\n",
              " (65, 'belief'),\n",
              " (66, 'believe'),\n",
              " (67, 'best'),\n",
              " (68, 'better'),\n",
              " (69, 'big'),\n",
              " (70, 'bit'),\n",
              " (71, 'black'),\n",
              " (72, 'blue'),\n",
              " (73, 'body'),\n",
              " (74, 'book'),\n",
              " (75, 'bored'),\n",
              " (76, 'boring'),\n",
              " (77, 'born'),\n",
              " (78, 'bother'),\n",
              " (79, 'boy'),\n",
              " (80, 'boyfriend'),\n",
              " (81, 'brain'),\n",
              " (82, 'break'),\n",
              " (83, 'bring'),\n",
              " (84, 'brother'),\n",
              " (85, 'buy'),\n",
              " (86, 'call'),\n",
              " (87, 'called'),\n",
              " (88, 'came'),\n",
              " (89, 'cannot'),\n",
              " (90, 'car'),\n",
              " (91, 'care'),\n",
              " (92, 'career'),\n",
              " (93, 'case'),\n",
              " (94, 'cat'),\n",
              " (95, 'cause'),\n",
              " (96, 'certain'),\n",
              " (97, 'certainly'),\n",
              " (98, 'chance'),\n",
              " (99, 'change'),\n",
              " (100, 'changed'),\n",
              " (101, 'character'),\n",
              " (102, 'check'),\n",
              " (103, 'child'),\n",
              " (104, 'choice'),\n",
              " (105, 'choose'),\n",
              " (106, 'class'),\n",
              " (107, 'clear'),\n",
              " (108, 'clearly'),\n",
              " (109, 'close'),\n",
              " (110, 'cognitive'),\n",
              " (111, 'cold'),\n",
              " (112, 'college'),\n",
              " (113, 'color'),\n",
              " (114, 'come'),\n",
              " (115, 'comfortable'),\n",
              " (116, 'coming'),\n",
              " (117, 'comment'),\n",
              " (118, 'common'),\n",
              " (119, 'company'),\n",
              " (120, 'complete'),\n",
              " (121, 'completely'),\n",
              " (122, 'computer'),\n",
              " (123, 'concept'),\n",
              " (124, 'confused'),\n",
              " (125, 'connection'),\n",
              " (126, 'consider'),\n",
              " (127, 'considered'),\n",
              " (128, 'considering'),\n",
              " (129, 'constantly'),\n",
              " (130, 'contact'),\n",
              " (131, 'control'),\n",
              " (132, 'conversation'),\n",
              " (133, 'cool'),\n",
              " (134, 'correct'),\n",
              " (135, 'count'),\n",
              " (136, 'country'),\n",
              " (137, 'couple'),\n",
              " (138, 'course'),\n",
              " (139, 'crazy'),\n",
              " (140, 'create'),\n",
              " (141, 'creative'),\n",
              " (142, 'cry'),\n",
              " (143, 'curious'),\n",
              " (144, 'current'),\n",
              " (145, 'currently'),\n",
              " (146, 'cut'),\n",
              " (147, 'cute'),\n",
              " (148, 'dad'),\n",
              " (149, 'damn'),\n",
              " (150, 'dark'),\n",
              " (151, 'date'),\n",
              " (152, 'dating'),\n",
              " (153, 'day'),\n",
              " (154, 'dead'),\n",
              " (155, 'deal'),\n",
              " (156, 'dear'),\n",
              " (157, 'death'),\n",
              " (158, 'debate'),\n",
              " (159, 'decide'),\n",
              " (160, 'decided'),\n",
              " (161, 'decision'),\n",
              " (162, 'deep'),\n",
              " (163, 'definitely'),\n",
              " (164, 'degree'),\n",
              " (165, 'depends'),\n",
              " (166, 'depressed'),\n",
              " (167, 'depression'),\n",
              " (168, 'describe'),\n",
              " (169, 'description'),\n",
              " (170, 'desire'),\n",
              " (171, 'detail'),\n",
              " (172, 'die'),\n",
              " (173, 'difference'),\n",
              " (174, 'different'),\n",
              " (175, 'difficult'),\n",
              " (176, 'discussion'),\n",
              " (177, 'dislike'),\n",
              " (178, 'dog'),\n",
              " (179, 'dominant'),\n",
              " (180, 'done'),\n",
              " (181, 'dont'),\n",
              " (182, 'doubt'),\n",
              " (183, 'dream'),\n",
              " (184, 'drink'),\n",
              " (185, 'drive'),\n",
              " (186, 'due'),\n",
              " (187, 'early'),\n",
              " (188, 'easier'),\n",
              " (189, 'easily'),\n",
              " (190, 'easy'),\n",
              " (191, 'eat'),\n",
              " (192, 'edit'),\n",
              " (193, 'effect'),\n",
              " (194, 'effort'),\n",
              " (195, 'either'),\n",
              " (196, 'else'),\n",
              " (197, 'emotion'),\n",
              " (198, 'emotional'),\n",
              " (199, 'emotionally'),\n",
              " (200, 'end'),\n",
              " (201, 'ended'),\n",
              " (202, 'energy'),\n",
              " (203, 'english'),\n",
              " (204, 'enjoy'),\n",
              " (205, 'enneagram'),\n",
              " (206, 'enough'),\n",
              " (207, 'entire'),\n",
              " (208, 'environment'),\n",
              " (209, 'especially'),\n",
              " (210, 'etc'),\n",
              " (211, 'ever'),\n",
              " (212, 'every'),\n",
              " (213, 'everyone'),\n",
              " (214, 'everything'),\n",
              " (215, 'evil'),\n",
              " (216, 'ex'),\n",
              " (217, 'exact'),\n",
              " (218, 'exactly'),\n",
              " (219, 'example'),\n",
              " (220, 'except'),\n",
              " (221, 'exist'),\n",
              " (222, 'expect'),\n",
              " (223, 'experience'),\n",
              " (224, 'explain'),\n",
              " (225, 'express'),\n",
              " (226, 'extremely'),\n",
              " (227, 'extrovert'),\n",
              " (228, 'extroverted'),\n",
              " (229, 'eye'),\n",
              " (230, 'face'),\n",
              " (231, 'fact'),\n",
              " (232, 'fair'),\n",
              " (233, 'fairly'),\n",
              " (234, 'fall'),\n",
              " (235, 'family'),\n",
              " (236, 'fan'),\n",
              " (237, 'far'),\n",
              " (238, 'fast'),\n",
              " (239, 'father'),\n",
              " (240, 'favorite'),\n",
              " (241, 'fe'),\n",
              " (242, 'fear'),\n",
              " (243, 'feeling'),\n",
              " (244, 'fellow'),\n",
              " (245, 'felt'),\n",
              " (246, 'female'),\n",
              " (247, 'fi'),\n",
              " (248, 'fight'),\n",
              " (249, 'figure'),\n",
              " (250, 'finally'),\n",
              " (251, 'finding'),\n",
              " (252, 'fine'),\n",
              " (253, 'fit'),\n",
              " (254, 'focus'),\n",
              " (255, 'follow'),\n",
              " (256, 'food'),\n",
              " (257, 'forget'),\n",
              " (258, 'form'),\n",
              " (259, 'forum'),\n",
              " (260, 'found'),\n",
              " (261, 'four'),\n",
              " (262, 'free'),\n",
              " (263, 'friendship'),\n",
              " (264, 'front'),\n",
              " (265, 'fuck'),\n",
              " (266, 'full'),\n",
              " (267, 'fun'),\n",
              " (268, 'function'),\n",
              " (269, 'funny'),\n",
              " (270, 'future'),\n",
              " (271, 'game'),\n",
              " (272, 'gave'),\n",
              " (273, 'general'),\n",
              " (274, 'generally'),\n",
              " (275, 'getting'),\n",
              " (276, 'girl'),\n",
              " (277, 'give'),\n",
              " (278, 'given'),\n",
              " (279, 'giving'),\n",
              " (280, 'glad'),\n",
              " (281, 'goal'),\n",
              " (282, 'god'),\n",
              " (283, 'gone'),\n",
              " (284, 'gonna'),\n",
              " (285, 'got'),\n",
              " (286, 'gotten'),\n",
              " (287, 'grade'),\n",
              " (288, 'great'),\n",
              " (289, 'group'),\n",
              " (290, 'guess'),\n",
              " (291, 'guy'),\n",
              " (292, 'haha'),\n",
              " (293, 'hair'),\n",
              " (294, 'half'),\n",
              " (295, 'hand'),\n",
              " (296, 'hang'),\n",
              " (297, 'happen'),\n",
              " (298, 'happened'),\n",
              " (299, 'happens'),\n",
              " (300, 'happy'),\n",
              " (301, 'hard'),\n",
              " (302, 'hate'),\n",
              " (303, 'head'),\n",
              " (304, 'healthy'),\n",
              " (305, 'hear'),\n",
              " (306, 'heard'),\n",
              " (307, 'heart'),\n",
              " (308, 'hell'),\n",
              " (309, 'hello'),\n",
              " (310, 'help'),\n",
              " (311, 'helped'),\n",
              " (312, 'helpful'),\n",
              " (313, 'hey'),\n",
              " (314, 'hi'),\n",
              " (315, 'high'),\n",
              " (316, 'highly'),\n",
              " (317, 'history'),\n",
              " (318, 'hit'),\n",
              " (319, 'hmm'),\n",
              " (320, 'hold'),\n",
              " (321, 'home'),\n",
              " (322, 'honest'),\n",
              " (323, 'honestly'),\n",
              " (324, 'hope'),\n",
              " (325, 'hot'),\n",
              " (326, 'hour'),\n",
              " (327, 'house'),\n",
              " (328, 'however'),\n",
              " (329, 'hug'),\n",
              " (330, 'huge'),\n",
              " (331, 'human'),\n",
              " (332, 'humor'),\n",
              " (333, 'hurt'),\n",
              " (334, 'idea'),\n",
              " (335, 'ideal'),\n",
              " (336, 'im'),\n",
              " (337, 'image'),\n",
              " (338, 'imagine'),\n",
              " (339, 'important'),\n",
              " (340, 'individual'),\n",
              " (341, 'information'),\n",
              " (342, 'inside'),\n",
              " (343, 'instead'),\n",
              " (344, 'intelligence'),\n",
              " (345, 'intelligent'),\n",
              " (346, 'interaction'),\n",
              " (347, 'interest'),\n",
              " (348, 'interested'),\n",
              " (349, 'interesting'),\n",
              " (350, 'internet'),\n",
              " (351, 'introvert'),\n",
              " (352, 'introverted'),\n",
              " (353, 'intuition'),\n",
              " (354, 'intuitive'),\n",
              " (355, 'involved'),\n",
              " (356, 'issue'),\n",
              " (357, 'job'),\n",
              " (358, 'joke'),\n",
              " (359, 'keep'),\n",
              " (360, 'kid'),\n",
              " (361, 'kill'),\n",
              " (362, 'kind'),\n",
              " (363, 'kinda'),\n",
              " (364, 'knew'),\n",
              " (365, 'knowing'),\n",
              " (366, 'knowledge'),\n",
              " (367, 'known'),\n",
              " (368, 'lack'),\n",
              " (369, 'language'),\n",
              " (370, 'large'),\n",
              " (371, 'last'),\n",
              " (372, 'late'),\n",
              " (373, 'lately'),\n",
              " (374, 'later'),\n",
              " (375, 'laugh'),\n",
              " (376, 'laughing'),\n",
              " (377, 'lazy'),\n",
              " (378, 'le'),\n",
              " (379, 'lead'),\n",
              " (380, 'learn'),\n",
              " (381, 'learned'),\n",
              " (382, 'learning'),\n",
              " (383, 'least'),\n",
              " (384, 'leave'),\n",
              " (385, 'left'),\n",
              " (386, 'let'),\n",
              " (387, 'level'),\n",
              " (388, 'lie'),\n",
              " (389, 'light'),\n",
              " (390, 'liked'),\n",
              " (391, 'likely'),\n",
              " (392, 'line'),\n",
              " (393, 'link'),\n",
              " (394, 'list'),\n",
              " (395, 'listen'),\n",
              " (396, 'listening'),\n",
              " (397, 'literally'),\n",
              " (398, 'little'),\n",
              " (399, 'live'),\n",
              " (400, 'living'),\n",
              " (401, 'logic'),\n",
              " (402, 'logical'),\n",
              " (403, 'lol'),\n",
              " (404, 'long'),\n",
              " (405, 'longer'),\n",
              " (406, 'look'),\n",
              " (407, 'looked'),\n",
              " (408, 'looking'),\n",
              " (409, 'lose'),\n",
              " (410, 'lost'),\n",
              " (411, 'loud'),\n",
              " (412, 'loved'),\n",
              " (413, 'low'),\n",
              " (414, 'made'),\n",
              " (415, 'main'),\n",
              " (416, 'major'),\n",
              " (417, 'making'),\n",
              " (418, 'male'),\n",
              " (419, 'man'),\n",
              " (420, 'many'),\n",
              " (421, 'math'),\n",
              " (422, 'matter'),\n",
              " (423, 'may'),\n",
              " (424, 'maybe'),\n",
              " (425, 'mbti'),\n",
              " (426, 'mean'),\n",
              " (427, 'meaning'),\n",
              " (428, 'meant'),\n",
              " (429, 'meet'),\n",
              " (430, 'member'),\n",
              " (431, 'memory'),\n",
              " (432, 'men'),\n",
              " (433, 'mental'),\n",
              " (434, 'mention'),\n",
              " (435, 'mentioned'),\n",
              " (436, 'message'),\n",
              " (437, 'met'),\n",
              " (438, 'middle'),\n",
              " (439, 'might'),\n",
              " (440, 'mind'),\n",
              " (441, 'mine'),\n",
              " (442, 'minute'),\n",
              " (443, 'miss'),\n",
              " (444, 'mistake'),\n",
              " (445, 'mom'),\n",
              " (446, 'moment'),\n",
              " (447, 'money'),\n",
              " (448, 'month'),\n",
              " (449, 'mood'),\n",
              " (450, 'morning'),\n",
              " (451, 'mostly'),\n",
              " (452, 'mother'),\n",
              " (453, 'move'),\n",
              " (454, 'movie'),\n",
              " (455, 'music'),\n",
              " (456, 'must'),\n",
              " (457, 'name'),\n",
              " (458, 'natural'),\n",
              " (459, 'naturally'),\n",
              " (460, 'nature'),\n",
              " (461, 'ne'),\n",
              " (462, 'necessarily'),\n",
              " (463, 'needed'),\n",
              " (464, 'negative'),\n",
              " (465, 'new'),\n",
              " (466, 'next'),\n",
              " (467, 'ni'),\n",
              " (468, 'nice'),\n",
              " (469, 'night'),\n",
              " (470, 'non'),\n",
              " (471, 'none'),\n",
              " (472, 'normal'),\n",
              " (473, 'note'),\n",
              " (474, 'nothing'),\n",
              " (475, 'notice'),\n",
              " (476, 'noticed'),\n",
              " (477, 'nt'),\n",
              " (478, 'number'),\n",
              " (479, 'obvious'),\n",
              " (480, 'obviously'),\n",
              " (481, 'often'),\n",
              " (482, 'oh'),\n",
              " (483, 'ok'),\n",
              " (484, 'okay'),\n",
              " (485, 'old'),\n",
              " (486, 'older'),\n",
              " (487, 'online'),\n",
              " (488, 'op'),\n",
              " (489, 'open'),\n",
              " (490, 'opinion'),\n",
              " (491, 'opposite'),\n",
              " (492, 'option'),\n",
              " (493, 'order'),\n",
              " (494, 'original'),\n",
              " (495, 'others'),\n",
              " (496, 'otherwise'),\n",
              " (497, 'outside'),\n",
              " (498, 'page'),\n",
              " (499, 'pain'),\n",
              " (500, 'parent'),\n",
              " (501, 'part'),\n",
              " (502, 'particular'),\n",
              " (503, 'particularly'),\n",
              " (504, 'partner'),\n",
              " (505, 'party'),\n",
              " (506, 'past'),\n",
              " (507, 'pay'),\n",
              " (508, 'perc'),\n",
              " (509, 'perfect'),\n",
              " (510, 'perhaps'),\n",
              " (511, 'period'),\n",
              " (512, 'personal'),\n",
              " (513, 'personality'),\n",
              " (514, 'personally'),\n",
              " (515, 'perspective'),\n",
              " (516, 'phone'),\n",
              " (517, 'physical'),\n",
              " (518, 'pick'),\n",
              " (519, 'picture'),\n",
              " (520, 'piece'),\n",
              " (521, 'place'),\n",
              " (522, 'plan'),\n",
              " (523, 'play'),\n",
              " (524, 'playing'),\n",
              " (525, 'please'),\n",
              " (526, 'plus'),\n",
              " (527, 'point'),\n",
              " (528, 'positive'),\n",
              " (529, 'possibility'),\n",
              " (530, 'possible'),\n",
              " (531, 'possibly'),\n",
              " (532, 'post'),\n",
              " (533, 'posted'),\n",
              " (534, 'posting'),\n",
              " (535, 'power'),\n",
              " (536, 'prefer'),\n",
              " (537, 'present'),\n",
              " (538, 'pretty'),\n",
              " (539, 'probably'),\n",
              " (540, 'problem'),\n",
              " (541, 'process'),\n",
              " (542, 'project'),\n",
              " (543, 'proud'),\n",
              " (544, 'public'),\n",
              " (545, 'purpose'),\n",
              " (546, 'put'),\n",
              " (547, 'putting'),\n",
              " (548, 'quality'),\n",
              " (549, 'question'),\n",
              " (550, 'quickly'),\n",
              " (551, 'quiet'),\n",
              " (552, 'quite'),\n",
              " (553, 'quote'),\n",
              " (554, 'random'),\n",
              " (555, 'rare'),\n",
              " (556, 'rarely'),\n",
              " (557, 'rather'),\n",
              " (558, 'read'),\n",
              " (559, 'reading'),\n",
              " (560, 'real'),\n",
              " (561, 'reality'),\n",
              " (562, 'realize'),\n",
              " (563, 'realized'),\n",
              " (564, 'reason'),\n",
              " (565, 'recently'),\n",
              " (566, 'red'),\n",
              " (567, 'relate'),\n",
              " (568, 'related'),\n",
              " (569, 'relationship'),\n",
              " (570, 'religion'),\n",
              " (571, 'remember'),\n",
              " (572, 'reply'),\n",
              " (573, 'research'),\n",
              " (574, 'respect'),\n",
              " (575, 'response'),\n",
              " (576, 'rest'),\n",
              " (577, 'result'),\n",
              " (578, 'romantic'),\n",
              " (579, 'room'),\n",
              " (580, 'rule'),\n",
              " (581, 'run'),\n",
              " (582, 'sad'),\n",
              " (583, 'said'),\n",
              " (584, 'saw'),\n",
              " (585, 'saying'),\n",
              " (586, 'school'),\n",
              " (587, 'science'),\n",
              " (588, 'se'),\n",
              " (589, 'second'),\n",
              " (590, 'seeing'),\n",
              " (591, 'seem'),\n",
              " (592, 'seemed'),\n",
              " (593, 'seems'),\n",
              " (594, 'seen'),\n",
              " (595, 'self'),\n",
              " (596, 'sense'),\n",
              " (597, 'sensitive'),\n",
              " (598, 'series'),\n",
              " (599, 'serious'),\n",
              " (600, 'seriously'),\n",
              " (601, 'set'),\n",
              " (602, 'several'),\n",
              " (603, 'sex'),\n",
              " (604, 'share'),\n",
              " (605, 'shit'),\n",
              " (606, 'short'),\n",
              " (607, 'show'),\n",
              " (608, 'shy'),\n",
              " (609, 'si'),\n",
              " (610, 'side'),\n",
              " (611, 'sign'),\n",
              " (612, 'similar'),\n",
              " (613, 'simple'),\n",
              " (614, 'simply'),\n",
              " (615, 'since'),\n",
              " (616, 'single'),\n",
              " (617, 'sister'),\n",
              " (618, 'sit'),\n",
              " (619, 'site'),\n",
              " (620, 'situation'),\n",
              " (621, 'skill'),\n",
              " (622, 'sleep'),\n",
              " (623, 'small'),\n",
              " (624, 'smart'),\n",
              " (625, 'smile'),\n",
              " (626, 'social'),\n",
              " (627, 'society'),\n",
              " (628, 'somehow'),\n",
              " (629, 'sometimes'),\n",
              " (630, 'somewhat'),\n",
              " (631, 'somewhere'),\n",
              " (632, 'song'),\n",
              " (633, 'soon'),\n",
              " (634, 'sorry'),\n",
              " (635, 'sort'),\n",
              " (636, 'soul'),\n",
              " (637, 'sound'),\n",
              " (638, 'space'),\n",
              " (639, 'speak'),\n",
              " (640, 'speaking'),\n",
              " (641, 'special'),\n",
              " (642, 'specific'),\n",
              " (643, 'spend'),\n",
              " (644, 'spent'),\n",
              " (645, 'stand'),\n",
              " (646, 'start'),\n",
              " (647, 'started'),\n",
              " (648, 'starting'),\n",
              " (649, 'state'),\n",
              " (650, 'statement'),\n",
              " (651, 'stay'),\n",
              " (652, 'step'),\n",
              " (653, 'stereotype'),\n",
              " (654, 'stick'),\n",
              " (655, 'still'),\n",
              " (656, 'stop'),\n",
              " (657, 'story'),\n",
              " (658, 'straight'),\n",
              " (659, 'strange'),\n",
              " (660, 'stress'),\n",
              " (661, 'strong'),\n",
              " (662, 'stuck'),\n",
              " (663, 'student'),\n",
              " (664, 'study'),\n",
              " (665, 'stuff'),\n",
              " (666, 'stupid'),\n",
              " (667, 'style'),\n",
              " (668, 'subject'),\n",
              " (669, 'suck'),\n",
              " (670, 'super'),\n",
              " (671, 'support'),\n",
              " (672, 'suppose'),\n",
              " (673, 'supposed'),\n",
              " (674, 'sure'),\n",
              " (675, 'surprised'),\n",
              " (676, 'sweet'),\n",
              " (677, 'system'),\n",
              " (678, 'take'),\n",
              " (679, 'taken'),\n",
              " (680, 'taking'),\n",
              " (681, 'talk'),\n",
              " (682, 'talking'),\n",
              " (683, 'te'),\n",
              " (684, 'teacher'),\n",
              " (685, 'tell'),\n",
              " (686, 'telling'),\n",
              " (687, 'tend'),\n",
              " (688, 'tendency'),\n",
              " (689, 'term'),\n",
              " (690, 'terrible'),\n",
              " (691, 'test'),\n",
              " (692, 'text'),\n",
              " (693, 'th'),\n",
              " (694, 'thank'),\n",
              " (695, 'thanks'),\n",
              " (696, 'theory'),\n",
              " (697, 'thinking'),\n",
              " (698, 'thread'),\n",
              " (699, 'three'),\n",
              " (700, 'ti'),\n",
              " (701, 'tired'),\n",
              " (702, 'title'),\n",
              " (703, 'today'),\n",
              " (704, 'together'),\n",
              " (705, 'told'),\n",
              " (706, 'tongue'),\n",
              " (707, 'took'),\n",
              " (708, 'top'),\n",
              " (709, 'topic'),\n",
              " (710, 'totally'),\n",
              " (711, 'touch'),\n",
              " (712, 'towards'),\n",
              " (713, 'trait'),\n",
              " (714, 'tried'),\n",
              " (715, 'trouble'),\n",
              " (716, 'true'),\n",
              " (717, 'truly'),\n",
              " (718, 'trust'),\n",
              " (719, 'truth'),\n",
              " (720, 'try'),\n",
              " (721, 'trying'),\n",
              " (722, 'turn'),\n",
              " (723, 'tv'),\n",
              " (724, 'two'),\n",
              " (725, 'typing'),\n",
              " (726, 'understand'),\n",
              " (727, 'understanding'),\n",
              " (728, 'unfortunately'),\n",
              " (729, 'unhealthy'),\n",
              " (730, 'unless'),\n",
              " (731, 'unsure'),\n",
              " (732, 'upon'),\n",
              " (733, 'use'),\n",
              " (734, 'used'),\n",
              " (735, 'useful'),\n",
              " (736, 'user'),\n",
              " (737, 'using'),\n",
              " (738, 'usually'),\n",
              " (739, 'value'),\n",
              " (740, 'video'),\n",
              " (741, 'view'),\n",
              " (742, 'voice'),\n",
              " (743, 'wait'),\n",
              " (744, 'walk'),\n",
              " (745, 'wanted'),\n",
              " (746, 'wanting'),\n",
              " (747, 'watch'),\n",
              " (748, 'watched'),\n",
              " (749, 'watching'),\n",
              " (750, 'water'),\n",
              " (751, 'wear'),\n",
              " (752, 'week'),\n",
              " (753, 'weird'),\n",
              " (754, 'welcome'),\n",
              " (755, 'went'),\n",
              " (756, 'whatever'),\n",
              " (757, 'whenever'),\n",
              " (758, 'whether'),\n",
              " (759, 'white'),\n",
              " (760, 'whole'),\n",
              " (761, 'wink'),\n",
              " (762, 'wish'),\n",
              " (763, 'within'),\n",
              " (764, 'without'),\n",
              " (765, 'woman'),\n",
              " (766, 'wonder'),\n",
              " (767, 'wondering'),\n",
              " (768, 'word'),\n",
              " (769, 'work'),\n",
              " (770, 'worked'),\n",
              " (771, 'working'),\n",
              " (772, 'world'),\n",
              " (773, 'worry'),\n",
              " (774, 'worse'),\n",
              " (775, 'worst'),\n",
              " (776, 'worth'),\n",
              " (777, 'wow'),\n",
              " (778, 'write'),\n",
              " (779, 'writing'),\n",
              " (780, 'written'),\n",
              " (781, 'wrong'),\n",
              " (782, 'wrote'),\n",
              " (783, 'xd'),\n",
              " (784, 'yeah'),\n",
              " (785, 'year'),\n",
              " (786, 'yes'),\n",
              " (787, 'yesterday'),\n",
              " (788, 'yet'),\n",
              " (789, 'young'),\n",
              " (790, 'younger')]"
            ]
          },
          "metadata": {
            "tags": []
          },
          "execution_count": 137
        }
      ]
    },
    {
      "cell_type": "code",
      "metadata": {
        "id": "Wc9_5fZfBEJw",
        "outputId": "12415d83-aff8-4c80-96be-ae968692d4d4",
        "colab": {
          "base_uri": "https://localhost:8080/",
          "height": 35
        }
      },
      "source": [
        "X_tfidf.shape"
      ],
      "execution_count": 138,
      "outputs": [
        {
          "output_type": "execute_result",
          "data": {
            "text/plain": [
              "(8675, 791)"
            ]
          },
          "metadata": {
            "tags": []
          },
          "execution_count": 138
        }
      ]
    },
    {
      "cell_type": "code",
      "metadata": {
        "id": "1rBPYyQ-BPXA",
        "outputId": "029757ac-b8ac-433f-c6e2-215ee3d9d06d",
        "colab": {
          "base_uri": "https://localhost:8080/",
          "height": 90
        }
      },
      "source": [
        "type_indicators = [ \"IE: Introversion (I) / Extroversion (E)\", \"NS: Intuition (N) – Sensing (S)\", \n",
        "                   \"FT: Feeling (F) - Thinking (T)\", \"PJ: Perceiving (P) - Judging (J)\"  ]\n",
        "\n",
        "for l in range(len(type_indicators)):\n",
        "    print(type_indicators[l])"
      ],
      "execution_count": 139,
      "outputs": [
        {
          "output_type": "stream",
          "text": [
            "IE: Introversion (I) / Extroversion (E)\n",
            "NS: Intuition (N) – Sensing (S)\n",
            "FT: Feeling (F) - Thinking (T)\n",
            "PJ: Perceiving (P) - Judging (J)\n"
          ],
          "name": "stdout"
        }
      ]
    },
    {
      "cell_type": "code",
      "metadata": {
        "id": "f0AcoTZTyi2Q",
        "outputId": "372c418e-7513-4e3c-e40a-a9536ffaa22e",
        "colab": {
          "base_uri": "https://localhost:8080/",
          "height": 35
        }
      },
      "source": [
        "list_personality[0,:]"
      ],
      "execution_count": 140,
      "outputs": [
        {
          "output_type": "execute_result",
          "data": {
            "text/plain": [
              "array([1, 1, 1, 0])"
            ]
          },
          "metadata": {
            "tags": []
          },
          "execution_count": 140
        }
      ]
    },
    {
      "cell_type": "code",
      "metadata": {
        "id": "oYVnmSafBX47",
        "outputId": "c60b4fe4-e454-46b9-c29c-695d3bfd35c4",
        "colab": {
          "base_uri": "https://localhost:8080/",
          "height": 53
        }
      },
      "source": [
        "print(\"MBTI 1st row: %s and it's description is %s\" % translate_back(list_personality[0,:]))\n",
        "print(\"Y: Binarized MBTI 1st row: %s\" % list_personality[0,:])"
      ],
      "execution_count": 141,
      "outputs": [
        {
          "output_type": "stream",
          "text": [
            "MBTI 1st row: INFJ and it's description is Person possesses following personality :- Introversion, Intuition, Feeling, Judging\n",
            "Y: Binarized MBTI 1st row: [1 1 1 0]\n"
          ],
          "name": "stdout"
        }
      ]
    },
    {
      "cell_type": "code",
      "metadata": {
        "id": "PX2i9FmZBluD"
      },
      "source": [
        "# # First XGBoost model for MBTI dataset\n",
        "# from numpy import loadtxt\n",
        "# from xgboost import XGBClassifier\n",
        "# from sklearn.model_selection import train_test_split\n",
        "# from sklearn.metrics import accuracy_score\n",
        "\n",
        "# # Posts in tf-idf representation\n",
        "# X = X_tfidf\n",
        "\n",
        "# # Let's train type indicator individually\n",
        "# for l in range(len(type_indicators)):\n",
        "#     print(\"%s ...\" % (type_indicators[l]))\n",
        "    \n",
        "#     # Let's train type indicator individually\n",
        "#     Y = list_personality[:,l]\n",
        "\n",
        "#     # split data into train and test sets\n",
        "#     seed = 7\n",
        "#     test_size = 0.33\n",
        "#     X_train, X_test, y_train, y_test = train_test_split(X, Y, test_size=test_size, random_state=seed)\n",
        "    \n",
        "#     # fit model on training data\n",
        "#     model = XGBClassifier()\n",
        "#     model.fit(X_train, y_train)\n",
        "\n",
        "#     # make predictions for test data\n",
        "#     y_pred = model.predict(X_test)\n",
        "#     predictions = [round(value) for value in y_pred]\n",
        "#     # evaluate predictions\n",
        "#     accuracy = accuracy_score(y_test, predictions)\n",
        "#     print(\"* %s Accuracy: %.2f%%\" % (type_indicators[l], accuracy * 100.0))"
      ],
      "execution_count": 109,
      "outputs": []
    },
    {
      "cell_type": "code",
      "metadata": {
        "id": "-ST2URrFUalZ",
        "outputId": "47a2cd0b-6f64-490f-b1fa-8dd31b35c0ea",
        "colab": {
          "base_uri": "https://localhost:8080/",
          "height": 749
        }
      },
      "source": [
        "#resample = SMOTEENN(enn=EditedNearestNeighbours(sampling_strategy='majority'))\n",
        "resample = SMOTETomek(tomek=TomekLinks(sampling_strategy='majority'))\n",
        "\n",
        "# Posts in tf-idf representation\n",
        "X = X_tfidf\n",
        "\n",
        "# Let's train type indicator individually\n",
        "# for l in range(len(type_indicators)):\n",
        "for l in range(1,2):\n",
        "    print(\"%s ...\" % (type_indicators[l]))\n",
        "    \n",
        "    # Let's train type indicator individually\n",
        "    Y = list_personality[:,l]\n",
        "\n",
        "    # split data into train and test sets\n",
        "    seed = 7\n",
        "    test_size = 0.20\n",
        "    X_train, X_test, y_train, y_test = train_test_split(X, Y, test_size=test_size, random_state=seed)\n",
        "\n",
        "    X_smt, y_smt = resample.fit_sample(X_train,y_train)\n",
        "    \n",
        "    # fit model on training data\n",
        "    model = SVC(probability=True)\n",
        "    model.fit(X_smt, y_smt)\n",
        "\n",
        "    # make predictions for test data\n",
        "    y_pred = model.predict(X_test)\n",
        "    predictions = [round(value) for value in y_pred]\n",
        "    # evaluate predictions\n",
        "    accuracy = accuracy_score(y_test, predictions)\n",
        "    print(\"* %s Accuracy: %.2f%%\" % (type_indicators[l], accuracy * 100.0))\n",
        "\n",
        "    model_name = '/content/drive/My Drive/Outbound/mbti'+type_indicators[l][0:2]+'.joblib.dat'\n",
        "    dump(model, model_name)\n",
        "    print(\"Saved model to:\",model_name)\n",
        "    predicted_prob = model.predict_proba(X_test)[:,1]\n",
        "    accuracy = metrics.accuracy_score(y_test, predictions)\n",
        "    auc = metrics.roc_auc_score(y_test, predicted_prob)\n",
        "    print(\"Accuracy (overall correct predictions):\",  round(accuracy,2))\n",
        "    print(\"Auc:\", round(auc,2))\n",
        "    print(metrics.classification_report(y_test, predictions))\n",
        "\n",
        "    ## Precision e Recall\n",
        "    recall = metrics.recall_score(y_test, predictions)  #= true 1s / all 1s in test (got and missed)\n",
        "    precision = metrics.precision_score(y_test, predictions)  #= true 1s / all 1s predicted (true 1s + false 1s)\n",
        "    f1 = metrics.f1_score(y_test, predictions)  #=2 * (precision * recall) / (precision + recall)\n",
        "    print(\"Recall (all 1s predicted right):\", round(recall,2))  #true positive rate, how many 1s I got\n",
        "    print(\"Precision (confidence when predicting a 1):\", round(precision,2))  #how many 1s were really 1s\n",
        "    print(\"F1 score:\", round(f1,2))\n",
        "    \n",
        "    ## Plot confusion matrix\n",
        "    classes = np.unique(y_test)\n",
        "    fig, ax = plt.subplots(nrows=1, ncols=1, figsize=(25,5))\n",
        "    cm = metrics.confusion_matrix(y_test, predictions, labels=classes)\n",
        "    sns.heatmap(cm, annot=True, annot_kws={\"size\":15}, fmt='d', ax=ax, cmap=plt.cm.Blues, cbar=False)\n",
        "    ax.set(xlabel=\"Pred\", ylabel=\"True\", title=\"Confusion matrix\")\n",
        "    ax.set_yticklabels(labels=classes, rotation=0)"
      ],
      "execution_count": 112,
      "outputs": [
        {
          "output_type": "stream",
          "text": [
            "NS: Intuition (N) – Sensing (S) ...\n"
          ],
          "name": "stdout"
        },
        {
          "output_type": "stream",
          "text": [
            "/usr/local/lib/python3.6/dist-packages/sklearn/utils/deprecation.py:87: FutureWarning: Function safe_indexing is deprecated; safe_indexing is deprecated in version 0.22 and will be removed in version 0.24.\n",
            "  warnings.warn(msg, category=FutureWarning)\n",
            "/usr/local/lib/python3.6/dist-packages/sklearn/utils/deprecation.py:87: FutureWarning: Function safe_indexing is deprecated; safe_indexing is deprecated in version 0.22 and will be removed in version 0.24.\n",
            "  warnings.warn(msg, category=FutureWarning)\n"
          ],
          "name": "stderr"
        },
        {
          "output_type": "stream",
          "text": [
            "* NS: Intuition (N) – Sensing (S) Accuracy: 86.51%\n",
            "Saved model to: /content/drive/My Drive/Outbound/mbtiNS.joblib.dat\n",
            "Accuracy (overall correct predictions): 0.87\n",
            "Auc: 0.72\n",
            "              precision    recall  f1-score   support\n",
            "\n",
            "           0       0.71      0.02      0.04       237\n",
            "           1       0.87      1.00      0.93      1498\n",
            "\n",
            "    accuracy                           0.87      1735\n",
            "   macro avg       0.79      0.51      0.48      1735\n",
            "weighted avg       0.85      0.87      0.81      1735\n",
            "\n",
            "Recall (all 1s predicted right): 1.0\n",
            "Precision (confidence when predicting a 1): 0.87\n",
            "F1 score: 0.93\n"
          ],
          "name": "stdout"
        },
        {
          "output_type": "display_data",
          "data": {
            "image/png": "[encoded data removed]",
            "text/plain": [
              "<Figure size 1800x360 with 1 Axes>"
            ]
          },
          "metadata": {
            "tags": [],
            "needs_background": "light"
          }
        }
      ]
    },
    {
      "cell_type": "code",
      "metadata": {
        "id": "Anct_5_fARdj",
        "outputId": "ea4c4f3c-7a0d-4fcd-ae01-f7a9af924ef8",
        "colab": {
          "base_uri": "https://localhost:8080/",
          "height": 35
        }
      },
      "source": [
        "np.unique(predictions)"
      ],
      "execution_count": 113,
      "outputs": [
        {
          "output_type": "execute_result",
          "data": {
            "text/plain": [
              "array([0, 1])"
            ]
          },
          "metadata": {
            "tags": []
          },
          "execution_count": 113
        }
      ]
    },
    {
      "cell_type": "code",
      "metadata": {
        "id": "z_MaM7cY4YOR"
      },
      "source": [
        "y_pred_1 = model.predict(X_smt)"
      ],
      "execution_count": 120,
      "outputs": []
    },
    {
      "cell_type": "code",
      "metadata": {
        "id": "Q-fMcPgu61R9",
        "outputId": "9e8c5924-1a35-4f0b-fb89-f7b4cbbece62",
        "colab": {
          "base_uri": "https://localhost:8080/",
          "height": 35
        }
      },
      "source": [
        " accuracy = metrics.accuracy_score(y_smt,y_pred_1)\n",
        " accuracy"
      ],
      "execution_count": 121,
      "outputs": [
        {
          "output_type": "execute_result",
          "data": {
            "text/plain": [
              "0.9900501672240802"
            ]
          },
          "metadata": {
            "tags": []
          },
          "execution_count": 121
        }
      ]
    },
    {
      "cell_type": "code",
      "metadata": {
        "id": "xxy0tRyx7-_1",
        "outputId": "460655c7-2551-41cd-fff1-730ac10d9e68",
        "colab": {
          "base_uri": "https://localhost:8080/",
          "height": 72
        }
      },
      "source": [
        "    recall = metrics.recall_score(y_smt,y_pred_1)  #= true 1s / all 1s in test (got and missed)\n",
        "    precision = metrics.precision_score(y_smt,y_pred_1)  #= true 1s / all 1s predicted (true 1s + false 1s)\n",
        "    f1 = metrics.f1_score(y_smt,y_pred_1)  #=2 * (precision * recall) / (precision + recall)\n",
        "    print(\"Recall (all 1s predicted right):\", round(recall,2))  #true positive rate, how many 1s I got\n",
        "    print(\"Precision (confidence when predicting a 1):\", round(precision,2))  #how many 1s were really 1s\n",
        "    print(\"F1 score:\", round(f1,2))"
      ],
      "execution_count": 88,
      "outputs": [
        {
          "output_type": "stream",
          "text": [
            "Recall (all 1s predicted right): 1.0\n",
            "Precision (confidence when predicting a 1): 0.97\n",
            "F1 score: 0.98\n"
          ],
          "name": "stdout"
        }
      ]
    },
    {
      "cell_type": "code",
      "metadata": {
        "id": "Ak_exCJp7kGG",
        "outputId": "dd24a3ff-87dc-40a3-e9b1-cb4d0622b255",
        "colab": {
          "base_uri": "https://localhost:8080/",
          "height": 373
        }
      },
      "source": [
        "classes = np.unique(y_smt)\n",
        "fig, ax = plt.subplots(nrows=1, ncols=1, figsize=(10,5))\n",
        "cm = metrics.confusion_matrix(y_smt, y_pred_1, labels=classes)\n",
        "sns.heatmap(cm, annot=True, annot_kws={\"size\":15}, fmt='d', ax=ax, cmap=plt.cm.Blues, cbar=False)\n",
        "ax.set(xlabel=\"Pred\", ylabel=\"True\", title=\"Confusion matrix\")\n",
        "ax.set_yticklabels(labels=classes, rotation=0)"
      ],
      "execution_count": 87,
      "outputs": [
        {
          "output_type": "execute_result",
          "data": {
            "text/plain": [
              "[Text(0, 0.5, '0'), Text(0, 1.5, '1')]"
            ]
          },
          "metadata": {
            "tags": []
          },
          "execution_count": 87
        },
        {
          "output_type": "display_data",
          "data": {
            "image/png": "[encoded data removed]",
            "text/plain": [
              "<Figure size 720x360 with 1 Axes>"
            ]
          },
          "metadata": {
            "tags": []
          }
        }
      ]
    },
    {
      "cell_type": "code",
      "metadata": {
        "id": "7yQzH7auh6Ck",
        "outputId": "5de249ad-6560-47d6-c6b6-a039b993e5d3",
        "colab": {
          "base_uri": "https://localhost:8080/",
          "height": 35
        }
      },
      "source": [
        "X_smt.shape, y_smt.shape, X_train.shape,y_train.shape,X_test.shape,y_test.shape"
      ],
      "execution_count": 117,
      "outputs": [
        {
          "output_type": "execute_result",
          "data": {
            "text/plain": [
              "((11960, 791), (11960,), (6940, 791), (6940,), (1735, 791), (1735,))"
            ]
          },
          "metadata": {
            "tags": []
          },
          "execution_count": 117
        }
      ]
    },
    {
      "cell_type": "code",
      "metadata": {
        "id": "_Vlf8u9_zMbw",
        "outputId": "4ca29079-496e-43f5-fca4-96b4bf1b37e3",
        "colab": {
          "base_uri": "https://localhost:8080/",
          "height": 90
        }
      },
      "source": [
        "dataframe=pd.DataFrame(y_smt, columns=['a']) \n",
        "dataframe.value_counts()"
      ],
      "execution_count": 119,
      "outputs": [
        {
          "output_type": "execute_result",
          "data": {
            "text/plain": [
              "a\n",
              "1    5980\n",
              "0    5980\n",
              "dtype: int64"
            ]
          },
          "metadata": {
            "tags": []
          },
          "execution_count": 119
        }
      ]
    },
    {
      "cell_type": "code",
      "metadata": {
        "id": "LVu2_b5Y0N9a",
        "outputId": "b6c9f688-d2ec-4fe1-80d3-8116fa3a5ee4",
        "colab": {
          "base_uri": "https://localhost:8080/",
          "height": 90
        }
      },
      "source": [
        "dataframe=pd.DataFrame(y_test, columns=['a']) \n",
        "dataframe.value_counts()"
      ],
      "execution_count": 118,
      "outputs": [
        {
          "output_type": "execute_result",
          "data": {
            "text/plain": [
              "a\n",
              "1    1498\n",
              "0     237\n",
              "dtype: int64"
            ]
          },
          "metadata": {
            "tags": []
          },
          "execution_count": 118
        }
      ]
    },
    {
      "cell_type": "code",
      "metadata": {
        "id": "WvTwRfcJ0Xdd",
        "outputId": "6c3c5a2e-4ab2-4bff-951d-d921875f3c8e",
        "colab": {
          "base_uri": "https://localhost:8080/",
          "height": 376
        }
      },
      "source": [
        "import seaborn as sns\n",
        "sns.countplot(dataframe['a']);\n",
        "sns.set(style=\"whitegrid\")\n",
        "plt.title('Target Variable Frequency')"
      ],
      "execution_count": 79,
      "outputs": [
        {
          "output_type": "stream",
          "text": [
            "/usr/local/lib/python3.6/dist-packages/seaborn/_decorators.py:43: FutureWarning: Pass the following variable as a keyword arg: x. From version 0.12, the only valid positional argument will be `data`, and passing other arguments without an explicit keyword will result in an error or misinterpretation.\n",
            "  FutureWarning\n"
          ],
          "name": "stderr"
        },
        {
          "output_type": "execute_result",
          "data": {
            "text/plain": [
              "Text(0.5, 1.0, 'Target Variable Frequency')"
            ]
          },
          "metadata": {
            "tags": []
          },
          "execution_count": 79
        },
        {
          "output_type": "display_data",
          "data": {
            "image/png": "[encoded data removed]",
            "text/plain": [
              "<Figure size 432x288 with 1 Axes>"
            ]
          },
          "metadata": {
            "tags": []
          }
        }
      ]
    },
    {
      "cell_type": "code",
      "metadata": {
        "id": "ZNlx1ZL-z0GY",
        "outputId": "92e2e218-ac1e-4963-b7a8-d677c14174fd",
        "colab": {
          "base_uri": "https://localhost:8080/",
          "height": 376
        }
      },
      "source": [
        "import seaborn as sns\n",
        "sns.countplot(dataframe['a']);\n",
        "sns.set(style=\"whitegrid\")\n",
        "plt.title('Target Variable Frequency')"
      ],
      "execution_count": 76,
      "outputs": [
        {
          "output_type": "stream",
          "text": [
            "/usr/local/lib/python3.6/dist-packages/seaborn/_decorators.py:43: FutureWarning: Pass the following variable as a keyword arg: x. From version 0.12, the only valid positional argument will be `data`, and passing other arguments without an explicit keyword will result in an error or misinterpretation.\n",
            "  FutureWarning\n"
          ],
          "name": "stderr"
        },
        {
          "output_type": "execute_result",
          "data": {
            "text/plain": [
              "Text(0.5, 1.0, 'Target Variable Frequency')"
            ]
          },
          "metadata": {
            "tags": []
          },
          "execution_count": 76
        },
        {
          "output_type": "display_data",
          "data": {
            "image/png": "[encoded data removed]",
            "text/plain": [
              "<Figure size 432x288 with 1 Axes>"
            ]
          },
          "metadata": {
            "tags": []
          }
        }
      ]
    },
    {
      "cell_type": "code",
      "metadata": {
        "id": "Spe0KizPp2tM"
      },
      "source": [
        "predictions.count(1)"
      ],
      "execution_count": null,
      "outputs": []
    },
    {
      "cell_type": "code",
      "metadata": {
        "id": "v9KSGfT-OsFE"
      },
      "source": [
        "X_train.shape, _test.shape"
      ],
      "execution_count": null,
      "outputs": []
    },
    {
      "cell_type": "code",
      "metadata": {
        "id": "ucH-BL8ZInBe"
      },
      "source": [
        "from sklearn.metrics import roc_auc_score\n",
        "predicted_prob = model.predict_proba(X_test)[:,1]\n",
        "accuracy = metrics.accuracy_score(y_test, predictions)\n",
        "auc = metrics.roc_auc_score(y_test, predicted_prob)\n",
        "print(\"Accuracy (overall correct predictions):\",  round(accuracy,2))\n",
        "print(\"Auc:\", round(auc,2))"
      ],
      "execution_count": null,
      "outputs": []
    },
    {
      "cell_type": "code",
      "metadata": {
        "id": "zGBPw0cfD_6F",
        "outputId": "80d5b52c-2db1-491e-c6ac-5921b9b46fd4",
        "colab": {
          "base_uri": "https://localhost:8080/",
          "height": 35
        }
      },
      "source": [
        "predictions.count(0)"
      ],
      "execution_count": 103,
      "outputs": [
        {
          "output_type": "execute_result",
          "data": {
            "text/plain": [
              "28"
            ]
          },
          "metadata": {
            "tags": []
          },
          "execution_count": 103
        }
      ]
    },
    {
      "cell_type": "code",
      "metadata": {
        "id": "lQXixUzeGaJS",
        "outputId": "c5195d7b-43dd-40f2-c3d4-35ac3a2483e9",
        "colab": {
          "base_uri": "https://localhost:8080/",
          "height": 35
        }
      },
      "source": [
        "predictions.count(1)"
      ],
      "execution_count": 104,
      "outputs": [
        {
          "output_type": "execute_result",
          "data": {
            "text/plain": [
              "1707"
            ]
          },
          "metadata": {
            "tags": []
          },
          "execution_count": 104
        }
      ]
    },
    {
      "cell_type": "code",
      "metadata": {
        "id": "bXD1LBm9FhT9"
      },
      "source": [
        "a = pd.DataFrame(data=y_test,columns=['ajit'])"
      ],
      "execution_count": 96,
      "outputs": []
    },
    {
      "cell_type": "code",
      "metadata": {
        "id": "u2n3Q_WzGKXp",
        "outputId": "f87640bb-acb1-414f-cea6-ceded426cd0c",
        "colab": {
          "base_uri": "https://localhost:8080/",
          "height": 72
        }
      },
      "source": [
        "a['ajit'].value_counts()"
      ],
      "execution_count": 100,
      "outputs": [
        {
          "output_type": "execute_result",
          "data": {
            "text/plain": [
              "1    1342\n",
              "0     393\n",
              "Name: ajit, dtype: int64"
            ]
          },
          "metadata": {
            "tags": []
          },
          "execution_count": 100
        }
      ]
    },
    {
      "cell_type": "code",
      "metadata": {
        "id": "Glz4Rkm32bht",
        "outputId": "2a511445-41a3-4539-8902-a0277f9235b2",
        "colab": {
          "base_uri": "https://localhost:8080/",
          "height": 36
        }
      },
      "source": [
        "type_indicators[0][0:2]"
      ],
      "execution_count": 49,
      "outputs": [
        {
          "output_type": "execute_result",
          "data": {
            "application/vnd.google.colaboratory.intrinsic+json": {
              "type": "string"
            },
            "text/plain": [
              "'IE'"
            ]
          },
          "metadata": {
            "tags": []
          },
          "execution_count": 49
        }
      ]
    },
    {
      "cell_type": "code",
      "metadata": {
        "id": "08vDmEu2xr49",
        "outputId": "a4cd9809-1ef7-4fa8-e69b-1180a9dc6b93",
        "colab": {
          "base_uri": "https://localhost:8080/",
          "height": 985
        }
      },
      "source": [
        "# Posts in tf-idf representation\n",
        "X = X_tfidf\n",
        "\n",
        "# Let's train type indicator individually\n",
        "#for l in range(len(type_indicators)):\n",
        "for l in range(0,1):\n",
        "    print(\"%s ...\" % (type_indicators[l]))\n",
        "\n",
        "    Y = list_personality[:,l]\n",
        "    model = SVC()\n",
        "    \n",
        "    kfold = StratifiedKFold(n_splits=5, shuffle=True, random_state=7)\n",
        "    C = [0.1,1, 10, 100]\n",
        "    gamma = [1,0.1,0.01,0.001]\n",
        "\n",
        "    seed = 7\n",
        "    test_size = 0.20\n",
        "    X_train, X_test, y_train, y_test = train_test_split(X, Y, test_size=test_size, random_state=seed)\n",
        "\n",
        "    if type_indicators[l][0:2] == 'IE' or type_indicators[l][0:2] == 'NS':\n",
        "      \n",
        "      print('inside')\n",
        "      pipe_nn_ENN = Pipeline([\n",
        "          ('smtenn', SMOTEENN(enn=EditedNearestNeighbours(sampling_strategy='majority'))),\n",
        "          ('clf',model)])\n",
        "    \n",
        "      pipe_grid_ENN = [\n",
        "             {'smtenn': [SMOTEENN(enn=EditedNearestNeighbours(sampling_strategy='majority'))],\n",
        "             'clf':[model],\n",
        "             'clf__C' :  C,\n",
        "             'clf__gamma' : gamma        \n",
        "      }]\n",
        "          \n",
        "      grid_search = GridSearchCV(pipe_nn_ENN, pipe_grid_ENN, scoring=\"accuracy\",verbose=3, n_jobs=-1, cv=kfold).fit(X_train, y_train)\n",
        "\n",
        "    else:\n",
        "      param_grid = {'C': [0.1,1, 10, 100], 'gamma': [1,0.1,0.01,0.001]}\n",
        "      grid_search = GridSearchCV(model, param_grid, scoring=\"accuracy\",verbose=3, n_jobs=-1, cv=kfold).fit(X_train, y_train)\n",
        "\n",
        "    # summarize results\n",
        "    print(\"* Best: %f using %s\" % (grid_search.best_score_,grid_search.best_params_))\n",
        "    model_name = '/content/drive/My Drive/Outbound/mbti_kfold'+type_indicators[l][0:2]+'.joblib.dat'\n",
        "    dump(grid_search, model_name)\n",
        "    print(\"Saved model to:\",model_name)\n",
        "    predicted = grid_search.predict(X_test)\n",
        "\n",
        "    accuracy = metrics.accuracy_score(y_test, predicted)\n",
        "    print(\"Accuracy (overall correct predictions):\",  round(accuracy,2))\n",
        "    print(metrics.classification_report(y_test, predicted))\n",
        "\n",
        "    ## Precision e Recall\n",
        "    recall = metrics.recall_score(y_test, predicted)  #= true 1s / all 1s in test (got and missed)\n",
        "    precision = metrics.precision_score(y_test, predicted)  #= true 1s / all 1s predicted (true 1s + false 1s)\n",
        "    f1 = metrics.f1_score(y_test, predicted)  #=2 * (precision * recall) / (precision + recall)\n",
        "    print(\"Recall (all 1s predicted right):\", round(recall,2))  #true positive rate, how many 1s I got\n",
        "    print(\"Precision (confidence when predicting a 1):\", round(precision,2))  #how many 1s were really 1s\n",
        "    print(\"F1 score:\", round(f1,2))\n",
        "    \n",
        "    ## Plot confusion matrix\n",
        "    classes = np.unique(y_test)\n",
        "    fig, ax = plt.subplots(nrows=1, ncols=1, figsize=(10,5))\n",
        "    cm = metrics.confusion_matrix(y_test, predicted, labels=classes)\n",
        "    sns.heatmap(cm, annot=True, annot_kws={\"size\":15}, fmt='d', ax=ax, cmap=plt.cm.Blues, cbar=False)\n",
        "    ax.set(xlabel=\"Pred\", ylabel=\"True\", title=\"Confusion matrix\")\n",
        "    ax.set_yticklabels(labels=classes, rotation=0)"
      ],
      "execution_count": 143,
      "outputs": [
        {
          "output_type": "stream",
          "text": [
            "IE: Introversion (I) / Extroversion (E) ...\n",
            "inside\n",
            "Fitting 5 folds for each of 16 candidates, totalling 80 fits\n"
          ],
          "name": "stdout"
        },
        {
          "output_type": "stream",
          "text": [
            "[Parallel(n_jobs=-1)]: Using backend LokyBackend with 4 concurrent workers.\n",
            "[Parallel(n_jobs=-1)]: Done  24 tasks      | elapsed: 18.5min\n",
            "[Parallel(n_jobs=-1)]: Done  80 out of  80 | elapsed: 57.8min finished\n",
            "/usr/local/lib/python3.6/dist-packages/sklearn/utils/deprecation.py:87: FutureWarning: Function safe_indexing is deprecated; safe_indexing is deprecated in version 0.22 and will be removed in version 0.24.\n",
            "  warnings.warn(msg, category=FutureWarning)\n",
            "/usr/local/lib/python3.6/dist-packages/sklearn/utils/deprecation.py:87: FutureWarning: Function safe_indexing is deprecated; safe_indexing is deprecated in version 0.22 and will be removed in version 0.24.\n",
            "  warnings.warn(msg, category=FutureWarning)\n",
            "/usr/local/lib/python3.6/dist-packages/sklearn/utils/deprecation.py:87: FutureWarning: Function safe_indexing is deprecated; safe_indexing is deprecated in version 0.22 and will be removed in version 0.24.\n",
            "  warnings.warn(msg, category=FutureWarning)\n"
          ],
          "name": "stderr"
        },
        {
          "output_type": "stream",
          "text": [
            "* Best: 0.773775 using {'clf': SVC(C=1, break_ties=False, cache_size=200, class_weight=None, coef0=0.0,\n",
            "    decision_function_shape='ovr', degree=3, gamma=1, kernel='rbf', max_iter=-1,\n",
            "    probability=False, random_state=None, shrinking=True, tol=0.001,\n",
            "    verbose=False), 'clf__C': 1, 'clf__gamma': 1, 'smtenn': SMOTEENN(enn=EditedNearestNeighbours(kind_sel='all', n_jobs=1, n_neighbors=3,\n",
            "                                     random_state=None, ratio=None,\n",
            "                                     return_indices=False,\n",
            "                                     sampling_strategy='majority'),\n",
            "         random_state=None, ratio=None, sampling_strategy='auto', smote=None)}\n",
            "Saved model to: /content/drive/My Drive/Outbound/mbti_kfoldIE.joblib.dat\n",
            "Accuracy (overall correct predictions): 0.78\n",
            "              precision    recall  f1-score   support\n",
            "\n",
            "           0       0.58      0.07      0.13       393\n",
            "           1       0.78      0.99      0.87      1342\n",
            "\n",
            "    accuracy                           0.78      1735\n",
            "   macro avg       0.68      0.53      0.50      1735\n",
            "weighted avg       0.74      0.78      0.70      1735\n",
            "\n",
            "Recall (all 1s predicted right): 0.99\n",
            "Precision (confidence when predicting a 1): 0.78\n",
            "F1 score: 0.87\n"
          ],
          "name": "stdout"
        },
        {
          "output_type": "display_data",
          "data": {
            "image/png": "[encoded data removed]",
            "text/plain": [
              "<Figure size 1800x360 with 1 Axes>"
            ]
          },
          "metadata": {
            "tags": [],
            "needs_background": "light"
          }
        }
      ]
    },
    {
      "cell_type": "code",
      "metadata": {
        "id": "oIzwv5CXgH43",
        "outputId": "549ae300-1909-43f7-f223-59b6fc70cc33",
        "colab": {
          "base_uri": "https://localhost:8080/",
          "height": 938
        }
      },
      "source": [
        "# Posts in tf-idf representation\n",
        "X = X_tfidf\n",
        "\n",
        "# Let's train type indicator individually\n",
        "#for l in range(len(type_indicators)):\n",
        "for l in range(0,1):\n",
        "    print(\"%s ...\" % (type_indicators[l]))\n",
        "\n",
        "    Y = list_personality[:,l]\n",
        "    model = SVC()\n",
        "    \n",
        "    kfold = StratifiedKFold(n_splits=5, shuffle=True, random_state=7)\n",
        "    C = [0.1,1, 10, 100]\n",
        "    gamma = [1,0.1,0.01,0.001]\n",
        "\n",
        "    seed = 7\n",
        "    test_size = 0.20\n",
        "    X_train, X_test, y_train, y_test = train_test_split(X, Y, test_size=test_size, random_state=seed)\n",
        "\n",
        "    if type_indicators[l][0:2] == 'IE' or type_indicators[l][0:2] == 'NS':\n",
        "      \n",
        "      print('inside')\n",
        "      pipe_nn_ENN = Pipeline([\n",
        "          ('smttmk', SMOTETomek(tomek=TomekLinks(sampling_strategy='majority'))),\n",
        "          ('clf',model)])\n",
        "    \n",
        "      pipe_grid_ENN = [\n",
        "             {'smttmk': [SMOTETomek(tomek=TomekLinks(sampling_strategy='majority'))],\n",
        "             'clf':[model],\n",
        "             'clf__C' :  C,\n",
        "             'clf__gamma' : gamma        \n",
        "      }]\n",
        "          \n",
        "      grid_search = GridSearchCV(pipe_nn_ENN, pipe_grid_ENN, scoring=\"accuracy\",verbose=3, n_jobs=-1, cv=kfold).fit(X_train, y_train)\n",
        "\n",
        "    else:\n",
        "      param_grid = {'C': [0.1,1, 10, 100], 'gamma': [1,0.1,0.01,0.001]}\n",
        "      grid_search = GridSearchCV(model, param_grid, scoring=\"accuracy\",verbose=3, n_jobs=-1, cv=kfold).fit(X_train, y_train)\n",
        "\n",
        "    # summarize results\n",
        "    print(\"* Best: %f using %s\" % (grid_search.best_score_,grid_search.best_params_))\n",
        "    model_name = '/content/drive/My Drive/Outbound/mbti_kfold'+type_indicators[l][0:2]+'.joblib.dat'\n",
        "    dump(grid_search, model_name)\n",
        "    print(\"Saved model to:\",model_name)\n",
        "    predicted = grid_search.predict(X_test)\n",
        "\n",
        "    accuracy = metrics.accuracy_score(y_test, predicted)\n",
        "    print(\"Accuracy (overall correct predictions):\",  round(accuracy,2))\n",
        "    print(metrics.classification_report(y_test, predicted))\n",
        "\n",
        "    ## Precision e Recall\n",
        "    recall = metrics.recall_score(y_test, predicted)  #= true 1s / all 1s in test (got and missed)\n",
        "    precision = metrics.precision_score(y_test, predicted)  #= true 1s / all 1s predicted (true 1s + false 1s)\n",
        "    f1 = metrics.f1_score(y_test, predicted)  #=2 * (precision * recall) / (precision + recall)\n",
        "    print(\"Recall (all 1s predicted right):\", round(recall,2))  #true positive rate, how many 1s I got\n",
        "    print(\"Precision (confidence when predicting a 1):\", round(precision,2))  #how many 1s were really 1s\n",
        "    print(\"F1 score:\", round(f1,2))\n",
        "    \n",
        "    ## Plot confusion matrix\n",
        "    classes = np.unique(y_test)\n",
        "    fig, ax = plt.subplots(nrows=1, ncols=1, figsize=(10,5))\n",
        "    cm = metrics.confusion_matrix(y_test, predicted, labels=classes)\n",
        "    sns.heatmap(cm, annot=True, annot_kws={\"size\":15}, fmt='d', ax=ax, cmap=plt.cm.Blues, cbar=False)\n",
        "    ax.set(xlabel=\"Pred\", ylabel=\"True\", title=\"Confusion matrix\")\n",
        "    ax.set_yticklabels(labels=classes, rotation=0)"
      ],
      "execution_count": 145,
      "outputs": [
        {
          "output_type": "stream",
          "text": [
            "IE: Introversion (I) / Extroversion (E) ...\n",
            "inside\n",
            "Fitting 5 folds for each of 16 candidates, totalling 80 fits\n"
          ],
          "name": "stdout"
        },
        {
          "output_type": "stream",
          "text": [
            "[Parallel(n_jobs=-1)]: Using backend LokyBackend with 4 concurrent workers.\n",
            "[Parallel(n_jobs=-1)]: Done  24 tasks      | elapsed: 27.4min\n",
            "[Parallel(n_jobs=-1)]: Done  80 out of  80 | elapsed: 88.1min finished\n",
            "/usr/local/lib/python3.6/dist-packages/sklearn/utils/deprecation.py:87: FutureWarning: Function safe_indexing is deprecated; safe_indexing is deprecated in version 0.22 and will be removed in version 0.24.\n",
            "  warnings.warn(msg, category=FutureWarning)\n",
            "/usr/local/lib/python3.6/dist-packages/sklearn/utils/deprecation.py:87: FutureWarning: Function safe_indexing is deprecated; safe_indexing is deprecated in version 0.22 and will be removed in version 0.24.\n",
            "  warnings.warn(msg, category=FutureWarning)\n"
          ],
          "name": "stderr"
        },
        {
          "output_type": "stream",
          "text": [
            "* Best: 0.777233 using {'clf': SVC(C=1, break_ties=False, cache_size=200, class_weight=None, coef0=0.0,\n",
            "    decision_function_shape='ovr', degree=3, gamma=1, kernel='rbf', max_iter=-1,\n",
            "    probability=False, random_state=None, shrinking=True, tol=0.001,\n",
            "    verbose=False), 'clf__C': 1, 'clf__gamma': 1, 'smttmk': SMOTETomek(random_state=None, ratio=None, sampling_strategy='auto', smote=None,\n",
            "           tomek=TomekLinks(n_jobs=1, random_state=None, ratio=None,\n",
            "                            return_indices=False,\n",
            "                            sampling_strategy='majority'))}\n",
            "Saved model to: /content/drive/My Drive/Outbound/mbti_kfoldIE.joblib.dat\n",
            "Accuracy (overall correct predictions): 0.78\n",
            "              precision    recall  f1-score   support\n",
            "\n",
            "           0       0.59      0.16      0.25       393\n",
            "           1       0.80      0.97      0.87      1342\n",
            "\n",
            "    accuracy                           0.78      1735\n",
            "   macro avg       0.69      0.56      0.56      1735\n",
            "weighted avg       0.75      0.78      0.73      1735\n",
            "\n",
            "Recall (all 1s predicted right): 0.97\n",
            "Precision (confidence when predicting a 1): 0.8\n",
            "F1 score: 0.87\n"
          ],
          "name": "stdout"
        },
        {
          "output_type": "display_data",
          "data": {
            "image/png": "[encoded data removed]",
            "text/plain": [
              "<Figure size 720x360 with 1 Axes>"
            ]
          },
          "metadata": {
            "tags": [],
            "needs_background": "light"
          }
        }
      ]
    },
    {
      "cell_type": "code",
      "metadata": {
        "id": "qAV1bYt520H4",
        "outputId": "1890a3a2-1613-43fe-d2b4-714338616ca5",
        "colab": {
          "base_uri": "https://localhost:8080/",
          "height": 108
        }
      },
      "source": [
        "# Posts in tf-idf representation\n",
        "X = X_tfidf\n",
        "\n",
        "# Let's train type indicator individually\n",
        "#for l in range(len(type_indicators)):\n",
        "for l in range(1,2):\n",
        "    print(\"%s ...\" % (type_indicators[l]))\n",
        "\n",
        "    Y = list_personality[:,l]\n",
        "    model = SVC()\n",
        "    \n",
        "    kfold = StratifiedKFold(n_splits=5, shuffle=True, random_state=7)\n",
        "    C = [0.1,1, 10, 100]\n",
        "    gamma = [1,0.1,0.01,0.001]\n",
        "\n",
        "    seed = 7\n",
        "    test_size = 0.20\n",
        "    X_train, X_test, y_train, y_test = train_test_split(X, Y, test_size=test_size, random_state=seed)\n",
        "\n",
        "    if type_indicators[l][0:2] == 'IE' or type_indicators[l][0:2] == 'NS':\n",
        "      \n",
        "      print('inside')\n",
        "      pipe_nn_ENN = Pipeline([\n",
        "          ('smtenn', SMOTEENN(enn=EditedNearestNeighbours(sampling_strategy='majority'))),\n",
        "          ('clf',model)])\n",
        "    \n",
        "      pipe_grid_ENN = [\n",
        "             {'smtenn': [SMOTEENN(enn=EditedNearestNeighbours(sampling_strategy='majority'))],\n",
        "             'clf':[model],\n",
        "             'clf__C' :  C,\n",
        "             'clf__gamma' : gamma        \n",
        "      }]\n",
        "          \n",
        "      grid_search = GridSearchCV(pipe_nn_ENN, pipe_grid_ENN, scoring=\"accuracy\",verbose=3, n_jobs=-1, cv=kfold).fit(X_train, y_train)\n",
        "\n",
        "    else:\n",
        "      param_grid = {'C': [0.1,1, 10, 100], 'gamma': [1,0.1,0.01,0.001]}\n",
        "      grid_search = GridSearchCV(model, param_grid, scoring=\"accuracy\",verbose=3, n_jobs=-1, cv=kfold).fit(X_train, y_train)\n",
        "\n",
        "    # summarize results\n",
        "    print(\"* Best: %f using %s\" % (grid_search.best_score_,grid_search.best_params_))\n",
        "    model_name = '/content/drive/My Drive/Outbound/mbti_kfold'+type_indicators[l][0:2]+'.joblib.dat'\n",
        "    dump(grid_search, model_name)\n",
        "    print(\"Saved model to:\",model_name)\n",
        "    predicted = grid_search.predict(X_test)\n",
        "\n",
        "    accuracy = metrics.accuracy_score(y_test, predicted)\n",
        "    print(\"Accuracy (overall correct predictions):\",  round(accuracy,2))\n",
        "    print(metrics.classification_report(y_test, predicted))\n",
        "\n",
        "    ## Precision e Recall\n",
        "    recall = metrics.recall_score(y_test, predicted)  #= true 1s / all 1s in test (got and missed)\n",
        "    precision = metrics.precision_score(y_test, predicted)  #= true 1s / all 1s predicted (true 1s + false 1s)\n",
        "    f1 = metrics.f1_score(y_test, predicted)  #=2 * (precision * recall) / (precision + recall)\n",
        "    print(\"Recall (all 1s predicted right):\", round(recall,2))  #true positive rate, how many 1s I got\n",
        "    print(\"Precision (confidence when predicting a 1):\", round(precision,2))  #how many 1s were really 1s\n",
        "    print(\"F1 score:\", round(f1,2))\n",
        "    \n",
        "    ## Plot confusion matrix\n",
        "    classes = np.unique(y_test)\n",
        "    fig, ax = plt.subplots(nrows=1, ncols=1, figsize=(10,5))\n",
        "    cm = metrics.confusion_matrix(y_test, predicted, labels=classes)\n",
        "    sns.heatmap(cm, annot=True, annot_kws={\"size\":15}, fmt='d', ax=ax, cmap=plt.cm.Blues, cbar=False)\n",
        "    ax.set(xlabel=\"Pred\", ylabel=\"True\", title=\"Confusion matrix\")\n",
        "    ax.set_yticklabels(labels=classes, rotation=0)"
      ],
      "execution_count": null,
      "outputs": [
        {
          "output_type": "stream",
          "text": [
            "NS: Intuition (N) – Sensing (S) ...\n",
            "inside\n",
            "Fitting 5 folds for each of 16 candidates, totalling 80 fits\n"
          ],
          "name": "stdout"
        },
        {
          "output_type": "stream",
          "text": [
            "[Parallel(n_jobs=-1)]: Using backend LokyBackend with 4 concurrent workers.\n",
            "[Parallel(n_jobs=-1)]: Done  24 tasks      | elapsed: 21.7min\n"
          ],
          "name": "stderr"
        }
      ]
    },
    {
      "cell_type": "code",
      "metadata": {
        "id": "e205S7zbxFFL"
      },
      "source": [
        "# some time later...\n",
        "# load model from file\n",
        "loaded_model_IE = load(\"mbtiIE.joblib.dat\")\n",
        "loaded_model_NS = load(\"mbtiNS.joblib.dat\")\n",
        "loaded_model_FT = load(\"mbtiFT.joblib.dat\")\n",
        "loaded_model_PJ = load(\"mbtiPJ.joblib.dat\")"
      ],
      "execution_count": null,
      "outputs": []
    },
    {
      "cell_type": "code",
      "metadata": {
        "id": "ArP1YI1PxrUv"
      },
      "source": [
        "my_posts = \"\"\"I have worked in Dell International for 1 year as an Escalation Specialist in Customer Care Department. It was nice experience over there. After leaving that job I started preparing for my profile oriented opportunities and soon I got the call for Indian Defence [Army & Navy]. However, I was unable to make it because of stringent physical requirements and rigorous training. After that I started playing Arm wrestling and represented my state at national level. For a period I have been into Modelling and done shows. After that I became soft skills trainer for new models. For a period of time I have worked as IELTS trainer.\"\"\""
      ],
      "execution_count": null,
      "outputs": []
    },
    {
      "cell_type": "code",
      "metadata": {
        "id": "WCHFxJgkxwhn",
        "outputId": "c16c9eb8-a47c-4547-f2f3-ef0aeb98866a",
        "colab": {
          "base_uri": "https://localhost:8080/"
        }
      },
      "source": [
        "# The type is just a dummy so that the data prep fucntion can be reused\n",
        "mydata = pd.DataFrame(data={'posts': [my_posts]})\n",
        "\n",
        "my_posts, dummy  = pre_process_data(mydata, remove_stop_words=True,Type=False)"
      ],
      "execution_count": null,
      "outputs": [
        {
          "output_type": "stream",
          "text": [
            "1 of 1 rows\n"
          ],
          "name": "stdout"
        }
      ]
    },
    {
      "cell_type": "code",
      "metadata": {
        "id": "qZ37_8GcvEUZ",
        "outputId": "b6c47349-2f29-4040-c573-cb1c3533919b",
        "colab": {
          "base_uri": "https://localhost:8080/"
        }
      },
      "source": [
        "my_posts"
      ],
      "execution_count": null,
      "outputs": [
        {
          "output_type": "execute_result",
          "data": {
            "text/plain": [
              "array(['worked dell international year escalation specialist customer care department nice experience leaving job started preparing profile oriented opportunity soon got call indian defence army navy however unable make stringent physical requirement rigorous training started playing arm wrestling represented state national level period modelling done show became soft skill trainer new model period time worked ielts trainer '],\n",
              "      dtype='<U420')"
            ]
          },
          "metadata": {
            "tags": []
          },
          "execution_count": 169
        }
      ]
    },
    {
      "cell_type": "code",
      "metadata": {
        "id": "DMqD2aixutcv"
      },
      "source": [
        "my_X_cnt = cntizer.transform(my_posts)\n",
        "my_X_tfidf =  tfizer.transform(my_X_cnt).toarray()"
      ],
      "execution_count": null,
      "outputs": []
    },
    {
      "cell_type": "code",
      "metadata": {
        "id": "TDwZ3vMq0dde"
      },
      "source": [
        "my_X_tfidf"
      ],
      "execution_count": null,
      "outputs": []
    },
    {
      "cell_type": "code",
      "metadata": {
        "id": "HG8taYHgeOD0"
      },
      "source": [
        "result = []"
      ],
      "execution_count": null,
      "outputs": []
    },
    {
      "cell_type": "code",
      "metadata": {
        "id": "dWmcuDfgxJV_"
      },
      "source": [
        "# make predictions for test data\n",
        "\n",
        "predictions = loaded_model_IE.predict(my_X_tfidf)\n",
        "result.append(predictions[0])\n",
        "predictions = loaded_model_NS.predict(my_X_tfidf)\n",
        "result.append(predictions[0])\n",
        "predictions = loaded_model_FT.predict(my_X_tfidf)\n",
        "result.append(predictions[0])\n",
        "predictions = loaded_model_PJ.predict(my_X_tfidf)\n",
        "result.append(predictions[0])\n",
        "# evaluate predictions\n",
        "#predictions"
      ],
      "execution_count": null,
      "outputs": []
    },
    {
      "cell_type": "code",
      "metadata": {
        "id": "wCWNqANO2w89",
        "outputId": "0adbf9ad-8b0a-4b66-956d-8b500527a4d0",
        "colab": {
          "base_uri": "https://localhost:8080/"
        }
      },
      "source": [
        "result"
      ],
      "execution_count": null,
      "outputs": [
        {
          "output_type": "execute_result",
          "data": {
            "text/plain": [
              "[1, 1, 0, 1]"
            ]
          },
          "metadata": {
            "tags": []
          },
          "execution_count": 174
        }
      ]
    },
    {
      "cell_type": "markdown",
      "metadata": {
        "id": "YFu-0cK8vVPt"
      },
      "source": [
        "Vaibhav Profiile"
      ]
    },
    {
      "cell_type": "code",
      "metadata": {
        "id": "WnLIcYdHLbKz"
      },
      "source": [
        ""
      ],
      "execution_count": null,
      "outputs": []
    },
    {
      "cell_type": "markdown",
      "metadata": {
        "id": "LSZniBGyLOAS"
      },
      "source": [
        "**Paul's Profile**"
      ]
    },
    {
      "cell_type": "code",
      "metadata": {
        "id": "QBW5n1WJvYgk",
        "outputId": "8f445fa3-48c1-44b6-ae5d-dd407a4cce34",
        "colab": {
          "base_uri": "https://localhost:8080/"
        }
      },
      "source": [
        "print(translate_back(result))"
      ],
      "execution_count": null,
      "outputs": [
        {
          "output_type": "stream",
          "text": [
            "('INTP', 'Person possesses following personality :- Introversion, Intuition, Thinking, Perceiving')\n"
          ],
          "name": "stdout"
        }
      ]
    },
    {
      "cell_type": "markdown",
      "metadata": {
        "id": "YBEfX9ayL0m5"
      },
      "source": [
        "**Leonor's Profile**"
      ]
    },
    {
      "cell_type": "code",
      "metadata": {
        "id": "wgWL2T3ssrzX",
        "outputId": "7101e530-0e09-469d-b52b-2d5699828282",
        "colab": {
          "base_uri": "https://localhost:8080/"
        }
      },
      "source": [
        "print(translate_back(result))"
      ],
      "execution_count": null,
      "outputs": [
        {
          "output_type": "stream",
          "text": [
            "('INTP', 'Person possesses following personality :- Introversion, Intuition, Thinking, Perceiving')\n"
          ],
          "name": "stdout"
        }
      ]
    },
    {
      "cell_type": "markdown",
      "metadata": {
        "id": "4QqiPwc5m1Xz"
      },
      "source": [
        "**JD's Profile**\n",
        "\n"
      ]
    },
    {
      "cell_type": "code",
      "metadata": {
        "id": "BoUhrW94kunG",
        "outputId": "cc3f2c18-e6ab-4533-a235-bf7eb684ba53",
        "colab": {
          "base_uri": "https://localhost:8080/"
        }
      },
      "source": [
        "print(translate_back(result))"
      ],
      "execution_count": null,
      "outputs": [
        {
          "output_type": "stream",
          "text": [
            "('INFP', 'Person possesses following personality :- Introversion, Intuition, Feeling, Perceiving')\n"
          ],
          "name": "stdout"
        }
      ]
    },
    {
      "cell_type": "markdown",
      "metadata": {
        "id": "_ooqRQvEm7U9"
      },
      "source": [
        "**ED's Profile**"
      ]
    },
    {
      "cell_type": "code",
      "metadata": {
        "id": "IdQXpUAklZ_7",
        "outputId": "ddbb3453-0fd9-44d4-c367-fe0f868aeb17",
        "colab": {
          "base_uri": "https://localhost:8080/"
        }
      },
      "source": [
        "print(translate_back(result))"
      ],
      "execution_count": null,
      "outputs": [
        {
          "output_type": "stream",
          "text": [
            "('INTP', 'Person possesses following personality :- Introversion, Intuition, Thinking, Perceiving')\n"
          ],
          "name": "stdout"
        }
      ]
    },
    {
      "cell_type": "markdown",
      "metadata": {
        "id": "vn7dbDarm-Pd"
      },
      "source": [
        "**Lalit Dhupar's Profile**\n",
        "\n"
      ]
    },
    {
      "cell_type": "code",
      "metadata": {
        "id": "8zxvu9Scl5PK",
        "outputId": "fd6b5502-ed2f-4c87-b6af-aa371abc6f2b",
        "colab": {
          "base_uri": "https://localhost:8080/"
        }
      },
      "source": [
        "print(translate_back(result))"
      ],
      "execution_count": null,
      "outputs": [
        {
          "output_type": "stream",
          "text": [
            "('INTJ', 'Person possesses following personality :- Introversion, Intuition, Thinking, Judging')\n"
          ],
          "name": "stdout"
        }
      ]
    },
    {
      "cell_type": "code",
      "metadata": {
        "id": "jtMHptKdmYB3",
        "outputId": "84e752e2-62e5-4066-dcfb-7e2c3c85a0e9",
        "colab": {
          "base_uri": "https://localhost:8080/"
        }
      },
      "source": [
        "print(\"The result is: \", translate_back(result))"
      ],
      "execution_count": null,
      "outputs": [
        {
          "output_type": "stream",
          "text": [
            "The result is:  INTJ\n"
          ],
          "name": "stdout"
        }
      ]
    },
    {
      "cell_type": "code",
      "metadata": {
        "id": "QJ35KSlLnJ4M",
        "outputId": "9745b10e-b05c-47a8-e290-52297183a0cf",
        "colab": {
          "base_uri": "https://localhost:8080/"
        }
      },
      "source": [
        "print(\"The result is: \", translate_back(result))"
      ],
      "execution_count": null,
      "outputs": [
        {
          "output_type": "stream",
          "text": [
            "The result is:  INTP\n"
          ],
          "name": "stdout"
        }
      ]
    },
    {
      "cell_type": "code",
      "metadata": {
        "id": "m3qWyfspnd3z",
        "outputId": "41137e1d-be21-4e70-cfcd-8376bc528e22",
        "colab": {
          "base_uri": "https://localhost:8080/"
        }
      },
      "source": [
        "print(\"The result is: \", translate_back(result))"
      ],
      "execution_count": null,
      "outputs": [
        {
          "output_type": "stream",
          "text": [
            "The result is:  INTP\n"
          ],
          "name": "stdout"
        }
      ]
    },
    {
      "cell_type": "code",
      "metadata": {
        "id": "I1fJbKeJoVwY",
        "outputId": "800caa50-dcb7-459a-f517-9d45ad93f27e",
        "colab": {
          "base_uri": "https://localhost:8080/"
        }
      },
      "source": [
        "print(\"The result is: \", translate_back(result))"
      ],
      "execution_count": null,
      "outputs": [
        {
          "output_type": "stream",
          "text": [
            "The result is:  INTJ\n"
          ],
          "name": "stdout"
        }
      ]
    },
    {
      "cell_type": "code",
      "metadata": {
        "id": "rABSYdTVorIA",
        "outputId": "45305451-89b9-4134-ca89-69ef436ab528",
        "colab": {
          "base_uri": "https://localhost:8080/"
        }
      },
      "source": [
        "print(\"The result is: \", translate_back(result))"
      ],
      "execution_count": null,
      "outputs": [
        {
          "output_type": "stream",
          "text": [
            "The result is:  INTP\n"
          ],
          "name": "stdout"
        }
      ]
    },
    {
      "cell_type": "code",
      "metadata": {
        "id": "2zvkZv6A0m_J",
        "outputId": "fbd6875b-fc33-42cb-967a-4d16b2cfe9fa",
        "colab": {
          "base_uri": "https://localhost:8080/",
          "height": 334
        }
      },
      "source": [
        "accuracy = accuracy_score(y_test, predictions)\n",
        "print(\"Accuracy: %.2f%%\" % (accuracy * 100.0))"
      ],
      "execution_count": null,
      "outputs": [
        {
          "output_type": "error",
          "ename": "ValueError",
          "evalue": "ignored",
          "traceback": [
            "\u001b[0;31m---------------------------------------------------------------------------\u001b[0m",
            "\u001b[0;31mValueError\u001b[0m                                Traceback (most recent call last)",
            "\u001b[0;32m<ipython-input-128-d6a4b74d8407>\u001b[0m in \u001b[0;36m<module>\u001b[0;34m()\u001b[0m\n\u001b[0;32m----> 1\u001b[0;31m \u001b[0maccuracy\u001b[0m \u001b[0;34m=\u001b[0m \u001b[0maccuracy_score\u001b[0m\u001b[0;34m(\u001b[0m\u001b[0my_test\u001b[0m\u001b[0;34m,\u001b[0m \u001b[0mpredictions\u001b[0m\u001b[0;34m)\u001b[0m\u001b[0;34m\u001b[0m\u001b[0;34m\u001b[0m\u001b[0m\n\u001b[0m\u001b[1;32m      2\u001b[0m \u001b[0mprint\u001b[0m\u001b[0;34m(\u001b[0m\u001b[0;34m\"Accuracy: %.2f%%\"\u001b[0m \u001b[0;34m%\u001b[0m \u001b[0;34m(\u001b[0m\u001b[0maccuracy\u001b[0m \u001b[0;34m*\u001b[0m \u001b[0;36m100.0\u001b[0m\u001b[0;34m)\u001b[0m\u001b[0;34m)\u001b[0m\u001b[0;34m\u001b[0m\u001b[0;34m\u001b[0m\u001b[0m\n",
            "\u001b[0;32m/usr/local/lib/python3.6/dist-packages/sklearn/metrics/_classification.py\u001b[0m in \u001b[0;36maccuracy_score\u001b[0;34m(y_true, y_pred, normalize, sample_weight)\u001b[0m\n\u001b[1;32m    183\u001b[0m \u001b[0;34m\u001b[0m\u001b[0m\n\u001b[1;32m    184\u001b[0m     \u001b[0;31m# Compute accuracy for each possible representation\u001b[0m\u001b[0;34m\u001b[0m\u001b[0;34m\u001b[0m\u001b[0;34m\u001b[0m\u001b[0m\n\u001b[0;32m--> 185\u001b[0;31m     \u001b[0my_type\u001b[0m\u001b[0;34m,\u001b[0m \u001b[0my_true\u001b[0m\u001b[0;34m,\u001b[0m \u001b[0my_pred\u001b[0m \u001b[0;34m=\u001b[0m \u001b[0m_check_targets\u001b[0m\u001b[0;34m(\u001b[0m\u001b[0my_true\u001b[0m\u001b[0;34m,\u001b[0m \u001b[0my_pred\u001b[0m\u001b[0;34m)\u001b[0m\u001b[0;34m\u001b[0m\u001b[0;34m\u001b[0m\u001b[0m\n\u001b[0m\u001b[1;32m    186\u001b[0m     \u001b[0mcheck_consistent_length\u001b[0m\u001b[0;34m(\u001b[0m\u001b[0my_true\u001b[0m\u001b[0;34m,\u001b[0m \u001b[0my_pred\u001b[0m\u001b[0;34m,\u001b[0m \u001b[0msample_weight\u001b[0m\u001b[0;34m)\u001b[0m\u001b[0;34m\u001b[0m\u001b[0;34m\u001b[0m\u001b[0m\n\u001b[1;32m    187\u001b[0m     \u001b[0;32mif\u001b[0m \u001b[0my_type\u001b[0m\u001b[0;34m.\u001b[0m\u001b[0mstartswith\u001b[0m\u001b[0;34m(\u001b[0m\u001b[0;34m'multilabel'\u001b[0m\u001b[0;34m)\u001b[0m\u001b[0;34m:\u001b[0m\u001b[0;34m\u001b[0m\u001b[0;34m\u001b[0m\u001b[0m\n",
            "\u001b[0;32m/usr/local/lib/python3.6/dist-packages/sklearn/metrics/_classification.py\u001b[0m in \u001b[0;36m_check_targets\u001b[0;34m(y_true, y_pred)\u001b[0m\n\u001b[1;32m     78\u001b[0m     \u001b[0my_pred\u001b[0m \u001b[0;34m:\u001b[0m \u001b[0marray\u001b[0m \u001b[0;32mor\u001b[0m \u001b[0mindicator\u001b[0m \u001b[0mmatrix\u001b[0m\u001b[0;34m\u001b[0m\u001b[0;34m\u001b[0m\u001b[0m\n\u001b[1;32m     79\u001b[0m     \"\"\"\n\u001b[0;32m---> 80\u001b[0;31m     \u001b[0mcheck_consistent_length\u001b[0m\u001b[0;34m(\u001b[0m\u001b[0my_true\u001b[0m\u001b[0;34m,\u001b[0m \u001b[0my_pred\u001b[0m\u001b[0;34m)\u001b[0m\u001b[0;34m\u001b[0m\u001b[0;34m\u001b[0m\u001b[0m\n\u001b[0m\u001b[1;32m     81\u001b[0m     \u001b[0mtype_true\u001b[0m \u001b[0;34m=\u001b[0m \u001b[0mtype_of_target\u001b[0m\u001b[0;34m(\u001b[0m\u001b[0my_true\u001b[0m\u001b[0;34m)\u001b[0m\u001b[0;34m\u001b[0m\u001b[0;34m\u001b[0m\u001b[0m\n\u001b[1;32m     82\u001b[0m     \u001b[0mtype_pred\u001b[0m \u001b[0;34m=\u001b[0m \u001b[0mtype_of_target\u001b[0m\u001b[0;34m(\u001b[0m\u001b[0my_pred\u001b[0m\u001b[0;34m)\u001b[0m\u001b[0;34m\u001b[0m\u001b[0;34m\u001b[0m\u001b[0m\n",
            "\u001b[0;32m/usr/local/lib/python3.6/dist-packages/sklearn/utils/validation.py\u001b[0m in \u001b[0;36mcheck_consistent_length\u001b[0;34m(*arrays)\u001b[0m\n\u001b[1;32m    210\u001b[0m     \u001b[0;32mif\u001b[0m \u001b[0mlen\u001b[0m\u001b[0;34m(\u001b[0m\u001b[0muniques\u001b[0m\u001b[0;34m)\u001b[0m \u001b[0;34m>\u001b[0m \u001b[0;36m1\u001b[0m\u001b[0;34m:\u001b[0m\u001b[0;34m\u001b[0m\u001b[0;34m\u001b[0m\u001b[0m\n\u001b[1;32m    211\u001b[0m         raise ValueError(\"Found input variables with inconsistent numbers of\"\n\u001b[0;32m--> 212\u001b[0;31m                          \" samples: %r\" % [int(l) for l in lengths])\n\u001b[0m\u001b[1;32m    213\u001b[0m \u001b[0;34m\u001b[0m\u001b[0m\n\u001b[1;32m    214\u001b[0m \u001b[0;34m\u001b[0m\u001b[0m\n",
            "\u001b[0;31mValueError\u001b[0m: Found input variables with inconsistent numbers of samples: [2863, 1]"
          ]
        }
      ]
    },
    {
      "cell_type": "code",
      "metadata": {
        "id": "hxgRYQ1OBt0N"
      },
      "source": [
        "# # Tune learning_rate\n",
        "# from numpy import loadtxt\n",
        "# from xgboost import XGBClassifier\n",
        "# from sklearn.model_selection import GridSearchCV\n",
        "# from sklearn.model_selection import StratifiedKFold\n",
        "\n",
        "# # Posts in tf-idf representation\n",
        "# X = X_tfidf\n",
        "\n",
        "# # setup parameters for xgboost\n",
        "# param = {}\n",
        "# #param['n_estimators'] = 200\n",
        "# #param['max_depth'] = 2\n",
        "# #param['nthread'] = 8\n",
        "# #param['learning_rate'] = 0.2\n",
        "\n",
        "\n",
        "# # Let's train type indicator individually\n",
        "# for l in range(len(type_indicators)):\n",
        "#     print(\"%s ...\" % (type_indicators[l]))\n",
        "\n",
        "#     Y = list_personality[:,l]\n",
        "#     model = XGBClassifier(n_estimators = 200,nthread=8,max_depth = 2)\n",
        "#     # learning_rate = [0.0001, 0.001, 0.01, 0.1, 0.2, 0.3]\n",
        "#     # param_grid = dict(learning_rate=learning_rate)\n",
        "    \n",
        "#     param_grid = {\n",
        "#         'n_estimators' : [ 200, 300,400],\n",
        "#         'learning_rate': [ 0.01, 0.1,0.2, 0.3],\n",
        "#         'max_depth': [2,3,4]\n",
        "#     }\n",
        "    \n",
        "    \n",
        "#     kfold = StratifiedKFold(n_splits=10, shuffle=True, random_state=7)\n",
        "#     grid_search = GridSearchCV(model, param_grid, scoring=\"accuracy\",verbose=3, n_jobs=-1, cv=kfold)\n",
        "#     grid_result = grid_search.fit(X, Y)\n",
        "#     # summarize results\n",
        "#     print(\"* Best: %f using %s\" % (grid_result.best_score_, grid_result.best_params_))"
      ],
      "execution_count": null,
      "outputs": []
    },
    {
      "cell_type": "code",
      "metadata": {
        "id": "SgdmfNECC8OF"
      },
      "source": [
        "IE: Introversion (I) / Extroversion (E) ...\n",
        "* Best: 0.779711 using {'learning_rate': 0.2, 'n_estimators': 200}\n",
        "NS: Intuition (N) – Sensing (S) ...\n",
        "* Best: 0.861903 using {'learning_rate': 0.2, 'n_estimators': 200}\n",
        "FT: Feeling (F) - Thinking (T) ...\n",
        "* Best: 0.750545 using {'learning_rate': 0.2, 'n_estimators': 300}\n",
        "JP: Judging (J) – Perceiving (P) ...\n",
        "* Best: 0.661210 using {'learning_rate': 0.2, 'n_estimators': 200}"
      ],
      "execution_count": null,
      "outputs": []
    },
    {
      "cell_type": "code",
      "metadata": {
        "id": "1MhCEVsg8YWI"
      },
      "source": [
        "def create_plot(self, values, name, compare=False):\n",
        "  plt.cla()\n",
        "  plt.clf()\n",
        "  traits = ['Introversion', 'Extraversion', 'Intuition', 'Sensing', 'Feeling', 'Thinking', 'Perceiving', 'Judging' ]\n",
        "\n",
        "  N = len(traits)\n",
        "  # We are going to plot the first line of the data frame.\n",
        "  # But we need to repeat the first value to close the circular graph:\n",
        "  # values=person[self.traits].values.flatten().tolist()\n",
        "\n",
        "  values += values[:1]\n",
        "  values\n",
        "\n",
        "  # What will be the angle of each axis in the plot? (we divide the plot / number of variable)\n",
        "  angles = [n / float(N) * 2 * pi for n in range(N)]\n",
        "  angles += angles[:1]\n",
        "\n",
        "  # Initialise the spider plot\n",
        "  if compare:\n",
        "    my_personality_data = self.fb_statuses.find_one({'my_personality': {'$exists': True}}, 'datetime': 1, 'actual_personality_scores': 1, 'radar_plot_url': 1, '_id': 0})\n",
        "\n",
        "    ax = self.create_plot(list(my_personality_data['actual_personality_scores']['percentiles'].values()), 'My_Personality')\n",
        "    filename = 'static/images/' + name + '_Compare.png'\n",
        "  else:\n",
        "    ax = plt.subplot(111, polar=True)\n",
        "    filename = 'static/images/' + name + '.png'\n",
        "\n",
        "    # Draw one axe per variable + add labels labels yet\n",
        "    plt.xticks(angles[:-1], traits, color='grey', size=11)\n",
        "\n",
        "    # Draw ylabels\n",
        "    ax.set_rlabel_position(0)\n",
        "    plt.yticks([10,20,30,40,50,60,70,80,90], [\"10\",\"20\",\"30\",'40','50','60','70','80','90'], color=\"grey\", size=8)\n",
        "    plt.ylim(0,100)\n",
        "\n",
        "    # Plot data\n",
        "    ax.plot(angles, values, linewidth=1, linestyle='solid')\n",
        "\n",
        "    # Fill area\n",
        "    ax.fill(angles, values, 'b', alpha=0.1)\n",
        "\n",
        "    plt.savefig(filename)\n",
        "\n",
        "    return ax"
      ],
      "execution_count": null,
      "outputs": []
    }
  ]
}