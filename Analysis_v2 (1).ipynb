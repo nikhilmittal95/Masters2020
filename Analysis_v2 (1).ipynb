{
 "cells": [
  {
   "cell_type": "code",
   "execution_count": 174,
   "id": "0ec77281",
   "metadata": {},
   "outputs": [],
   "source": [
    "from sklearn.feature_extraction import DictVectorizer\n",
    "import xgboost as xgb\n",
    "import pandas as pd\n",
    "import numpy as np\n",
    "import pickle\n",
    "import os\n",
    "import re\n",
    "import matplotlib.pyplot as plt\n",
    "from xgboost import XGBClassifier\n",
    "from sklearn.metrics import roc_curve\n",
    "from sklearn.metrics import roc_auc_score\n",
    "from matplotlib import pyplot\n",
    "from hdfs import InsecureClient\n",
    "import string\n",
    "from sklearn.feature_extraction import DictVectorizer\n",
    "from sklearn.model_selection import train_test_split\n",
    "from nltk import word_tokenize\n",
    "from sklearn.metrics import accuracy_score, precision_score,recall_score,f1_score\n",
    "from nltk.corpus import stopwords\n",
    "from sklearn.linear_model import LogisticRegression\n",
    "from collections import OrderedDict\n",
    "from sklearn.linear_model import LogisticRegression\n",
    "client_hdfs = InsecureClient(\"http://10.65.31.100:50070\")"
   ]
  },
  {
   "cell_type": "code",
   "execution_count": 10,
   "id": "9e6914a5",
   "metadata": {},
   "outputs": [],
   "source": [
    "def remove_punctuations(text):\n",
    "    rmvSpcchar2 = re.compile(\"[\\t**' ]\")\n",
    "    rmvSpcchar1 = re.compile(\"[/(){}\\[\\]\\|$*\\-]\")\n",
    "    rmvSpcchar = re.compile(\"[/(){}\\[\\]\\|&@,;_'.-]\")\n",
    "    rmvBadSym = re.compile('[^\\d+\\0-9a-z#+_]')\n",
    "    rmvNumbers = re.compile('\\d+')\n",
    "    text = re.sub(rmvSpcchar, ' ', text)\n",
    "    text = re.sub(rmvBadSym, ' ', text)\n",
    "    text = re.sub(rmvNumbers, ' ', text)\n",
    "    return text\n",
    "\n",
    "\n",
    "def is_vowel(char):\n",
    "\n",
    "    if char in ('a', 'e', 'i', 'o', 'u'):\n",
    "        return'1'\n",
    "    else:\n",
    "        return'0' "
   ]
  },
  {
   "cell_type": "code",
   "execution_count": 2,
   "id": "9446f302",
   "metadata": {},
   "outputs": [],
   "source": [
    "def data_read(url):\n",
    "    with client_hdfs.read(url , encoding = 'utf-8') as reader:\n",
    "        if client_hdfs.content(url)[\"spaceConsumed\"]>1000:\n",
    "            df_input = pd.read_csv(reader,names=[\"name\"])\n",
    "            return df_input"
   ]
  },
  {
   "cell_type": "code",
   "execution_count": 3,
   "id": "9b7ec96b",
   "metadata": {},
   "outputs": [],
   "source": [
    "with client_hdfs.read( \"/user/dataplatform/indicium/temp/NM/newregistration12345/part-00000\" , encoding = 'utf-8') as reader:\n",
    "    df = pd.read_csv(reader)   "
   ]
  },
  {
   "cell_type": "code",
   "execution_count": 6,
   "id": "ce2e363a",
   "metadata": {},
   "outputs": [],
   "source": [
    "df=df[df[\"guid\"].notna()]\n",
    "df.fillna(' ', inplace=True)"
   ]
  },
  {
   "cell_type": "code",
   "execution_count": 8,
   "id": "79f0b767",
   "metadata": {},
   "outputs": [
    {
     "data": {
      "text/plain": [
       "(23486164, 2)"
      ]
     },
     "metadata": {},
     "output_type": "display_data"
    },
    {
     "data": {
      "text/plain": [
       "(23151963, 2)"
      ]
     },
     "metadata": {},
     "output_type": "display_data"
    }
   ],
   "source": [
    "imsMaping = df[[\"guid\",\"imsId\"]].reset_index(drop=True)\n",
    "display(imsMaping.shape)\n",
    "imsMaping = imsMaping.drop_duplicates(subset={'guid'})\n",
    "display(imsMaping.shape)"
   ]
  },
  {
   "cell_type": "code",
   "execution_count": 9,
   "id": "56c128a2",
   "metadata": {},
   "outputs": [],
   "source": [
    "df.drop_duplicates(subset={'guid','displayName','firstName','middleName','lastName','gender'},inplace=True)\n",
    "df = df.replace({'default':' '})\n",
    "df['FullName'] = df['displayName']+ \" \" + df['firstName'] + \" \" + df['middleName'] + \" \" +df['lastName']\n",
    "df[\"FullNameCleaned\"] = df[\"FullName\"].apply(lambda x: remove_punctuations(x))\n",
    "df['Cleaned Name']=df['FullNameCleaned'].apply(lambda x: list(filter(None,OrderedDict.fromkeys(x.split(\" \")))))"
   ]
  },
  {
   "cell_type": "code",
   "execution_count": 15,
   "id": "1a20ba81",
   "metadata": {},
   "outputs": [],
   "source": [
    "df.drop(['firstName','middleName','lastName'],axis=1,inplace=True)\n",
    "df['Counts'] = df['Cleaned Name'].apply(lambda x: len(x))\n",
    "index_names = df[ df[\"Counts\"]==0 ].index\n",
    "df.drop(index_names, inplace = True)"
   ]
  },
  {
   "cell_type": "code",
   "execution_count": 16,
   "id": "8659b36a",
   "metadata": {},
   "outputs": [],
   "source": [
    "df['FirstName'] = df['Cleaned Name'].apply(lambda x: x[0])\n",
    "df[\"FirstNameLength\"] = df[\"FirstName\"].apply(lambda x: len(x))\n",
    "df = df[df[\"FirstNameLength\"]>=3]\n",
    "df[\"flagss\"]=df[\"FirstName\"].apply(lambda x: x.isalpha())\n",
    "df.drop(df[df['gender']=='o'].index, inplace=True) \n",
    "df.drop(df[df[\"flagss\"]==False].index, inplace=True)  \n",
    "df['LastName'] = df['Cleaned Name'].apply(lambda x: x[1] if len(x)>1 else \"\")\n",
    "df['ExtendedName'] = df['Cleaned Name'].apply(lambda x: \" \".join(x[2:]) if len(x)>2 else \"\")"
   ]
  },
  {
   "cell_type": "code",
   "execution_count": 25,
   "id": "de70c27a",
   "metadata": {},
   "outputs": [],
   "source": [
    "directRecommendation = df[df[\"FirstName\"].isin(['mr','mrs','smt','kumar','kumari','miss','shri','mohd'])]\n",
    "df.drop(directRecommendation.index,inplace=True)\n",
    "toRemove = df[df[\"FirstName\"].isin(['dr','md','all','gaming','technical','royal','the','day','unknown','include'])]\n",
    "df.drop(toRemove.index,inplace=True)\n",
    "df = df.reset_index(drop=True)"
   ]
  },
  {
   "cell_type": "code",
   "execution_count": 27,
   "id": "f29c5fbd",
   "metadata": {},
   "outputs": [],
   "source": [
    "FnFreq = df[\"FirstName\"].value_counts().reset_index()\n",
    "fnList = FnFreq[\"index\"].tolist()\n",
    "LnFreq = df[\"LastName\"].value_counts().reset_index()\n",
    "lnList = LnFreq[\"index\"].tolist()\n",
    "nameMerge = FnFreq.merge(LnFreq, on =\"index\", how=\"inner\")"
   ]
  },
  {
   "cell_type": "code",
   "execution_count": 28,
   "id": "83b98c26",
   "metadata": {},
   "outputs": [],
   "source": [
    "finalDf = df[['gender',\"FirstName\"]].reset_index(drop=True)\n",
    "finalDf[\"Vowel_Present\"] = finalDf[\"FirstName\"].apply(lambda x: is_vowel(x[-1]))"
   ]
  },
  {
   "cell_type": "code",
   "execution_count": 33,
   "id": "13bf4222",
   "metadata": {},
   "outputs": [],
   "source": [
    "gender_count=finalDf[['gender','Vowel_Present']].value_counts()\n",
    "gender_count"
   ]
  },
  {
   "cell_type": "code",
   "execution_count": 35,
   "id": "6ecbabe5",
   "metadata": {},
   "outputs": [],
   "source": [
    "Females = finalDf[finalDf[\"gender\"]==\"f\"]\n",
    "Males = finalDf[finalDf[\"gender\"]==\"m\"]"
   ]
  },
  {
   "cell_type": "code",
   "execution_count": 36,
   "id": "91e0a5c6",
   "metadata": {},
   "outputs": [
    {
     "data": {
      "text/html": [
       "<div>\n",
       "<style scoped>\n",
       "    .dataframe tbody tr th:only-of-type {\n",
       "        vertical-align: middle;\n",
       "    }\n",
       "\n",
       "    .dataframe tbody tr th {\n",
       "        vertical-align: top;\n",
       "    }\n",
       "\n",
       "    .dataframe thead th {\n",
       "        text-align: right;\n",
       "    }\n",
       "</style>\n",
       "<table border=\"1\" class=\"dataframe\">\n",
       "  <thead>\n",
       "    <tr style=\"text-align: right;\">\n",
       "      <th></th>\n",
       "      <th>gender</th>\n",
       "      <th>FirstName</th>\n",
       "      <th>Vowel_Present</th>\n",
       "    </tr>\n",
       "  </thead>\n",
       "  <tbody>\n",
       "    <tr>\n",
       "      <th>3</th>\n",
       "      <td>f</td>\n",
       "      <td>ramesh</td>\n",
       "      <td>0</td>\n",
       "    </tr>\n",
       "    <tr>\n",
       "      <th>32</th>\n",
       "      <td>f</td>\n",
       "      <td>thanush</td>\n",
       "      <td>0</td>\n",
       "    </tr>\n",
       "    <tr>\n",
       "      <th>38</th>\n",
       "      <td>f</td>\n",
       "      <td>sagar</td>\n",
       "      <td>0</td>\n",
       "    </tr>\n",
       "    <tr>\n",
       "      <th>54</th>\n",
       "      <td>f</td>\n",
       "      <td>shekh</td>\n",
       "      <td>0</td>\n",
       "    </tr>\n",
       "    <tr>\n",
       "      <th>56</th>\n",
       "      <td>f</td>\n",
       "      <td>rangrej</td>\n",
       "      <td>0</td>\n",
       "    </tr>\n",
       "    <tr>\n",
       "      <th>...</th>\n",
       "      <td>...</td>\n",
       "      <td>...</td>\n",
       "      <td>...</td>\n",
       "    </tr>\n",
       "    <tr>\n",
       "      <th>22495346</th>\n",
       "      <td>f</td>\n",
       "      <td>anees</td>\n",
       "      <td>0</td>\n",
       "    </tr>\n",
       "    <tr>\n",
       "      <th>22495704</th>\n",
       "      <td>f</td>\n",
       "      <td>meher</td>\n",
       "      <td>0</td>\n",
       "    </tr>\n",
       "    <tr>\n",
       "      <th>22495782</th>\n",
       "      <td>f</td>\n",
       "      <td>suman</td>\n",
       "      <td>0</td>\n",
       "    </tr>\n",
       "    <tr>\n",
       "      <th>22496010</th>\n",
       "      <td>f</td>\n",
       "      <td>jasmeet</td>\n",
       "      <td>0</td>\n",
       "    </tr>\n",
       "    <tr>\n",
       "      <th>22496096</th>\n",
       "      <td>f</td>\n",
       "      <td>simran</td>\n",
       "      <td>0</td>\n",
       "    </tr>\n",
       "  </tbody>\n",
       "</table>\n",
       "<p>1262587 rows × 3 columns</p>\n",
       "</div>"
      ],
      "text/plain": [
       "         gender FirstName Vowel_Present\n",
       "3             f    ramesh             0\n",
       "32            f   thanush             0\n",
       "38            f     sagar             0\n",
       "54            f     shekh             0\n",
       "56            f   rangrej             0\n",
       "...         ...       ...           ...\n",
       "22495346      f     anees             0\n",
       "22495704      f     meher             0\n",
       "22495782      f     suman             0\n",
       "22496010      f   jasmeet             0\n",
       "22496096      f    simran             0\n",
       "\n",
       "[1262587 rows x 3 columns]"
      ]
     },
     "execution_count": 36,
     "metadata": {},
     "output_type": "execute_result"
    }
   ],
   "source": [
    "Females_0=Females[Females['Vowel_Present']=='0'] #no vowel female gender\n",
    "Females_0"
   ]
  },
  {
   "cell_type": "code",
   "execution_count": 37,
   "id": "85823d3a",
   "metadata": {},
   "outputs": [
    {
     "data": {
      "text/html": [
       "<div>\n",
       "<style scoped>\n",
       "    .dataframe tbody tr th:only-of-type {\n",
       "        vertical-align: middle;\n",
       "    }\n",
       "\n",
       "    .dataframe tbody tr th {\n",
       "        vertical-align: top;\n",
       "    }\n",
       "\n",
       "    .dataframe thead th {\n",
       "        text-align: right;\n",
       "    }\n",
       "</style>\n",
       "<table border=\"1\" class=\"dataframe\">\n",
       "  <thead>\n",
       "    <tr style=\"text-align: right;\">\n",
       "      <th></th>\n",
       "      <th>gender</th>\n",
       "      <th>FirstName</th>\n",
       "      <th>Vowel_Present</th>\n",
       "    </tr>\n",
       "  </thead>\n",
       "  <tbody>\n",
       "    <tr>\n",
       "      <th>2</th>\n",
       "      <td>m</td>\n",
       "      <td>kranthi</td>\n",
       "      <td>1</td>\n",
       "    </tr>\n",
       "    <tr>\n",
       "      <th>4</th>\n",
       "      <td>m</td>\n",
       "      <td>satti</td>\n",
       "      <td>1</td>\n",
       "    </tr>\n",
       "    <tr>\n",
       "      <th>7</th>\n",
       "      <td>m</td>\n",
       "      <td>kandiri</td>\n",
       "      <td>1</td>\n",
       "    </tr>\n",
       "    <tr>\n",
       "      <th>20</th>\n",
       "      <td>m</td>\n",
       "      <td>devendra</td>\n",
       "      <td>1</td>\n",
       "    </tr>\n",
       "    <tr>\n",
       "      <th>27</th>\n",
       "      <td>m</td>\n",
       "      <td>ravindra</td>\n",
       "      <td>1</td>\n",
       "    </tr>\n",
       "    <tr>\n",
       "      <th>...</th>\n",
       "      <td>...</td>\n",
       "      <td>...</td>\n",
       "      <td>...</td>\n",
       "    </tr>\n",
       "    <tr>\n",
       "      <th>22496086</th>\n",
       "      <td>m</td>\n",
       "      <td>santu</td>\n",
       "      <td>1</td>\n",
       "    </tr>\n",
       "    <tr>\n",
       "      <th>22496087</th>\n",
       "      <td>m</td>\n",
       "      <td>rama</td>\n",
       "      <td>1</td>\n",
       "    </tr>\n",
       "    <tr>\n",
       "      <th>22496089</th>\n",
       "      <td>m</td>\n",
       "      <td>saloni</td>\n",
       "      <td>1</td>\n",
       "    </tr>\n",
       "    <tr>\n",
       "      <th>22496095</th>\n",
       "      <td>m</td>\n",
       "      <td>pasunuri</td>\n",
       "      <td>1</td>\n",
       "    </tr>\n",
       "    <tr>\n",
       "      <th>22496100</th>\n",
       "      <td>m</td>\n",
       "      <td>guri</td>\n",
       "      <td>1</td>\n",
       "    </tr>\n",
       "  </tbody>\n",
       "</table>\n",
       "<p>5388854 rows × 3 columns</p>\n",
       "</div>"
      ],
      "text/plain": [
       "         gender FirstName Vowel_Present\n",
       "2             m   kranthi             1\n",
       "4             m     satti             1\n",
       "7             m   kandiri             1\n",
       "20            m  devendra             1\n",
       "27            m  ravindra             1\n",
       "...         ...       ...           ...\n",
       "22496086      m     santu             1\n",
       "22496087      m      rama             1\n",
       "22496089      m    saloni             1\n",
       "22496095      m  pasunuri             1\n",
       "22496100      m      guri             1\n",
       "\n",
       "[5388854 rows x 3 columns]"
      ]
     },
     "execution_count": 37,
     "metadata": {},
     "output_type": "execute_result"
    }
   ],
   "source": [
    "Males_1=Males[Males['Vowel_Present']=='1']  #with vowel male gender\n",
    "Males_1"
   ]
  },
  {
   "cell_type": "code",
   "execution_count": 38,
   "id": "9a31669d",
   "metadata": {},
   "outputs": [
    {
     "data": {
      "text/plain": [
       "m    19369816\n",
       "f     3126287\n",
       "Name: gender, dtype: int64"
      ]
     },
     "execution_count": 38,
     "metadata": {},
     "output_type": "execute_result"
    }
   ],
   "source": [
    "df['gender'].value_counts()"
   ]
  },
  {
   "cell_type": "code",
   "execution_count": 39,
   "id": "450c3fff",
   "metadata": {},
   "outputs": [],
   "source": [
    "def features(name):\n",
    "    name=str(name)\n",
    "    name = (name.lower()).split()[0]\n",
    "    return {\n",
    "        'first-letter': name[0], # First letter\n",
    "        'first2-letters': name[0:2], # First 2 letters\n",
    "        'first3-letters': name[0:3], # First 3 letters\n",
    "        'first4-letters': name[0:4],\n",
    "        'last-letter': name[-1],\n",
    "        'vowel': is_vowel(name[-1]),\n",
    "        'last2-letters': name[-2:],\n",
    "        'last3-letters': name[-3:],\n",
    "    }"
   ]
  },
  {
   "cell_type": "code",
   "execution_count": 41,
   "id": "91ba1bfe",
   "metadata": {},
   "outputs": [],
   "source": [
    "finalDf['binaryGender'] = finalDf['gender'].replace({'m':0,'f':1})\n",
    "X=finalDf.drop(['gender','binaryGender','Vowel_Present'],axis=1)\n",
    "y=finalDf['binaryGender']\n",
    "X_train, X_test, y_train, y_test = train_test_split(\n",
    "   X, y, test_size=0.25, random_state=42)"
   ]
  },
  {
   "cell_type": "code",
   "execution_count": 47,
   "id": "4ba86722",
   "metadata": {},
   "outputs": [],
   "source": [
    "X_train['FirstName']=X_train['FirstName'].astype(str)\n",
    "X_train = X_train.reset_index(drop=True)\n",
    "features = np.vectorize(features)\n",
    "namesData=features(X_train['FirstName'])\n",
    "vectorizer = DictVectorizer()\n",
    "vect = vectorizer.fit_transform(namesData)"
   ]
  },
  {
   "cell_type": "code",
   "execution_count": 49,
   "id": "194e41c0",
   "metadata": {},
   "outputs": [
    {
     "data": {
      "text/plain": [
       "array([0, 1])"
      ]
     },
     "execution_count": 49,
     "metadata": {},
     "output_type": "execute_result"
    }
   ],
   "source": [
    "clf = LogisticRegression(solver='lbfgs',max_iter=100)\n",
    "clf.fit(vect, y_train)"
   ]
  },
  {
   "cell_type": "code",
   "execution_count": 55,
   "id": "d9cd6167",
   "metadata": {},
   "outputs": [],
   "source": [
    "Testresult=features(X_test['FirstName'])\n",
    "vecttest = vectorizer.transform(Testresult)\n",
    "result= clf.predict(vecttest)\n",
    "y_test['prediction'] = result\n",
    "y_testL = y_test.tolist()"
   ]
  },
  {
   "cell_type": "code",
   "execution_count": 172,
   "id": "62a10c56",
   "metadata": {},
   "outputs": [
    {
     "name": "stdout",
     "output_type": "stream",
     "text": [
      "0.864355001203764\n",
      "0.7116251381431047\n",
      "0.5586492673916494\n",
      "0.5713889824355468\n"
     ]
    }
   ],
   "source": [
    "print(accuracy_score(y_testL, result))\n",
    "print(precision_score(y_testL, result, average='macro'))\n",
    "print(recall_score(y_testL, result, average='macro'))\n",
    "print(f1_score(y_testL, result, average='macro'))"
   ]
  }
 ],
 "metadata": {
  "kernelspec": {
   "display_name": "python3.6",
   "language": "python",
   "name": "python3.6"
  },
  "language_info": {
   "codemirror_mode": {
    "name": "ipython",
    "version": 3
   },
   "file_extension": ".py",
   "mimetype": "text/x-python",
   "name": "python",
   "nbconvert_exporter": "python",
   "pygments_lexer": "ipython3",
   "version": "3.6.10"
  }
 },
 "nbformat": 4,
 "nbformat_minor": 5
}
